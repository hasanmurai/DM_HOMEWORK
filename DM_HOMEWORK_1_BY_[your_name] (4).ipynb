{
  "cells": [
    {
      "cell_type": "markdown",
      "id": "46f519c8",
      "metadata": {
        "id": "46f519c8"
      },
      "source": [
        "#[Your_name]"
      ]
    },
    {
      "cell_type": "markdown",
      "id": "qFly4GHQaH_2",
      "metadata": {
        "id": "qFly4GHQaH_2"
      },
      "source": [
        "<h1 style=\"text-align: center;\">Data Exploratory Analysis and Processing<h1>"
      ]
    },
    {
      "cell_type": "markdown",
      "id": "e7efe140",
      "metadata": {
        "id": "e7efe140"
      },
      "source": [
        "Prepare libraries"
      ]
    },
    {
      "cell_type": "code",
      "execution_count": 6,
      "id": "af6058ed",
      "metadata": {
        "id": "af6058ed"
      },
      "outputs": [],
      "source": [
        "# here put every import you need e.g. import pandas\n",
        "# it's better to load what you need from the package by from [] import [] instead of import the whole package\n",
        "import pandas as pd\n",
        "import numpy as np\n",
        "import matplotlib.pyplot as plt\n",
        "import plotly.graph_objects as go\n",
        "import plotly.express as px\n",
        "import re\n",
        "import seaborn as sns"
      ]
    },
    {
      "cell_type": "code",
      "execution_count": 7,
      "id": "_b6H-FLF3hz6",
      "metadata": {
        "colab": {
          "base_uri": "https://localhost:8080/"
        },
        "id": "_b6H-FLF3hz6",
        "outputId": "0588e34c-6846-46e5-ca3a-1b7866662a02"
      },
      "outputs": [],
      "source": [
        "# from google.colab import drive\n",
        "# drive.mount('/content/drive')"
      ]
    },
    {
      "cell_type": "markdown",
      "id": "229df102",
      "metadata": {
        "id": "229df102"
      },
      "source": [
        "Download data"
      ]
    },
    {
      "cell_type": "code",
      "execution_count": 8,
      "id": "5504e7ee",
      "metadata": {
        "colab": {
          "base_uri": "https://localhost:8080/"
        },
        "id": "5504e7ee",
        "outputId": "421e7fc2-d457-4f25-9604-ba991af0c403"
      },
      "outputs": [
        {
          "name": "stderr",
          "output_type": "stream",
          "text": [
            "<>:1: SyntaxWarning: invalid escape sequence '\\c'\n",
            "<>:2: SyntaxWarning: invalid escape sequence '\\c'\n",
            "<>:3: SyntaxWarning: invalid escape sequence '\\c'\n",
            "<>:1: SyntaxWarning: invalid escape sequence '\\c'\n",
            "<>:2: SyntaxWarning: invalid escape sequence '\\c'\n",
            "<>:3: SyntaxWarning: invalid escape sequence '\\c'\n",
            "C:\\Users\\Sulim\\AppData\\Local\\Temp\\ipykernel_14472\\3310154124.py:1: SyntaxWarning: invalid escape sequence '\\c'\n",
            "  CBD_boundary = pd.read_csv('chicago-traffic-dataset\\chicago-CBD-boundary.csv')\n",
            "C:\\Users\\Sulim\\AppData\\Local\\Temp\\ipykernel_14472\\3310154124.py:2: SyntaxWarning: invalid escape sequence '\\c'\n",
            "  plice_beat_boundary = pd.read_csv('chicago-traffic-dataset\\chicago-police-beat-boundries.csv')\n",
            "C:\\Users\\Sulim\\AppData\\Local\\Temp\\ipykernel_14472\\3310154124.py:3: SyntaxWarning: invalid escape sequence '\\c'\n",
            "  street_boundary = pd.read_csv('chicago-traffic-dataset\\chicago-street-center-lines.csv')\n",
            "C:\\Users\\Sulim\\AppData\\Local\\Temp\\ipykernel_14472\\3310154124.py:4: DtypeWarning: Columns (19,23,24,25,28) have mixed types. Specify dtype option on import or set low_memory=False.\n",
            "  crashes_people = pd.read_csv('chicago-traffic-dataset/traffic-crashes-people.csv')\n",
            "C:\\Users\\Sulim\\AppData\\Local\\Temp\\ipykernel_14472\\3310154124.py:5: DtypeWarning: Columns (17,19,38,39,40,42,46,47,48,51,53,56,57,58,59,69) have mixed types. Specify dtype option on import or set low_memory=False.\n",
            "  crashes_vehicles=pd.read_csv('chicago-traffic-dataset/traffic-crashes-vehicles.csv')\n"
          ]
        }
      ],
      "source": [
        "CBD_boundary = pd.read_csv('chicago-traffic-dataset\\chicago-CBD-boundary.csv')\n",
        "plice_beat_boundary = pd.read_csv('chicago-traffic-dataset\\chicago-police-beat-boundries.csv')\n",
        "street_boundary = pd.read_csv('chicago-traffic-dataset\\chicago-street-center-lines.csv')\n",
        "crashes_people = pd.read_csv('chicago-traffic-dataset/traffic-crashes-people.csv')\n",
        "crashes_vehicles=pd.read_csv('chicago-traffic-dataset/traffic-crashes-vehicles.csv')\n",
        "crashes = pd.read_csv('chicago-traffic-dataset/traffic-crashes.csv')"
      ]
    },
    {
      "cell_type": "markdown",
      "id": "dRnuqFHaaIAJ",
      "metadata": {
        "id": "dRnuqFHaaIAJ"
      },
      "source": [
        "<h2 dir=\"rtl\">مثال عن كيفية تنظيم حلول الطلبات:</h2>"
      ]
    },
    {
      "cell_type": "markdown",
      "id": "8E7xa9XLPW8t",
      "metadata": {
        "id": "8E7xa9XLPW8t"
      },
      "source": [
        "\n",
        "<div dir=\"rtl\">شرح ما يقوم به الكود (like code documentation)<div>"
      ]
    },
    {
      "cell_type": "code",
      "execution_count": 9,
      "id": "d41a9612",
      "metadata": {
        "colab": {
          "base_uri": "https://localhost:8080/",
          "height": 446
        },
        "id": "d41a9612",
        "outputId": "84f186b1-7395-4634-f2ba-5b13828d4dcd"
      },
      "outputs": [
        {
          "data": {
            "text/html": [
              "<div>\n",
              "<style scoped>\n",
              "    .dataframe tbody tr th:only-of-type {\n",
              "        vertical-align: middle;\n",
              "    }\n",
              "\n",
              "    .dataframe tbody tr th {\n",
              "        vertical-align: top;\n",
              "    }\n",
              "\n",
              "    .dataframe thead th {\n",
              "        text-align: right;\n",
              "    }\n",
              "</style>\n",
              "<table border=\"1\" class=\"dataframe\">\n",
              "  <thead>\n",
              "    <tr style=\"text-align: right;\">\n",
              "      <th></th>\n",
              "      <th>PERSON_ID</th>\n",
              "      <th>PERSON_TYPE</th>\n",
              "      <th>CRASH_RECORD_ID</th>\n",
              "      <th>VEHICLE_ID</th>\n",
              "      <th>CRASH_DATE</th>\n",
              "      <th>SEAT_NO</th>\n",
              "      <th>CITY</th>\n",
              "      <th>STATE</th>\n",
              "      <th>ZIPCODE</th>\n",
              "      <th>SEX</th>\n",
              "      <th>...</th>\n",
              "      <th>EMS_RUN_NO</th>\n",
              "      <th>DRIVER_ACTION</th>\n",
              "      <th>DRIVER_VISION</th>\n",
              "      <th>PHYSICAL_CONDITION</th>\n",
              "      <th>PEDPEDAL_ACTION</th>\n",
              "      <th>PEDPEDAL_VISIBILITY</th>\n",
              "      <th>PEDPEDAL_LOCATION</th>\n",
              "      <th>BAC_RESULT</th>\n",
              "      <th>BAC_RESULT VALUE</th>\n",
              "      <th>CELL_PHONE_USE</th>\n",
              "    </tr>\n",
              "  </thead>\n",
              "  <tbody>\n",
              "    <tr>\n",
              "      <th>0</th>\n",
              "      <td>O749947</td>\n",
              "      <td>DRIVER</td>\n",
              "      <td>81dc0de2ed92aa62baccab641fa377be7feb1cc47e6554...</td>\n",
              "      <td>834816.0</td>\n",
              "      <td>09/28/2019 03:30:00 AM</td>\n",
              "      <td>NaN</td>\n",
              "      <td>CHICAGO</td>\n",
              "      <td>IL</td>\n",
              "      <td>60651</td>\n",
              "      <td>M</td>\n",
              "      <td>...</td>\n",
              "      <td>NaN</td>\n",
              "      <td>UNKNOWN</td>\n",
              "      <td>UNKNOWN</td>\n",
              "      <td>UNKNOWN</td>\n",
              "      <td>NaN</td>\n",
              "      <td>NaN</td>\n",
              "      <td>NaN</td>\n",
              "      <td>TEST NOT OFFERED</td>\n",
              "      <td>NaN</td>\n",
              "      <td>NaN</td>\n",
              "    </tr>\n",
              "    <tr>\n",
              "      <th>1</th>\n",
              "      <td>O871921</td>\n",
              "      <td>DRIVER</td>\n",
              "      <td>af84fb5c8d996fcd3aefd36593c3a02e6e7509eeb27568...</td>\n",
              "      <td>827212.0</td>\n",
              "      <td>04/13/2020 10:50:00 PM</td>\n",
              "      <td>NaN</td>\n",
              "      <td>CHICAGO</td>\n",
              "      <td>IL</td>\n",
              "      <td>60620</td>\n",
              "      <td>M</td>\n",
              "      <td>...</td>\n",
              "      <td>NaN</td>\n",
              "      <td>NONE</td>\n",
              "      <td>NOT OBSCURED</td>\n",
              "      <td>NORMAL</td>\n",
              "      <td>NaN</td>\n",
              "      <td>NaN</td>\n",
              "      <td>NaN</td>\n",
              "      <td>TEST NOT OFFERED</td>\n",
              "      <td>NaN</td>\n",
              "      <td>NaN</td>\n",
              "    </tr>\n",
              "    <tr>\n",
              "      <th>2</th>\n",
              "      <td>O10018</td>\n",
              "      <td>DRIVER</td>\n",
              "      <td>71162af7bf22799b776547132ebf134b5b438dcf3dac6b...</td>\n",
              "      <td>9579.0</td>\n",
              "      <td>11/01/2015 05:00:00 AM</td>\n",
              "      <td>NaN</td>\n",
              "      <td>NaN</td>\n",
              "      <td>NaN</td>\n",
              "      <td>NaN</td>\n",
              "      <td>X</td>\n",
              "      <td>...</td>\n",
              "      <td>NaN</td>\n",
              "      <td>IMPROPER BACKING</td>\n",
              "      <td>UNKNOWN</td>\n",
              "      <td>UNKNOWN</td>\n",
              "      <td>NaN</td>\n",
              "      <td>NaN</td>\n",
              "      <td>NaN</td>\n",
              "      <td>TEST NOT OFFERED</td>\n",
              "      <td>NaN</td>\n",
              "      <td>NaN</td>\n",
              "    </tr>\n",
              "    <tr>\n",
              "      <th>3</th>\n",
              "      <td>O10038</td>\n",
              "      <td>DRIVER</td>\n",
              "      <td>c21c476e2ccc41af550b5d858d22aaac4ffc88745a1700...</td>\n",
              "      <td>9598.0</td>\n",
              "      <td>11/01/2015 08:00:00 AM</td>\n",
              "      <td>NaN</td>\n",
              "      <td>NaN</td>\n",
              "      <td>NaN</td>\n",
              "      <td>NaN</td>\n",
              "      <td>X</td>\n",
              "      <td>...</td>\n",
              "      <td>NaN</td>\n",
              "      <td>UNKNOWN</td>\n",
              "      <td>UNKNOWN</td>\n",
              "      <td>UNKNOWN</td>\n",
              "      <td>NaN</td>\n",
              "      <td>NaN</td>\n",
              "      <td>NaN</td>\n",
              "      <td>TEST NOT OFFERED</td>\n",
              "      <td>NaN</td>\n",
              "      <td>NaN</td>\n",
              "    </tr>\n",
              "    <tr>\n",
              "      <th>4</th>\n",
              "      <td>O10039</td>\n",
              "      <td>DRIVER</td>\n",
              "      <td>eb390a4c8e114c69488f5fb8a097fe629f5a92fd528cf4...</td>\n",
              "      <td>9600.0</td>\n",
              "      <td>11/01/2015 10:15:00 AM</td>\n",
              "      <td>NaN</td>\n",
              "      <td>NaN</td>\n",
              "      <td>NaN</td>\n",
              "      <td>NaN</td>\n",
              "      <td>X</td>\n",
              "      <td>...</td>\n",
              "      <td>NaN</td>\n",
              "      <td>UNKNOWN</td>\n",
              "      <td>UNKNOWN</td>\n",
              "      <td>UNKNOWN</td>\n",
              "      <td>NaN</td>\n",
              "      <td>NaN</td>\n",
              "      <td>NaN</td>\n",
              "      <td>TEST NOT OFFERED</td>\n",
              "      <td>NaN</td>\n",
              "      <td>NaN</td>\n",
              "    </tr>\n",
              "  </tbody>\n",
              "</table>\n",
              "<p>5 rows × 29 columns</p>\n",
              "</div>"
            ],
            "text/plain": [
              "  PERSON_ID PERSON_TYPE                                    CRASH_RECORD_ID  \\\n",
              "0   O749947      DRIVER  81dc0de2ed92aa62baccab641fa377be7feb1cc47e6554...   \n",
              "1   O871921      DRIVER  af84fb5c8d996fcd3aefd36593c3a02e6e7509eeb27568...   \n",
              "2    O10018      DRIVER  71162af7bf22799b776547132ebf134b5b438dcf3dac6b...   \n",
              "3    O10038      DRIVER  c21c476e2ccc41af550b5d858d22aaac4ffc88745a1700...   \n",
              "4    O10039      DRIVER  eb390a4c8e114c69488f5fb8a097fe629f5a92fd528cf4...   \n",
              "\n",
              "   VEHICLE_ID              CRASH_DATE  SEAT_NO     CITY STATE ZIPCODE SEX  \\\n",
              "0    834816.0  09/28/2019 03:30:00 AM      NaN  CHICAGO    IL   60651   M   \n",
              "1    827212.0  04/13/2020 10:50:00 PM      NaN  CHICAGO    IL   60620   M   \n",
              "2      9579.0  11/01/2015 05:00:00 AM      NaN      NaN   NaN     NaN   X   \n",
              "3      9598.0  11/01/2015 08:00:00 AM      NaN      NaN   NaN     NaN   X   \n",
              "4      9600.0  11/01/2015 10:15:00 AM      NaN      NaN   NaN     NaN   X   \n",
              "\n",
              "   ...  EMS_RUN_NO     DRIVER_ACTION DRIVER_VISION PHYSICAL_CONDITION  \\\n",
              "0  ...         NaN           UNKNOWN       UNKNOWN            UNKNOWN   \n",
              "1  ...         NaN              NONE  NOT OBSCURED             NORMAL   \n",
              "2  ...         NaN  IMPROPER BACKING       UNKNOWN            UNKNOWN   \n",
              "3  ...         NaN           UNKNOWN       UNKNOWN            UNKNOWN   \n",
              "4  ...         NaN           UNKNOWN       UNKNOWN            UNKNOWN   \n",
              "\n",
              "  PEDPEDAL_ACTION PEDPEDAL_VISIBILITY PEDPEDAL_LOCATION        BAC_RESULT  \\\n",
              "0             NaN                 NaN               NaN  TEST NOT OFFERED   \n",
              "1             NaN                 NaN               NaN  TEST NOT OFFERED   \n",
              "2             NaN                 NaN               NaN  TEST NOT OFFERED   \n",
              "3             NaN                 NaN               NaN  TEST NOT OFFERED   \n",
              "4             NaN                 NaN               NaN  TEST NOT OFFERED   \n",
              "\n",
              "  BAC_RESULT VALUE CELL_PHONE_USE  \n",
              "0              NaN            NaN  \n",
              "1              NaN            NaN  \n",
              "2              NaN            NaN  \n",
              "3              NaN            NaN  \n",
              "4              NaN            NaN  \n",
              "\n",
              "[5 rows x 29 columns]"
            ]
          },
          "execution_count": 9,
          "metadata": {},
          "output_type": "execute_result"
        }
      ],
      "source": [
        "# your code here\n",
        "crashes_people.head()"
      ]
    },
    {
      "cell_type": "markdown",
      "id": "3HxVHF6WbTzP",
      "metadata": {
        "id": "3HxVHF6WbTzP"
      },
      "source": [
        "\n",
        "<div dir=\"rtl\">الاستنتاج<div>"
      ]
    },
    {
      "cell_type": "markdown",
      "id": "d9NfyVxZQXF7",
      "metadata": {
        "id": "d9NfyVxZQXF7"
      },
      "source": [
        "<div dir=\"rtl\">ملاحظاتك في حال وجودها</div>\n",
        "<div dir=\"rtl\">يمكنك إضافة خلايا لكل طلب بقدر ما تشاء، المهم أن تحافظ على تنظيم الملف</div>"
      ]
    },
    {
      "cell_type": "markdown",
      "id": "3400638b",
      "metadata": {
        "id": "3400638b"
      },
      "source": [
        "# Question [1]: Data Cleaning & Integration"
      ]
    },
    {
      "cell_type": "markdown",
      "id": "YkeNK0jKaIAV",
      "metadata": {
        "id": "YkeNK0jKaIAV"
      },
      "source": [
        "## [a] Fill Gaps"
      ]
    },
    {
      "cell_type": "markdown",
      "id": "9ksxpKgkb2w2",
      "metadata": {
        "id": "9ksxpKgkb2w2"
      },
      "source": [
        "### [1]"
      ]
    },
    {
      "cell_type": "markdown",
      "id": "168ba833",
      "metadata": {
        "id": "168ba833"
      },
      "source": [
        "## CRASHES_PEOPLE ##"
      ]
    },
    {
      "cell_type": "code",
      "execution_count": 10,
      "id": "d67a9f95",
      "metadata": {
        "colab": {
          "base_uri": "https://localhost:8080/"
        },
        "id": "d67a9f95",
        "outputId": "376ffb4e-1a95-417f-cab1-6b626f91a575"
      },
      "outputs": [
        {
          "name": "stdout",
          "output_type": "stream",
          "text": [
            "shape is (1808605, 29)\n",
            "PERSON_ID                      0\n",
            "PERSON_TYPE                    0\n",
            "CRASH_RECORD_ID                0\n",
            "VEHICLE_ID                 36177\n",
            "CRASH_DATE                     0\n",
            "SEAT_NO                  1443028\n",
            "CITY                      492062\n",
            "STATE                     472632\n",
            "ZIPCODE                   600317\n",
            "SEX                        29978\n",
            "AGE                       527939\n",
            "DRIVERS_LICENSE_STATE     748686\n",
            "DRIVERS_LICENSE_CLASS     922585\n",
            "SAFETY_EQUIPMENT            5061\n",
            "AIRBAG_DEPLOYED            34799\n",
            "EJECTION                   22453\n",
            "INJURY_CLASSIFICATION        729\n",
            "HOSPITAL                 1509447\n",
            "EMS_AGENCY               1623522\n",
            "EMS_RUN_NO               1777884\n",
            "DRIVER_ACTION             368819\n",
            "DRIVER_VISION             369365\n",
            "PHYSICAL_CONDITION        367836\n",
            "PEDPEDAL_ACTION          1774170\n",
            "PEDPEDAL_VISIBILITY      1774235\n",
            "PEDPEDAL_LOCATION        1774172\n",
            "BAC_RESULT                367837\n",
            "BAC_RESULT VALUE         1806583\n",
            "CELL_PHONE_USE           1807446\n"
          ]
        }
      ],
      "source": [
        "# first of all lets discover the shape of crashes_people data\n",
        "# discover columns name and count the mesiing values in each column\n",
        "print(f'shape is {crashes_people.shape}')\n",
        "print(crashes_people.isnull().sum().to_string())"
      ]
    },
    {
      "cell_type": "markdown",
      "id": "cc2ddb39",
      "metadata": {
        "id": "cc2ddb39"
      },
      "source": [
        "FIrst of all let's drop some columns like (STATE and ZIPCODE) the rule of these 2 columns to identify the location just like CITY and we already know that the crashes are in chicago city so lets drop them"
      ]
    },
    {
      "cell_type": "code",
      "execution_count": 11,
      "id": "d787b4c8",
      "metadata": {
        "id": "d787b4c8"
      },
      "outputs": [],
      "source": [
        "crashes_people.drop([\"STATE\",\"ZIPCODE\"],axis=1, inplace=True)"
      ]
    },
    {
      "cell_type": "markdown",
      "id": "41c33743",
      "metadata": {
        "id": "41c33743"
      },
      "source": [
        "we notice that there are to much of messing values in different columns.\n",
        "so let's dive in the data and discover WTF is going here.\n",
        "let's start with SEAT_NO column. by looking at the data we notice that most messing value in this column has driver person_type so let's be sure about that.  \n",
        "first we will look at unique values of person types and we will compare between the messing SEAT_NO values and the person type value\n"
      ]
    },
    {
      "cell_type": "code",
      "execution_count": 12,
      "id": "1fd2b7ed",
      "metadata": {
        "colab": {
          "base_uri": "https://localhost:8080/"
        },
        "id": "1fd2b7ed",
        "outputId": "8ef3007d-89fd-4454-e943-96dfa8d10f83"
      },
      "outputs": [
        {
          "data": {
            "text/plain": [
              "array(['DRIVER', 'PASSENGER', 'PEDESTRIAN', 'BICYCLE',\n",
              "       'NON-MOTOR VEHICLE', 'NON-CONTACT VEHICLE'], dtype=object)"
            ]
          },
          "execution_count": 12,
          "metadata": {},
          "output_type": "execute_result"
        }
      ],
      "source": [
        "unique_per_typ_vals=crashes_people[\"PERSON_TYPE\"].unique()\n",
        "unique_per_typ_vals\n"
      ]
    },
    {
      "cell_type": "code",
      "execution_count": 13,
      "id": "CtEYnanxaIAV",
      "metadata": {
        "id": "CtEYnanxaIAV"
      },
      "outputs": [],
      "source": [
        "crashes_people['mess_seat_no']=None\n",
        "for typ in list(unique_per_typ_vals):\n",
        "    crashes_people.loc[(crashes_people['SEAT_NO'].isnull()) & (crashes_people['PERSON_TYPE'] == typ), 'mess_seat_no'] = typ"
      ]
    },
    {
      "cell_type": "code",
      "execution_count": 14,
      "id": "e27561ad",
      "metadata": {
        "colab": {
          "base_uri": "https://localhost:8080/"
        },
        "id": "e27561ad",
        "outputId": "3016879e-7bc6-40e9-90e6-5295a0be8f7a"
      },
      "outputs": [
        {
          "data": {
            "text/plain": [
              "array(['DRIVER', None, 'PEDESTRIAN', 'BICYCLE', 'NON-MOTOR VEHICLE',\n",
              "       'NON-CONTACT VEHICLE'], dtype=object)"
            ]
          },
          "execution_count": 14,
          "metadata": {},
          "output_type": "execute_result"
        }
      ],
      "source": [
        "crashes_people['mess_seat_no'].unique()"
      ]
    },
    {
      "cell_type": "code",
      "execution_count": 15,
      "id": "53c9fe30",
      "metadata": {
        "colab": {
          "base_uri": "https://localhost:8080/"
        },
        "id": "53c9fe30",
        "outputId": "565a8e7a-9628-41e6-b2b6-d90bd679bc69"
      },
      "outputs": [
        {
          "name": "stdout",
          "output_type": "stream",
          "text": [
            "count_missing_DRIVER_seat_no 1407381\n",
            "count_DRIVER 1407381\n",
            "count_missing_PEDESTRIAN_seat_no 21142\n",
            "count_PEDESTRIAN 21142\n",
            "count_missing_BICYCLE_seat_no 12725\n",
            "count_BICYCLE 12725\n",
            "count_missing_NON-MOTOR VEHICLE_seat_no 1474\n",
            "count_NON-MOTOR VEHICLE 1474\n",
            "count_missing_NON-CONTACT VEHICLE_seat_no 306\n",
            "count_NON-CONTACT VEHICLE 306\n"
          ]
        }
      ],
      "source": [
        "for typ in unique_per_typ_vals:\n",
        "    if typ!=\"PASSENGER\":\n",
        "        count=crashes_people['mess_seat_no'].value_counts()[typ]\n",
        "        print(f'count_missing_{typ}_seat_no {count}')\n",
        "        count_type=crashes_people['PERSON_TYPE'].value_counts()[typ]\n",
        "        print(f'count_{typ} {count_type}')"
      ]
    },
    {
      "cell_type": "code",
      "execution_count": 16,
      "id": "43c9ee9e",
      "metadata": {
        "colab": {
          "base_uri": "https://localhost:8080/"
        },
        "id": "43c9ee9e",
        "outputId": "350e6773-1efa-44ec-bcc6-7ffd510b13af"
      },
      "outputs": [
        {
          "name": "stdout",
          "output_type": "stream",
          "text": [
            "Messing SEAT_NO value 0\n"
          ]
        }
      ],
      "source": [
        "for typ in unique_per_typ_vals:\n",
        "    if typ!=\"PASSENGER\":\n",
        "        crashes_people['SEAT_NO'] = np.where(crashes_people['PERSON_TYPE'] == typ, 0 if typ==\"DRIVER\" else -1, crashes_people['SEAT_NO'])\n",
        "count_missing_seat_no=crashes_people['SEAT_NO'].isnull().sum()\n",
        "print(f'Messing SEAT_NO value {count_missing_seat_no}')\n",
        "crashes_people.drop(['mess_seat_no'],axis=1,inplace=True)\n"
      ]
    },
    {
      "cell_type": "markdown",
      "id": "f42be80c",
      "metadata": {
        "id": "f42be80c"
      },
      "source": [
        "We replaced the SEAT_NO messing values of DRIVERS with 0 because that the PASSENGERS have SEAT_NO from 1 to 12 so we considered that the DRIVER has 0 SEAT_NO and THE OTHERS who arent in the vehiacle has -1 SEAT_NO.  \n",
        "\n",
        "NOW let's move to another column 😁😁"
      ]
    },
    {
      "cell_type": "markdown",
      "id": "a1ae8ed6",
      "metadata": {
        "id": "a1ae8ed6"
      },
      "source": [
        "Now let's have a look on Vehicle ID and do the following:  \n",
        "<ul>\n",
        "    <li>etrieve the rows where the \"VEHICLE_ID\" column is NaN (missing). The resulting DataFrame is stored in the variable missing_VID.</li>\n",
        "    <li>loop over them and update the veihcle id with the value from crashes_vehicle when the crash record ids are equaled</li>\n",
        "</ul>"
      ]
    },
    {
      "cell_type": "code",
      "execution_count": 17,
      "id": "2ac5094e",
      "metadata": {
        "colab": {
          "base_uri": "https://localhost:8080/"
        },
        "id": "2ac5094e",
        "outputId": "e131c189-0826-4f41-85a1-1c0501867b76"
      },
      "outputs": [
        {
          "name": "stdout",
          "output_type": "stream",
          "text": [
            "messing values in vehicle id column: 36177\n",
            "messing values in vehicle id column: 168\n"
          ]
        }
      ],
      "source": [
        "print(f'messing values in vehicle id column: {crashes_people[\"VEHICLE_ID\"].isnull().sum()}')\n",
        "messing_VID=crashes_people[crashes_people[\"VEHICLE_ID\"].isna()]\n",
        "\n",
        "CRASH_RECORD_IDS=messing_VID[\"CRASH_RECORD_ID\"].tolist()\n",
        "missing_VIDS = crashes_vehicles[crashes_vehicles['CRASH_RECORD_ID'].isin(CRASH_RECORD_IDS)]\n",
        "missing_VIDS =missing_VIDS[missing_VIDS[\"VEHICLE_ID\"].notna()]\n",
        "missing_VIDS = missing_VIDS[[\"VEHICLE_ID\",\"CRASH_RECORD_ID\"]]\n",
        "vehicle_id_mapping = missing_VIDS.set_index(\"CRASH_RECORD_ID\")[\"VEHICLE_ID\"].to_dict()\n",
        "crashes_people[\"VEHICLE_ID\"] = crashes_people.apply(\n",
        "    lambda row: vehicle_id_mapping[row[\"CRASH_RECORD_ID\"]] if( pd.isna(row[\"VEHICLE_ID\"]) and row[\"CRASH_RECORD_ID\"] in vehicle_id_mapping.keys()) else row[\"VEHICLE_ID\"],\n",
        "    axis=1\n",
        ")\n",
        "print(f'messing values in vehicle id column: {crashes_people[\"VEHICLE_ID\"].isnull().sum()}')\n",
        "\n"
      ]
    },
    {
      "cell_type": "markdown",
      "id": "4c6e7d61",
      "metadata": {
        "id": "4c6e7d61"
      },
      "source": [
        "let's fill the messing values on vehicle_id when the person type is PEDESTRIAN with -1 value which means there is no vehicle"
      ]
    },
    {
      "cell_type": "code",
      "execution_count": 18,
      "id": "937ae13d",
      "metadata": {
        "colab": {
          "base_uri": "https://localhost:8080/"
        },
        "id": "937ae13d",
        "outputId": "36f22c55-b5a1-4960-c0cc-b6d4995e230e"
      },
      "outputs": [
        {
          "name": "stdout",
          "output_type": "stream",
          "text": [
            "count of PEDESTRIAN that the VEHICLE_ID is nan is: 4\n",
            "count of PEDESTRIAN that the VEHICLE_ID is nan is: 0\n"
          ]
        }
      ],
      "source": [
        "count=((crashes_people[\"PERSON_TYPE\"]==\"PEDESTRIAN\") & (crashes_people[\"VEHICLE_ID\"].isnull())).sum()\n",
        "print(f'count of PEDESTRIAN that the VEHICLE_ID is nan is: {count}')\n",
        "crashes_people['VEHICLE_ID'] = np.where(crashes_people['PERSON_TYPE'] == \"PEDESTRIAN\", -1, crashes_people['VEHICLE_ID'])\n",
        "count=((crashes_people[\"PERSON_TYPE\"]==\"PEDESTRIAN\") & (crashes_people[\"VEHICLE_ID\"].isnull())).sum()\n",
        "print(f'count of PEDESTRIAN that the VEHICLE_ID is nan is: {count}')"
      ]
    },
    {
      "cell_type": "markdown",
      "id": "3347e090",
      "metadata": {
        "id": "3347e090"
      },
      "source": [
        "Now let's have a look in CITY column and since we know the crashes are in CHICAGO city let's replace messing values with CHICAGO value.\n"
      ]
    },
    {
      "cell_type": "code",
      "execution_count": 19,
      "id": "5f2ff53f",
      "metadata": {
        "colab": {
          "base_uri": "https://localhost:8080/"
        },
        "id": "5f2ff53f",
        "outputId": "90caea89-2638-4cc9-c7a8-2308dfe5d8db"
      },
      "outputs": [
        {
          "data": {
            "text/plain": [
              "0"
            ]
          },
          "execution_count": 19,
          "metadata": {},
          "output_type": "execute_result"
        }
      ],
      "source": [
        "crashes_people[\"CITY\"]=crashes_people['CITY'].fillna(\"CHICAGO\")\n",
        "crashes_people['CITY'].isnull().sum()"
      ]
    },
    {
      "cell_type": "markdown",
      "id": "ee551851",
      "metadata": {
        "id": "ee551851"
      },
      "source": [
        "Now let's look at the AGE column and do the following steps:  \n",
        "<ul>\n",
        " <li>store the positive ages in anew column</li>\n",
        " <li>calculate the mean of positive ages</li>\n",
        " <li>replace negative ages with 0 value</li>\n",
        " <li>replace 0 ages with mean value</li>\n",
        " <li>replace nan ages with mean value</li>\n",
        "</ul>"
      ]
    },
    {
      "cell_type": "code",
      "execution_count": 20,
      "id": "a539d06c",
      "metadata": {
        "colab": {
          "base_uri": "https://localhost:8080/"
        },
        "id": "a539d06c",
        "outputId": "b8ba5a7d-2c6b-4ab6-a966-abbab131d24c"
      },
      "outputs": [
        {
          "name": "stdout",
          "output_type": "stream",
          "text": [
            "mean of ages is:38\n"
          ]
        },
        {
          "data": {
            "text/plain": [
              "0"
            ]
          },
          "execution_count": 20,
          "metadata": {},
          "output_type": "execute_result"
        }
      ],
      "source": [
        "crashes_people['positave_ages']=crashes_people.loc[crashes_people['AGE']>0,'AGE']\n",
        "mean_of_ages=crashes_people['positave_ages'].mean()\n",
        "print(f'mean of ages is:{round(mean_of_ages)}')\n",
        "crashes_people['AGE']=crashes_people['AGE'].apply(lambda x: max(x, 0))\n",
        "crashes_people['AGE']=crashes_people['AGE'].replace(0,mean_of_ages)\n",
        "crashes_people['AGE']=crashes_people['AGE'].fillna(mean_of_ages)\n",
        "crashes_people['AGE'].isnull().sum()\n"
      ]
    },
    {
      "cell_type": "markdown",
      "id": "eb8c3c6e",
      "metadata": {
        "id": "eb8c3c6e"
      },
      "source": [
        "Now let's have a look on DRIVERS_LICENSE_STATE and DRIVERS_LICENSE_CLASS  \n",
        "We Know that for people who aren't drivers they don't need a drivers license so wee will do the following steps:  \n",
        "<ul>\n",
        " <li>create a new column that store (TRUE/FALSE) based on the type of person</li>\n",
        " <li>fill nan value in DRIVERS_LICENSE_STATE with not_required if the person type is not driver</li>\n",
        " <li>fill nan value in DRIVERS_LICENSE_CLASS with not_required if the person type is not driver</li>\n",
        "</ul>"
      ]
    },
    {
      "cell_type": "code",
      "execution_count": 21,
      "id": "UVouSjCI-1_v",
      "metadata": {
        "colab": {
          "base_uri": "https://localhost:8080/"
        },
        "id": "UVouSjCI-1_v",
        "outputId": "5bff2aa3-2e81-499c-f53f-b32f0b796bcd"
      },
      "outputs": [
        {
          "data": {
            "text/plain": [
              "748686"
            ]
          },
          "execution_count": 21,
          "metadata": {},
          "output_type": "execute_result"
        }
      ],
      "source": [
        "crashes_people[\"DRIVERS_LICENSE_STATE\"].isnull().sum()"
      ]
    },
    {
      "cell_type": "code",
      "execution_count": 22,
      "id": "4bb40d53",
      "metadata": {
        "colab": {
          "base_uri": "https://localhost:8080/"
        },
        "id": "4bb40d53",
        "outputId": "c552fb18-e2c2-4cf4-8a63-dbd46e5488d8"
      },
      "outputs": [
        {
          "name": "stdout",
          "output_type": "stream",
          "text": [
            "count of PASSENGER that the DRIVERS_LICENSE_STATE is nan is: 365577\n",
            "count of PASSENGER that the DRIVERS_LICENSE_CLASS is nan is: 365577\n",
            "count of PASSENGER that the DRIVERS_LICENSE_STATE is nan is: 0\n",
            "count of PASSENGER that the DRIVERS_LICENSE_CLASS is nan is: 0\n",
            "************************************************************************************\n",
            "count of PEDESTRIAN that the DRIVERS_LICENSE_STATE is nan is: 21142\n",
            "count of PEDESTRIAN that the DRIVERS_LICENSE_CLASS is nan is: 21142\n",
            "count of PEDESTRIAN that the DRIVERS_LICENSE_STATE is nan is: 0\n",
            "count of PEDESTRIAN that the DRIVERS_LICENSE_CLASS is nan is: 0\n",
            "************************************************************************************\n",
            "count of BICYCLE that the DRIVERS_LICENSE_STATE is nan is: 12725\n",
            "count of BICYCLE that the DRIVERS_LICENSE_CLASS is nan is: 12725\n",
            "count of BICYCLE that the DRIVERS_LICENSE_STATE is nan is: 0\n",
            "count of BICYCLE that the DRIVERS_LICENSE_CLASS is nan is: 0\n",
            "************************************************************************************\n",
            "count of NON-MOTOR VEHICLE that the DRIVERS_LICENSE_STATE is nan is: 1474\n",
            "count of NON-MOTOR VEHICLE that the DRIVERS_LICENSE_CLASS is nan is: 1474\n",
            "count of NON-MOTOR VEHICLE that the DRIVERS_LICENSE_STATE is nan is: 0\n",
            "count of NON-MOTOR VEHICLE that the DRIVERS_LICENSE_CLASS is nan is: 0\n",
            "************************************************************************************\n",
            "count of NON-CONTACT VEHICLE that the DRIVERS_LICENSE_STATE is nan is: 170\n",
            "count of NON-CONTACT VEHICLE that the DRIVERS_LICENSE_CLASS is nan is: 221\n",
            "count of NON-CONTACT VEHICLE that the DRIVERS_LICENSE_STATE is nan is: 0\n",
            "count of NON-CONTACT VEHICLE that the DRIVERS_LICENSE_CLASS is nan is: 0\n",
            "************************************************************************************\n"
          ]
        }
      ],
      "source": [
        "for typ in unique_per_typ_vals:\n",
        "    if typ !=\"DRIVER\":\n",
        "        count=((crashes_people[\"PERSON_TYPE\"]==typ) & (crashes_people[\"DRIVERS_LICENSE_STATE\"].isnull())).sum()\n",
        "        count1=((crashes_people[\"PERSON_TYPE\"]==typ) & (crashes_people[\"DRIVERS_LICENSE_CLASS\"].isnull())).sum()\n",
        "\n",
        "        print(f'count of {typ} that the DRIVERS_LICENSE_STATE is nan is: {count}')\n",
        "        print(f'count of {typ} that the DRIVERS_LICENSE_CLASS is nan is: {count1}')\n",
        "\n",
        "        crashes_people['DRIVERS_LICENSE_STATE'] = np.where(crashes_people['PERSON_TYPE'] == typ, \"NOT REQUIRED\", crashes_people['DRIVERS_LICENSE_STATE'])\n",
        "        crashes_people['DRIVERS_LICENSE_CLASS'] = np.where(crashes_people['PERSON_TYPE'] == typ, \"NOT REQUIRED\", crashes_people['DRIVERS_LICENSE_CLASS'])\n",
        "\n",
        "        count=((crashes_people[\"PERSON_TYPE\"]==typ) & (crashes_people[\"DRIVERS_LICENSE_STATE\"].isnull())).sum()\n",
        "        count1=((crashes_people[\"PERSON_TYPE\"]==typ) & (crashes_people[\"DRIVERS_LICENSE_CLASS\"].isnull())).sum()\n",
        "\n",
        "        print(f'count of {typ} that the DRIVERS_LICENSE_STATE is nan is: {count}')\n",
        "        print(f'count of {typ} that the DRIVERS_LICENSE_CLASS is nan is: {count1}')\n",
        "        print(\"************************************************************************************\")"
      ]
    },
    {
      "cell_type": "markdown",
      "id": "eYO6kQw1viM0",
      "metadata": {
        "id": "eYO6kQw1viM0"
      },
      "source": [
        "Now lets use LIC_PLATE_STATE from crashes_vehicles and try to find DRIVERS_LISANCE_STATE nan value based on the VEHICLE_ID by following steps:  \n",
        "\n",
        "\n",
        "1.  Take subset of crashes_vehicles that have UNIT_TYPE==DRIVER and LIC_PLATE_STATE not nan.\n",
        "2.   Take the indexs of rows from crahes_people where PERSON_TYPE==DRIVER and DRIVERS_LICANSE_STATE is nan\n",
        "3. loop over indexes:\n",
        "    1. get the VEHICLE_ID from that row in crashes_people\n",
        "    2. get the row that has the same vehicle_id from the subset of crashes_vehicles.\n",
        "    3. update DRIVERS_LISANCE_STATE by the value of LIC_PLATE_STATE in that row\n",
        "\n",
        "\n",
        "\n",
        "\n",
        "\n"
      ]
    },
    {
      "cell_type": "code",
      "execution_count": 23,
      "id": "_Vkpr4ERlbsr",
      "metadata": {
        "id": "_Vkpr4ERlbsr"
      },
      "outputs": [],
      "source": [
        "to_search=crashes_vehicles.loc[(crashes_vehicles[\"UNIT_TYPE\"]==\"DRIVER\")&(crashes_vehicles[\"LIC_PLATE_STATE\"].notna())]"
      ]
    },
    {
      "cell_type": "markdown",
      "id": "Pum0nqRCy21U",
      "metadata": {
        "id": "Pum0nqRCy21U"
      },
      "source": [
        "This cell take alot of time be patient please 😴"
      ]
    },
    {
      "cell_type": "code",
      "execution_count": 24,
      "id": "1a428690",
      "metadata": {
        "id": "1a428690"
      },
      "outputs": [],
      "source": [
        "indexes=crashes_people.loc[(crashes_people[\"PERSON_TYPE\"]==\"DRIVER\") & (crashes_people[\"DRIVERS_LICENSE_STATE\"].isna())].index\n",
        "for index in indexes.tolist():\n",
        "  vehicle_id=crashes_people.at[index,\"VEHICLE_ID\"]\n",
        "  vehicle_row = to_search.loc[to_search['VEHICLE_ID'] == vehicle_id]\n",
        "  if not vehicle_row.empty:\n",
        "            crashes_people.at[index,'DRIVERS_LICENSE_STATE'] = vehicle_row.iloc[0]['LIC_PLATE_STATE']"
      ]
    },
    {
      "cell_type": "code",
      "execution_count": 25,
      "id": "k_poHzVTPwYt",
      "metadata": {
        "colab": {
          "base_uri": "https://localhost:8080/"
        },
        "id": "k_poHzVTPwYt",
        "outputId": "62cdbbb1-704e-480c-a8ab-cfcf8f944d0b"
      },
      "outputs": [
        {
          "name": "stdout",
          "output_type": "stream",
          "text": [
            "101351\n",
            "521446\n",
            "DRIVERS_LICENSE_CLASS\n",
            "D               771240\n",
            "NOT REQUIRED    401224\n",
            "A                31588\n",
            "C                24198\n",
            "B                24115\n",
            "                 ...  \n",
            "PP                   1\n",
            "C2                   1\n",
            "D6                   1\n",
            "A+                   1\n",
            "JR                   1\n",
            "Name: count, Length: 282, dtype: int64\n"
          ]
        }
      ],
      "source": [
        "print(crashes_people[\"DRIVERS_LICENSE_STATE\"].isnull().sum())\n",
        "print(crashes_people[\"DRIVERS_LICENSE_CLASS\"].isnull().sum())\n",
        "print(crashes_people[\"DRIVERS_LICENSE_CLASS\"].value_counts())"
      ]
    },
    {
      "cell_type": "code",
      "execution_count": 26,
      "id": "sH6oLSBOpkpK",
      "metadata": {
        "id": "sH6oLSBOpkpK"
      },
      "outputs": [],
      "source": [
        "crashes_people['DRIVERS_LICENSE_STATE'] = np.where(((crashes_people['PERSON_TYPE'] == \"DRIVER\")&crashes_people['DRIVERS_LICENSE_STATE'].isna()), \"NOT SET\", crashes_people['DRIVERS_LICENSE_STATE'])\n",
        "crashes_people['DRIVERS_LICENSE_CLASS'] = np.where(((crashes_people['PERSON_TYPE'] == \"DRIVER\")&crashes_people['DRIVERS_LICENSE_CLASS'].isna()), \"NOT SET\", crashes_people['DRIVERS_LICENSE_CLASS'])"
      ]
    },
    {
      "cell_type": "code",
      "execution_count": 27,
      "id": "WsP7wcRqp431",
      "metadata": {
        "colab": {
          "base_uri": "https://localhost:8080/"
        },
        "id": "WsP7wcRqp431",
        "outputId": "812282ef-053c-4476-d7b7-0aec568ea509"
      },
      "outputs": [
        {
          "name": "stdout",
          "output_type": "stream",
          "text": [
            "0\n",
            "0\n",
            "DRIVERS_LICENSE_CLASS\n",
            "D               771240\n",
            "NOT SET         521446\n",
            "NOT REQUIRED    401224\n",
            "A                31588\n",
            "C                24198\n",
            "                 ...  \n",
            "PP                   1\n",
            "C2                   1\n",
            "D6                   1\n",
            "A+                   1\n",
            "JR                   1\n",
            "Name: count, Length: 283, dtype: int64\n",
            "DRIVERS_LICENSE_STATE\n",
            "IL              1182591\n",
            "NOT REQUIRED     401224\n",
            "NOT SET          101351\n",
            "XX                45582\n",
            "IN                21883\n",
            "                 ...   \n",
            "LU                    1\n",
            "SL                    1\n",
            "ES                    1\n",
            "GM                    1\n",
            "YU                    1\n",
            "Name: count, Length: 212, dtype: int64\n"
          ]
        }
      ],
      "source": [
        "print(crashes_people[\"DRIVERS_LICENSE_STATE\"].isnull().sum())\n",
        "print(crashes_people[\"DRIVERS_LICENSE_CLASS\"].isnull().sum())\n",
        "print(crashes_people[\"DRIVERS_LICENSE_CLASS\"].value_counts())\n",
        "print(crashes_people[\"DRIVERS_LICENSE_STATE\"].value_counts())"
      ]
    },
    {
      "cell_type": "code",
      "execution_count": 28,
      "id": "8f533eaa",
      "metadata": {
        "colab": {
          "base_uri": "https://localhost:8080/",
          "height": 356
        },
        "id": "8f533eaa",
        "outputId": "193423f3-a4fd-4fa5-96b3-2c30c5882f47"
      },
      "outputs": [],
      "source": [
        "crashes_people.drop([\"HOSPITAL\",\"EMS_AGENCY\",\"EMS_RUN_NO\",\"PEDPEDAL_ACTION\"\n",
        "                    ,\"PEDPEDAL_VISIBILITY\",\"PEDPEDAL_LOCATION\",\n",
        "                    \"BAC_RESULT VALUE\",\"CELL_PHONE_USE\",\"positave_ages\"]\n",
        "                    ,axis=1, inplace=True)"
      ]
    },
    {
      "cell_type": "code",
      "execution_count": 29,
      "id": "db8b9c3f",
      "metadata": {
        "colab": {
          "base_uri": "https://localhost:8080/"
        },
        "id": "db8b9c3f",
        "outputId": "1af3138f-7520-4b41-e22c-4221d13186da"
      },
      "outputs": [
        {
          "data": {
            "text/plain": [
              "array([nan, 'NONE PRESENT', 'USAGE UNKNOWN', 'WHEELCHAIR',\n",
              "       'SAFETY BELT NOT USED', 'SAFETY BELT USED', 'HELMET NOT USED',\n",
              "       'HELMET USED', 'CHILD RESTRAINT - FORWARD FACING',\n",
              "       'BICYCLE HELMET (PEDACYCLIST INVOLVED ONLY)',\n",
              "       'CHILD RESTRAINT USED', 'STRETCHER',\n",
              "       'CHILD RESTRAINT - TYPE UNKNOWN', 'CHILD RESTRAINT NOT USED',\n",
              "       'DOT COMPLIANT MOTORCYCLE HELMET', 'BOOSTER SEAT'], dtype=object)"
            ]
          },
          "execution_count": 29,
          "metadata": {},
          "output_type": "execute_result"
        }
      ],
      "source": [
        "res=crashes_people[\"SAFETY_EQUIPMENT\"].where(crashes_people[\"PERSON_TYPE\"]==\"PEDESTRIAN\")\n",
        "res.unique()"
      ]
    },
    {
      "cell_type": "code",
      "execution_count": 30,
      "id": "44f23789",
      "metadata": {
        "colab": {
          "base_uri": "https://localhost:8080/"
        },
        "id": "44f23789",
        "outputId": "54977a0a-0ba1-46c3-91a8-947341d561ae"
      },
      "outputs": [
        {
          "name": "stdout",
          "output_type": "stream",
          "text": [
            "shape is (1808605, 19)\n",
            "PERSON_ID                     0\n",
            "PERSON_TYPE                   0\n",
            "CRASH_RECORD_ID               0\n",
            "VEHICLE_ID                  164\n",
            "CRASH_DATE                    0\n",
            "SEAT_NO                       0\n",
            "CITY                          0\n",
            "SEX                       29978\n",
            "AGE                           0\n",
            "DRIVERS_LICENSE_STATE         0\n",
            "DRIVERS_LICENSE_CLASS         0\n",
            "SAFETY_EQUIPMENT           5061\n",
            "AIRBAG_DEPLOYED           34799\n",
            "EJECTION                  22453\n",
            "INJURY_CLASSIFICATION       729\n",
            "DRIVER_ACTION            368819\n",
            "DRIVER_VISION            369365\n",
            "PHYSICAL_CONDITION       367836\n",
            "BAC_RESULT               367837\n"
          ]
        }
      ],
      "source": [
        "print(f'shape is {crashes_people.shape}')\n",
        "print(crashes_people.isnull().sum().to_string())"
      ]
    },
    {
      "cell_type": "code",
      "execution_count": 31,
      "id": "cd7e35a3",
      "metadata": {
        "id": "cd7e35a3"
      },
      "outputs": [],
      "source": [
        "crashes_people=crashes_people.dropna()"
      ]
    },
    {
      "cell_type": "code",
      "execution_count": 32,
      "id": "650f06b9",
      "metadata": {
        "colab": {
          "base_uri": "https://localhost:8080/"
        },
        "id": "650f06b9",
        "outputId": "b37f3924-f627-40d6-dace-afdd6f0a73dd"
      },
      "outputs": [
        {
          "name": "stdout",
          "output_type": "stream",
          "text": [
            "shape is (1407877, 19)\n",
            "PERSON_ID                0\n",
            "PERSON_TYPE              0\n",
            "CRASH_RECORD_ID          0\n",
            "VEHICLE_ID               0\n",
            "CRASH_DATE               0\n",
            "SEAT_NO                  0\n",
            "CITY                     0\n",
            "SEX                      0\n",
            "AGE                      0\n",
            "DRIVERS_LICENSE_STATE    0\n",
            "DRIVERS_LICENSE_CLASS    0\n",
            "SAFETY_EQUIPMENT         0\n",
            "AIRBAG_DEPLOYED          0\n",
            "EJECTION                 0\n",
            "INJURY_CLASSIFICATION    0\n",
            "DRIVER_ACTION            0\n",
            "DRIVER_VISION            0\n",
            "PHYSICAL_CONDITION       0\n",
            "BAC_RESULT               0\n"
          ]
        }
      ],
      "source": [
        "print(f'shape is {crashes_people.shape}')\n",
        "print(crashes_people.isnull().sum().to_string())"
      ]
    },
    {
      "cell_type": "markdown",
      "id": "8507e6b2",
      "metadata": {
        "id": "8507e6b2"
      },
      "source": [
        "## CRASHES ##"
      ]
    },
    {
      "cell_type": "code",
      "execution_count": 33,
      "id": "8ddea7a3",
      "metadata": {
        "colab": {
          "base_uri": "https://localhost:8080/"
        },
        "id": "8ddea7a3",
        "outputId": "b5c60049-f8e3-4844-9e17-ba1d59816084"
      },
      "outputs": [
        {
          "name": "stdout",
          "output_type": "stream",
          "text": [
            "shape is (823957, 47)\n",
            "CRASH_RECORD_ID                       0\n",
            "CRASH_DATE_EST_I                 762398\n",
            "CRASH_DATE                            0\n",
            "POSTED_SPEED_LIMIT                    0\n",
            "TRAFFIC_CONTROL_DEVICE                0\n",
            "DEVICE_CONDITION                      0\n",
            "WEATHER_CONDITION                     0\n",
            "LIGHTING_CONDITION                    0\n",
            "FIRST_CRASH_TYPE                      0\n",
            "TRAFFICWAY_TYPE                       0\n",
            "LANE_CNT                         624947\n",
            "ALIGNMENT                             0\n",
            "ROADWAY_SURFACE_COND                  0\n",
            "ROAD_DEFECT                           0\n",
            "REPORT_TYPE                       24578\n",
            "CRASH_TYPE                            0\n",
            "INTERSECTION_RELATED_I           635017\n",
            "NOT_RIGHT_OF_WAY_I               785972\n",
            "HIT_AND_RUN_I                    565983\n",
            "DAMAGE                                0\n",
            "DATE_POLICE_NOTIFIED                  0\n",
            "PRIM_CONTRIBUTORY_CAUSE               0\n",
            "SEC_CONTRIBUTORY_CAUSE                0\n",
            "STREET_NO                             0\n",
            "STREET_DIRECTION                      4\n",
            "STREET_NAME                           1\n",
            "BEAT_OF_OCCURRENCE                    5\n",
            "PHOTOS_TAKEN_I                   813076\n",
            "STATEMENTS_TAKEN_I               805506\n",
            "DOORING_I                        821426\n",
            "WORK_ZONE_I                      819259\n",
            "WORK_ZONE_TYPE                   820323\n",
            "WORKERS_PRESENT_I                822755\n",
            "MOST_SEVERE_INJURY                 1812\n",
            "INJURIES_TOTAL                     1799\n",
            "INJURIES_FATAL                     1799\n",
            "INJURIES_INCAPACITATING            1799\n",
            "INJURIES_NON_INCAPACITATING        1799\n",
            "INJURIES_REPORTED_NOT_EVIDENT      1799\n",
            "INJURIES_NO_INDICATION             1799\n",
            "INJURIES_UNKNOWN                   1799\n",
            "CRASH_HOUR                            0\n",
            "CRASH_DAY_OF_WEEK                     0\n",
            "CRASH_MONTH                           0\n",
            "LATITUDE                           5690\n",
            "LONGITUDE                          5690\n",
            "LOCATION                           5690\n"
          ]
        }
      ],
      "source": [
        "print(f'shape is {crashes.shape}')\n",
        "print(crashes.isnull().sum().to_string())"
      ]
    },
    {
      "cell_type": "code",
      "execution_count": 34,
      "id": "798e10a3",
      "metadata": {
        "colab": {
          "base_uri": "https://localhost:8080/",
          "height": 429
        },
        "id": "798e10a3",
        "outputId": "252a45a8-75bc-4ce4-c773-2d1d2b7a05c5"
      },
      "outputs": [
        {
          "data": {
            "text/html": [
              "<div>\n",
              "<style scoped>\n",
              "    .dataframe tbody tr th:only-of-type {\n",
              "        vertical-align: middle;\n",
              "    }\n",
              "\n",
              "    .dataframe tbody tr th {\n",
              "        vertical-align: top;\n",
              "    }\n",
              "\n",
              "    .dataframe thead th {\n",
              "        text-align: right;\n",
              "    }\n",
              "</style>\n",
              "<table border=\"1\" class=\"dataframe\">\n",
              "  <thead>\n",
              "    <tr style=\"text-align: right;\">\n",
              "      <th></th>\n",
              "      <th>CRASH_RECORD_ID</th>\n",
              "      <th>CRASH_DATE_EST_I</th>\n",
              "      <th>CRASH_DATE</th>\n",
              "      <th>POSTED_SPEED_LIMIT</th>\n",
              "      <th>TRAFFIC_CONTROL_DEVICE</th>\n",
              "      <th>DEVICE_CONDITION</th>\n",
              "      <th>WEATHER_CONDITION</th>\n",
              "      <th>LIGHTING_CONDITION</th>\n",
              "      <th>FIRST_CRASH_TYPE</th>\n",
              "      <th>TRAFFICWAY_TYPE</th>\n",
              "      <th>...</th>\n",
              "      <th>INJURIES_NON_INCAPACITATING</th>\n",
              "      <th>INJURIES_REPORTED_NOT_EVIDENT</th>\n",
              "      <th>INJURIES_NO_INDICATION</th>\n",
              "      <th>INJURIES_UNKNOWN</th>\n",
              "      <th>CRASH_HOUR</th>\n",
              "      <th>CRASH_DAY_OF_WEEK</th>\n",
              "      <th>CRASH_MONTH</th>\n",
              "      <th>LATITUDE</th>\n",
              "      <th>LONGITUDE</th>\n",
              "      <th>LOCATION</th>\n",
              "    </tr>\n",
              "  </thead>\n",
              "  <tbody>\n",
              "    <tr>\n",
              "      <th>0</th>\n",
              "      <td>6c1659069e9c6285a650e70d6f9b574ed5f64c12888479...</td>\n",
              "      <td>NaN</td>\n",
              "      <td>08/18/2023 12:50:00 PM</td>\n",
              "      <td>15</td>\n",
              "      <td>OTHER</td>\n",
              "      <td>FUNCTIONING PROPERLY</td>\n",
              "      <td>CLEAR</td>\n",
              "      <td>DAYLIGHT</td>\n",
              "      <td>REAR END</td>\n",
              "      <td>OTHER</td>\n",
              "      <td>...</td>\n",
              "      <td>1.0</td>\n",
              "      <td>0.0</td>\n",
              "      <td>1.0</td>\n",
              "      <td>0.0</td>\n",
              "      <td>12</td>\n",
              "      <td>6</td>\n",
              "      <td>8</td>\n",
              "      <td>NaN</td>\n",
              "      <td>NaN</td>\n",
              "      <td>NaN</td>\n",
              "    </tr>\n",
              "    <tr>\n",
              "      <th>1</th>\n",
              "      <td>5f54a59fcb087b12ae5b1acff96a3caf4f2d37e79f8db4...</td>\n",
              "      <td>NaN</td>\n",
              "      <td>07/29/2023 02:45:00 PM</td>\n",
              "      <td>30</td>\n",
              "      <td>TRAFFIC SIGNAL</td>\n",
              "      <td>FUNCTIONING PROPERLY</td>\n",
              "      <td>CLEAR</td>\n",
              "      <td>DAYLIGHT</td>\n",
              "      <td>PARKED MOTOR VEHICLE</td>\n",
              "      <td>DIVIDED - W/MEDIAN (NOT RAISED)</td>\n",
              "      <td>...</td>\n",
              "      <td>0.0</td>\n",
              "      <td>0.0</td>\n",
              "      <td>1.0</td>\n",
              "      <td>0.0</td>\n",
              "      <td>14</td>\n",
              "      <td>7</td>\n",
              "      <td>7</td>\n",
              "      <td>41.854120</td>\n",
              "      <td>-87.665902</td>\n",
              "      <td>POINT (-87.665902342962 41.854120262952)</td>\n",
              "    </tr>\n",
              "    <tr>\n",
              "      <th>2</th>\n",
              "      <td>61fcb8c1eb522a6469b460e2134df3d15f82e81fd93e9c...</td>\n",
              "      <td>NaN</td>\n",
              "      <td>08/18/2023 05:58:00 PM</td>\n",
              "      <td>30</td>\n",
              "      <td>NO CONTROLS</td>\n",
              "      <td>NO CONTROLS</td>\n",
              "      <td>CLEAR</td>\n",
              "      <td>DAYLIGHT</td>\n",
              "      <td>PEDALCYCLIST</td>\n",
              "      <td>NOT DIVIDED</td>\n",
              "      <td>...</td>\n",
              "      <td>1.0</td>\n",
              "      <td>0.0</td>\n",
              "      <td>1.0</td>\n",
              "      <td>0.0</td>\n",
              "      <td>17</td>\n",
              "      <td>6</td>\n",
              "      <td>8</td>\n",
              "      <td>41.942976</td>\n",
              "      <td>-87.761883</td>\n",
              "      <td>POINT (-87.761883496974 41.942975745006)</td>\n",
              "    </tr>\n",
              "    <tr>\n",
              "      <th>3</th>\n",
              "      <td>004cd14d0303a9163aad69a2d7f341b7da2a8572b2ab33...</td>\n",
              "      <td>NaN</td>\n",
              "      <td>11/26/2019 08:38:00 AM</td>\n",
              "      <td>25</td>\n",
              "      <td>NO CONTROLS</td>\n",
              "      <td>NO CONTROLS</td>\n",
              "      <td>CLEAR</td>\n",
              "      <td>DAYLIGHT</td>\n",
              "      <td>PEDESTRIAN</td>\n",
              "      <td>ONE-WAY</td>\n",
              "      <td>...</td>\n",
              "      <td>0.0</td>\n",
              "      <td>0.0</td>\n",
              "      <td>1.0</td>\n",
              "      <td>0.0</td>\n",
              "      <td>8</td>\n",
              "      <td>3</td>\n",
              "      <td>11</td>\n",
              "      <td>NaN</td>\n",
              "      <td>NaN</td>\n",
              "      <td>NaN</td>\n",
              "    </tr>\n",
              "    <tr>\n",
              "      <th>4</th>\n",
              "      <td>a1d5f0ea90897745365a4cbb06cc60329a120d89753fac...</td>\n",
              "      <td>NaN</td>\n",
              "      <td>08/18/2023 10:45:00 AM</td>\n",
              "      <td>20</td>\n",
              "      <td>NO CONTROLS</td>\n",
              "      <td>NO CONTROLS</td>\n",
              "      <td>CLEAR</td>\n",
              "      <td>DAYLIGHT</td>\n",
              "      <td>FIXED OBJECT</td>\n",
              "      <td>OTHER</td>\n",
              "      <td>...</td>\n",
              "      <td>0.0</td>\n",
              "      <td>0.0</td>\n",
              "      <td>1.0</td>\n",
              "      <td>0.0</td>\n",
              "      <td>10</td>\n",
              "      <td>6</td>\n",
              "      <td>8</td>\n",
              "      <td>NaN</td>\n",
              "      <td>NaN</td>\n",
              "      <td>NaN</td>\n",
              "    </tr>\n",
              "  </tbody>\n",
              "</table>\n",
              "<p>5 rows × 47 columns</p>\n",
              "</div>"
            ],
            "text/plain": [
              "                                     CRASH_RECORD_ID CRASH_DATE_EST_I  \\\n",
              "0  6c1659069e9c6285a650e70d6f9b574ed5f64c12888479...              NaN   \n",
              "1  5f54a59fcb087b12ae5b1acff96a3caf4f2d37e79f8db4...              NaN   \n",
              "2  61fcb8c1eb522a6469b460e2134df3d15f82e81fd93e9c...              NaN   \n",
              "3  004cd14d0303a9163aad69a2d7f341b7da2a8572b2ab33...              NaN   \n",
              "4  a1d5f0ea90897745365a4cbb06cc60329a120d89753fac...              NaN   \n",
              "\n",
              "               CRASH_DATE  POSTED_SPEED_LIMIT TRAFFIC_CONTROL_DEVICE  \\\n",
              "0  08/18/2023 12:50:00 PM                  15                  OTHER   \n",
              "1  07/29/2023 02:45:00 PM                  30         TRAFFIC SIGNAL   \n",
              "2  08/18/2023 05:58:00 PM                  30            NO CONTROLS   \n",
              "3  11/26/2019 08:38:00 AM                  25            NO CONTROLS   \n",
              "4  08/18/2023 10:45:00 AM                  20            NO CONTROLS   \n",
              "\n",
              "       DEVICE_CONDITION WEATHER_CONDITION LIGHTING_CONDITION  \\\n",
              "0  FUNCTIONING PROPERLY             CLEAR           DAYLIGHT   \n",
              "1  FUNCTIONING PROPERLY             CLEAR           DAYLIGHT   \n",
              "2           NO CONTROLS             CLEAR           DAYLIGHT   \n",
              "3           NO CONTROLS             CLEAR           DAYLIGHT   \n",
              "4           NO CONTROLS             CLEAR           DAYLIGHT   \n",
              "\n",
              "       FIRST_CRASH_TYPE                  TRAFFICWAY_TYPE  ...  \\\n",
              "0              REAR END                            OTHER  ...   \n",
              "1  PARKED MOTOR VEHICLE  DIVIDED - W/MEDIAN (NOT RAISED)  ...   \n",
              "2          PEDALCYCLIST                      NOT DIVIDED  ...   \n",
              "3            PEDESTRIAN                          ONE-WAY  ...   \n",
              "4          FIXED OBJECT                            OTHER  ...   \n",
              "\n",
              "   INJURIES_NON_INCAPACITATING INJURIES_REPORTED_NOT_EVIDENT  \\\n",
              "0                          1.0                           0.0   \n",
              "1                          0.0                           0.0   \n",
              "2                          1.0                           0.0   \n",
              "3                          0.0                           0.0   \n",
              "4                          0.0                           0.0   \n",
              "\n",
              "  INJURIES_NO_INDICATION INJURIES_UNKNOWN CRASH_HOUR CRASH_DAY_OF_WEEK  \\\n",
              "0                    1.0              0.0         12                 6   \n",
              "1                    1.0              0.0         14                 7   \n",
              "2                    1.0              0.0         17                 6   \n",
              "3                    1.0              0.0          8                 3   \n",
              "4                    1.0              0.0         10                 6   \n",
              "\n",
              "  CRASH_MONTH   LATITUDE  LONGITUDE                                  LOCATION  \n",
              "0           8        NaN        NaN                                       NaN  \n",
              "1           7  41.854120 -87.665902  POINT (-87.665902342962 41.854120262952)  \n",
              "2           8  41.942976 -87.761883  POINT (-87.761883496974 41.942975745006)  \n",
              "3          11        NaN        NaN                                       NaN  \n",
              "4           8        NaN        NaN                                       NaN  \n",
              "\n",
              "[5 rows x 47 columns]"
            ]
          },
          "execution_count": 34,
          "metadata": {},
          "output_type": "execute_result"
        }
      ],
      "source": [
        "crashes.head()"
      ]
    },
    {
      "cell_type": "code",
      "execution_count": 35,
      "id": "ce8722e7",
      "metadata": {
        "id": "ce8722e7"
      },
      "outputs": [],
      "source": [
        "crashes=crashes.drop(columns=['CRASH_DATE_EST_I','NOT_RIGHT_OF_WAY_I','PHOTOS_TAKEN_I',\n",
        "'STATEMENTS_TAKEN_I','DOORING_I','WORK_ZONE_I','WORK_ZONE_TYPE','WORKERS_PRESENT_I','INJURIES_UNKNOWN'])"
      ]
    },
    {
      "cell_type": "code",
      "execution_count": 36,
      "id": "d6e71963",
      "metadata": {
        "id": "d6e71963"
      },
      "outputs": [],
      "source": [
        "categorical_columns = ['TRAFFIC_CONTROL_DEVICE', 'DEVICE_CONDITION',\n",
        "                       'WEATHER_CONDITION', 'LIGHTING_CONDITION', 'FIRST_CRASH_TYPE',\n",
        "                       'TRAFFICWAY_TYPE', 'ALIGNMENT', 'ROADWAY_SURFACE_COND', 'ROAD_DEFECT',\n",
        "                       'REPORT_TYPE', 'CRASH_TYPE', 'INTERSECTION_RELATED_I','HIT_AND_RUN_I',\n",
        "                       'DAMAGE' ,'PRIM_CONTRIBUTORY_CAUSE', 'SEC_CONTRIBUTORY_CAUSE', 'STREET_DIRECTION',\n",
        "                       'STREET_NAME', 'MOST_SEVERE_INJURY', 'CRASH_HOUR', 'CRASH_DAY_OF_WEEK','CRASH_MONTH']\n",
        "types = {col: 'category' for col in categorical_columns}\n",
        "crashes=crashes.astype(types)"
      ]
    },
    {
      "cell_type": "code",
      "execution_count": 37,
      "id": "f5330573",
      "metadata": {
        "id": "f5330573"
      },
      "outputs": [],
      "source": [
        "crashes.dropna(subset=['STREET_NAME'], inplace=True)"
      ]
    },
    {
      "cell_type": "code",
      "execution_count": 38,
      "id": "0bef42cc",
      "metadata": {
        "id": "0bef42cc"
      },
      "outputs": [
        {
          "name": "stderr",
          "output_type": "stream",
          "text": [
            "C:\\Users\\Sulim\\AppData\\Local\\Temp\\ipykernel_14472\\3772044967.py:1: FutureWarning: The default of observed=False is deprecated and will be changed to True in a future version of pandas. Pass observed=False to retain current behavior or observed=True to adopt the future default and silence this warning.\n",
            "  mean_coords_by_street_name = crashes.groupby('STREET_NAME')[['LATITUDE', 'LONGITUDE']].mean()\n"
          ]
        }
      ],
      "source": [
        "mean_coords_by_street_name = crashes.groupby('STREET_NAME')[['LATITUDE', 'LONGITUDE']].mean()\n",
        "\n",
        "for street_name, mean_values in mean_coords_by_street_name.iterrows():\n",
        "    crashes.loc[crashes['STREET_NAME'] == street_name, 'LATITUDE'] = crashes.loc[crashes['STREET_NAME'] == street_name, 'LATITUDE'].fillna(mean_values['LATITUDE'])\n",
        "    crashes.loc[crashes['STREET_NAME'] == street_name, 'LONGITUDE'] = crashes.loc[crashes['STREET_NAME'] == street_name, 'LONGITUDE'].fillna(mean_values['LONGITUDE'])"
      ]
    },
    {
      "cell_type": "code",
      "execution_count": 39,
      "id": "b2f1ff9f",
      "metadata": {
        "id": "b2f1ff9f"
      },
      "outputs": [],
      "source": [
        "mean_coords_by_street_no = crashes.groupby('STREET_NO')[['LATITUDE', 'LONGITUDE']].mean()\n",
        "\n",
        "for street_name, mean_values in mean_coords_by_street_no.iterrows():\n",
        "    crashes.loc[crashes['STREET_NO'] == street_name, 'LATITUDE'] = crashes.loc[crashes['STREET_NO'] == street_name, 'LATITUDE'].fillna(mean_values['LATITUDE'])\n",
        "    crashes.loc[crashes['STREET_NO'] == street_name, 'LONGITUDE'] = crashes.loc[crashes['STREET_NO'] == street_name, 'LONGITUDE'].fillna(mean_values['LONGITUDE'])"
      ]
    },
    {
      "cell_type": "code",
      "execution_count": 40,
      "id": "3ac06155",
      "metadata": {
        "id": "3ac06155"
      },
      "outputs": [],
      "source": [
        "crashes.dropna(subset=['LATITUDE'], inplace=True)\n",
        "crashes['LATITUDE'] = crashes['LATITUDE'].round(9)\n",
        "crashes['LONGITUDE'] = crashes['LONGITUDE'].round(9)\n",
        "crashes['LOCATION'] = crashes.apply(\n",
        "    lambda row: f\"POINT ({row['LONGITUDE']} {row['LATITUDE']})\" if pd.isnull(row['LOCATION']) else row['LOCATION'],\n",
        "    axis=1)"
      ]
    },
    {
      "cell_type": "code",
      "execution_count": 41,
      "id": "a5cbe104",
      "metadata": {
        "colab": {
          "base_uri": "https://localhost:8080/"
        },
        "id": "a5cbe104",
        "outputId": "8549a6d8-232c-4d51-8884-bc5edb62d57a"
      },
      "outputs": [
        {
          "data": {
            "text/plain": [
              "670       DIVIDED - W/MEDIAN (NOT RAISED)\n",
              "5932                          PARKING LOT\n",
              "686095    DIVIDED - W/MEDIAN (NOT RAISED)\n",
              "Name: TRAFFICWAY_TYPE, dtype: category\n",
              "Categories (20, object): ['ALLEY', 'CENTER TURN LANE', 'DIVIDED - W/MEDIAN (NOT RAISED)', 'DIVIDED - W/MEDIAN BARRIER', ..., 'TRAFFIC ROUTE', 'UNKNOWN', 'UNKNOWN INTERSECTION TYPE', 'Y-INTERSECTION']"
            ]
          },
          "execution_count": 41,
          "metadata": {},
          "output_type": "execute_result"
        }
      ],
      "source": [
        "crashes[crashes['STREET_DIRECTION'].isnull()]['TRAFFICWAY_TYPE']"
      ]
    },
    {
      "cell_type": "code",
      "execution_count": 42,
      "id": "6f702e70",
      "metadata": {
        "colab": {
          "base_uri": "https://localhost:8080/"
        },
        "id": "6f702e70",
        "outputId": "f7cd74b4-018a-4fff-a660-0067ea3fbfae"
      },
      "outputs": [
        {
          "name": "stdout",
          "output_type": "stream",
          "text": [
            "STREET_DIRECTION\n",
            "E     7076\n",
            "N    32644\n",
            "S    42133\n",
            "W    49677\n",
            "dtype: int64\n",
            "STREET_DIRECTION\n",
            "E     4098\n",
            "N    11950\n",
            "S    20310\n",
            "W    19749\n",
            "dtype: int64\n"
          ]
        },
        {
          "name": "stderr",
          "output_type": "stream",
          "text": [
            "C:\\Users\\Sulim\\AppData\\Local\\Temp\\ipykernel_14472\\230501822.py:1: FutureWarning: The default of observed=False is deprecated and will be changed to True in a future version of pandas. Pass observed=False to retain current behavior or observed=True to adopt the future default and silence this warning.\n",
            "  print(crashes[crashes['TRAFFICWAY_TYPE']=='DIVIDED - W/MEDIAN (NOT RAISED)'].groupby('STREET_DIRECTION').size())\n",
            "C:\\Users\\Sulim\\AppData\\Local\\Temp\\ipykernel_14472\\230501822.py:2: FutureWarning: The default of observed=False is deprecated and will be changed to True in a future version of pandas. Pass observed=False to retain current behavior or observed=True to adopt the future default and silence this warning.\n",
            "  print(crashes[crashes['TRAFFICWAY_TYPE']=='PARKING LOT'].groupby('STREET_DIRECTION').size())\n"
          ]
        }
      ],
      "source": [
        "print(crashes[crashes['TRAFFICWAY_TYPE']=='DIVIDED - W/MEDIAN (NOT RAISED)'].groupby('STREET_DIRECTION').size())\n",
        "print(crashes[crashes['TRAFFICWAY_TYPE']=='PARKING LOT'].groupby('STREET_DIRECTION').size())"
      ]
    },
    {
      "cell_type": "code",
      "execution_count": 43,
      "id": "11f86e11",
      "metadata": {
        "colab": {
          "base_uri": "https://localhost:8080/"
        },
        "id": "11f86e11",
        "outputId": "c8bb8abb-c678-45ba-8b24-84caecf70f39"
      },
      "outputs": [
        {
          "data": {
            "text/plain": [
              "0"
            ]
          },
          "execution_count": 43,
          "metadata": {},
          "output_type": "execute_result"
        }
      ],
      "source": [
        "crashes.loc[(crashes['TRAFFICWAY_TYPE'] == \"DIVIDED - W/MEDIAN (NOT RAISED)\") & (crashes['STREET_DIRECTION'].isnull()), 'STREET_DIRECTION'] = \"W\"\n",
        "crashes.loc[(crashes['TRAFFICWAY_TYPE'] == \"PARKING LOT\") & (crashes['STREET_DIRECTION'].isnull()), 'STREET_DIRECTION'] = \"S\"\n",
        "crashes[crashes['STREET_DIRECTION'].isnull()]['TRAFFICWAY_TYPE'].count()"
      ]
    },
    {
      "cell_type": "code",
      "execution_count": 44,
      "id": "ba825536",
      "metadata": {
        "colab": {
          "base_uri": "https://localhost:8080/"
        },
        "id": "ba825536",
        "outputId": "86909e26-480c-41ec-84af-86af9ecda1fc"
      },
      "outputs": [
        {
          "name": "stdout",
          "output_type": "stream",
          "text": [
            "REPORT_TYPE\n",
            "AMENDED                       UNION ST\n",
            "NOT ON SCENE (DESK REPORT)     11TH PL\n",
            "ON SCENE                      100TH DR\n",
            "dtype: object\n"
          ]
        },
        {
          "name": "stderr",
          "output_type": "stream",
          "text": [
            "C:\\Users\\Sulim\\AppData\\Local\\Temp\\ipykernel_14472\\1655419837.py:1: FutureWarning: The default of observed=False is deprecated and will be changed to True in a future version of pandas. Pass observed=False to retain current behavior or observed=True to adopt the future default and silence this warning.\n",
            "  ratio_df = crashes.groupby(['STREET_NAME', 'REPORT_TYPE']).size() / crashes.groupby('STREET_NAME').size()\n",
            "C:\\Users\\Sulim\\AppData\\Local\\Temp\\ipykernel_14472\\1655419837.py:1: FutureWarning: The default of observed=False is deprecated and will be changed to True in a future version of pandas. Pass observed=False to retain current behavior or observed=True to adopt the future default and silence this warning.\n",
            "  ratio_df = crashes.groupby(['STREET_NAME', 'REPORT_TYPE']).size() / crashes.groupby('STREET_NAME').size()\n",
            "C:\\Users\\Sulim\\AppData\\Local\\Temp\\ipykernel_14472\\1655419837.py:2: FutureWarning: The default of observed=False is deprecated and will be changed to True in a future version of pandas. Pass observed=False to retain current behavior or observed=True to adopt the future default and silence this warning.\n",
            "  max_ratio_streets = ratio_df.groupby('REPORT_TYPE').idxmax()\n"
          ]
        }
      ],
      "source": [
        "ratio_df = crashes.groupby(['STREET_NAME', 'REPORT_TYPE']).size() / crashes.groupby('STREET_NAME').size()\n",
        "max_ratio_streets = ratio_df.groupby('REPORT_TYPE').idxmax()\n",
        "\n",
        "highest_ratio_streets = max_ratio_streets.apply(lambda x: x[0])\n",
        "print(highest_ratio_streets)"
      ]
    },
    {
      "cell_type": "code",
      "execution_count": 45,
      "id": "be777e3c",
      "metadata": {
        "colab": {
          "base_uri": "https://localhost:8080/",
          "height": 99
        },
        "id": "be777e3c",
        "outputId": "b555b39f-c3d8-41b5-c33d-bdc884ec471f"
      },
      "outputs": [
        {
          "name": "stderr",
          "output_type": "stream",
          "text": [
            "C:\\Users\\Sulim\\AppData\\Local\\Temp\\ipykernel_14472\\3547344452.py:1: FutureWarning: The default of observed=False is deprecated and will be changed to True in a future version of pandas. Pass observed=False to retain current behavior or observed=True to adopt the future default and silence this warning.\n",
            "  ratio_df = crashes.groupby(['STREET_NAME', 'REPORT_TYPE']).size() / crashes.groupby('STREET_NAME').size()\n",
            "C:\\Users\\Sulim\\AppData\\Local\\Temp\\ipykernel_14472\\3547344452.py:1: FutureWarning: The default of observed=False is deprecated and will be changed to True in a future version of pandas. Pass observed=False to retain current behavior or observed=True to adopt the future default and silence this warning.\n",
            "  ratio_df = crashes.groupby(['STREET_NAME', 'REPORT_TYPE']).size() / crashes.groupby('STREET_NAME').size()\n",
            "C:\\Users\\Sulim\\AppData\\Local\\Temp\\ipykernel_14472\\3547344452.py:2: FutureWarning: The default of observed=False is deprecated and will be changed to True in a future version of pandas. Pass observed=False to retain current behavior or observed=True to adopt the future default and silence this warning.\n",
            "  max_ratio_streets = ratio_df.groupby('STREET_NAME').idxmax()\n",
            "C:\\Users\\Sulim\\AppData\\Local\\Temp\\ipykernel_14472\\3547344452.py:2: FutureWarning: The behavior of Series.idxmax with all-NA values, or any-NA and skipna=False, is deprecated. In a future version this will raise ValueError\n",
            "  max_ratio_streets = ratio_df.groupby('STREET_NAME').idxmax()\n",
            "C:\\Users\\Sulim\\AppData\\Local\\Temp\\ipykernel_14472\\3547344452.py:2: FutureWarning: The behavior of Series.idxmax with all-NA values, or any-NA and skipna=False, is deprecated. In a future version this will raise ValueError\n",
            "  max_ratio_streets = ratio_df.groupby('STREET_NAME').idxmax()\n",
            "C:\\Users\\Sulim\\AppData\\Local\\Temp\\ipykernel_14472\\3547344452.py:2: FutureWarning: The behavior of Series.idxmax with all-NA values, or any-NA and skipna=False, is deprecated. In a future version this will raise ValueError\n",
            "  max_ratio_streets = ratio_df.groupby('STREET_NAME').idxmax()\n"
          ]
        },
        {
          "data": {
            "text/html": [
              "<div>\n",
              "<style scoped>\n",
              "    .dataframe tbody tr th:only-of-type {\n",
              "        vertical-align: middle;\n",
              "    }\n",
              "\n",
              "    .dataframe tbody tr th {\n",
              "        vertical-align: top;\n",
              "    }\n",
              "\n",
              "    .dataframe thead th {\n",
              "        text-align: right;\n",
              "    }\n",
              "</style>\n",
              "<table border=\"1\" class=\"dataframe\">\n",
              "  <thead>\n",
              "    <tr style=\"text-align: right;\">\n",
              "      <th></th>\n",
              "      <th>CRASH_RECORD_ID</th>\n",
              "      <th>CRASH_DATE</th>\n",
              "      <th>POSTED_SPEED_LIMIT</th>\n",
              "      <th>TRAFFIC_CONTROL_DEVICE</th>\n",
              "      <th>DEVICE_CONDITION</th>\n",
              "      <th>WEATHER_CONDITION</th>\n",
              "      <th>LIGHTING_CONDITION</th>\n",
              "      <th>FIRST_CRASH_TYPE</th>\n",
              "      <th>TRAFFICWAY_TYPE</th>\n",
              "      <th>LANE_CNT</th>\n",
              "      <th>...</th>\n",
              "      <th>INJURIES_INCAPACITATING</th>\n",
              "      <th>INJURIES_NON_INCAPACITATING</th>\n",
              "      <th>INJURIES_REPORTED_NOT_EVIDENT</th>\n",
              "      <th>INJURIES_NO_INDICATION</th>\n",
              "      <th>CRASH_HOUR</th>\n",
              "      <th>CRASH_DAY_OF_WEEK</th>\n",
              "      <th>CRASH_MONTH</th>\n",
              "      <th>LATITUDE</th>\n",
              "      <th>LONGITUDE</th>\n",
              "      <th>LOCATION</th>\n",
              "    </tr>\n",
              "  </thead>\n",
              "  <tbody>\n",
              "  </tbody>\n",
              "</table>\n",
              "<p>0 rows × 38 columns</p>\n",
              "</div>"
            ],
            "text/plain": [
              "Empty DataFrame\n",
              "Columns: [CRASH_RECORD_ID, CRASH_DATE, POSTED_SPEED_LIMIT, TRAFFIC_CONTROL_DEVICE, DEVICE_CONDITION, WEATHER_CONDITION, LIGHTING_CONDITION, FIRST_CRASH_TYPE, TRAFFICWAY_TYPE, LANE_CNT, ALIGNMENT, ROADWAY_SURFACE_COND, ROAD_DEFECT, REPORT_TYPE, CRASH_TYPE, INTERSECTION_RELATED_I, HIT_AND_RUN_I, DAMAGE, DATE_POLICE_NOTIFIED, PRIM_CONTRIBUTORY_CAUSE, SEC_CONTRIBUTORY_CAUSE, STREET_NO, STREET_DIRECTION, STREET_NAME, BEAT_OF_OCCURRENCE, MOST_SEVERE_INJURY, INJURIES_TOTAL, INJURIES_FATAL, INJURIES_INCAPACITATING, INJURIES_NON_INCAPACITATING, INJURIES_REPORTED_NOT_EVIDENT, INJURIES_NO_INDICATION, CRASH_HOUR, CRASH_DAY_OF_WEEK, CRASH_MONTH, LATITUDE, LONGITUDE, LOCATION]\n",
              "Index: []\n",
              "\n",
              "[0 rows x 38 columns]"
            ]
          },
          "execution_count": 45,
          "metadata": {},
          "output_type": "execute_result"
        }
      ],
      "source": [
        "ratio_df = crashes.groupby(['STREET_NAME', 'REPORT_TYPE']).size() / crashes.groupby('STREET_NAME').size()\n",
        "max_ratio_streets = ratio_df.groupby('STREET_NAME').idxmax()\n",
        "highest_ratio_report_type = max_ratio_streets.apply(lambda x: np.nan if pd.isnull(x) else x[1])\n",
        "crashes['REPORT_TYPE'] = crashes.apply(lambda row: highest_ratio_report_type[row['STREET_NAME']] if pd.isnull(row['REPORT_TYPE']) else row['REPORT_TYPE'], axis=1)\n",
        "crashes[crashes['REPORT_TYPE'].isnull()]"
      ]
    },
    {
      "cell_type": "code",
      "execution_count": 46,
      "id": "ff1bf2de",
      "metadata": {
        "colab": {
          "base_uri": "https://localhost:8080/",
          "height": 247
        },
        "id": "ff1bf2de",
        "outputId": "94032c3d-21fd-4dd7-cae4-b5c1b63fd7fe"
      },
      "outputs": [
        {
          "data": {
            "text/html": [
              "<div>\n",
              "<style scoped>\n",
              "    .dataframe tbody tr th:only-of-type {\n",
              "        vertical-align: middle;\n",
              "    }\n",
              "\n",
              "    .dataframe tbody tr th {\n",
              "        vertical-align: top;\n",
              "    }\n",
              "\n",
              "    .dataframe thead th {\n",
              "        text-align: right;\n",
              "    }\n",
              "</style>\n",
              "<table border=\"1\" class=\"dataframe\">\n",
              "  <thead>\n",
              "    <tr style=\"text-align: right;\">\n",
              "      <th>FIRST_CRASH_TYPE</th>\n",
              "      <th>ANGLE</th>\n",
              "      <th>ANIMAL</th>\n",
              "      <th>FIXED OBJECT</th>\n",
              "      <th>HEAD ON</th>\n",
              "      <th>OTHER NONCOLLISION</th>\n",
              "      <th>OTHER OBJECT</th>\n",
              "      <th>OVERTURNED</th>\n",
              "      <th>PARKED MOTOR VEHICLE</th>\n",
              "      <th>PEDALCYCLIST</th>\n",
              "      <th>PEDESTRIAN</th>\n",
              "      <th>REAR END</th>\n",
              "      <th>REAR TO FRONT</th>\n",
              "      <th>REAR TO REAR</th>\n",
              "      <th>REAR TO SIDE</th>\n",
              "      <th>SIDESWIPE OPPOSITE DIRECTION</th>\n",
              "      <th>SIDESWIPE SAME DIRECTION</th>\n",
              "      <th>TRAIN</th>\n",
              "      <th>TURNING</th>\n",
              "    </tr>\n",
              "    <tr>\n",
              "      <th>REPORT_TYPE</th>\n",
              "      <th></th>\n",
              "      <th></th>\n",
              "      <th></th>\n",
              "      <th></th>\n",
              "      <th></th>\n",
              "      <th></th>\n",
              "      <th></th>\n",
              "      <th></th>\n",
              "      <th></th>\n",
              "      <th></th>\n",
              "      <th></th>\n",
              "      <th></th>\n",
              "      <th></th>\n",
              "      <th></th>\n",
              "      <th></th>\n",
              "      <th></th>\n",
              "      <th></th>\n",
              "      <th></th>\n",
              "    </tr>\n",
              "  </thead>\n",
              "  <tbody>\n",
              "    <tr>\n",
              "      <th>AMENDED</th>\n",
              "      <td>30</td>\n",
              "      <td>1</td>\n",
              "      <td>9</td>\n",
              "      <td>3</td>\n",
              "      <td>0</td>\n",
              "      <td>1</td>\n",
              "      <td>0</td>\n",
              "      <td>44</td>\n",
              "      <td>2</td>\n",
              "      <td>6</td>\n",
              "      <td>64</td>\n",
              "      <td>0</td>\n",
              "      <td>0</td>\n",
              "      <td>0</td>\n",
              "      <td>4</td>\n",
              "      <td>47</td>\n",
              "      <td>0</td>\n",
              "      <td>31</td>\n",
              "    </tr>\n",
              "    <tr>\n",
              "      <th>NOT ON SCENE (DESK REPORT)</th>\n",
              "      <td>44946</td>\n",
              "      <td>310</td>\n",
              "      <td>9558</td>\n",
              "      <td>3041</td>\n",
              "      <td>1532</td>\n",
              "      <td>3731</td>\n",
              "      <td>43</td>\n",
              "      <td>110652</td>\n",
              "      <td>4227</td>\n",
              "      <td>4875</td>\n",
              "      <td>127613</td>\n",
              "      <td>5393</td>\n",
              "      <td>1329</td>\n",
              "      <td>3037</td>\n",
              "      <td>6837</td>\n",
              "      <td>84686</td>\n",
              "      <td>3</td>\n",
              "      <td>60927</td>\n",
              "    </tr>\n",
              "    <tr>\n",
              "      <th>ON SCENE</th>\n",
              "      <td>44688</td>\n",
              "      <td>281</td>\n",
              "      <td>29156</td>\n",
              "      <td>3984</td>\n",
              "      <td>1065</td>\n",
              "      <td>4431</td>\n",
              "      <td>462</td>\n",
              "      <td>80741</td>\n",
              "      <td>8154</td>\n",
              "      <td>14350</td>\n",
              "      <td>56270</td>\n",
              "      <td>2624</td>\n",
              "      <td>329</td>\n",
              "      <td>1729</td>\n",
              "      <td>4762</td>\n",
              "      <td>41041</td>\n",
              "      <td>43</td>\n",
              "      <td>56858</td>\n",
              "    </tr>\n",
              "  </tbody>\n",
              "</table>\n",
              "</div>"
            ],
            "text/plain": [
              "FIRST_CRASH_TYPE            ANGLE  ANIMAL  FIXED OBJECT  HEAD ON  \\\n",
              "REPORT_TYPE                                                        \n",
              "AMENDED                        30       1             9        3   \n",
              "NOT ON SCENE (DESK REPORT)  44946     310          9558     3041   \n",
              "ON SCENE                    44688     281         29156     3984   \n",
              "\n",
              "FIRST_CRASH_TYPE            OTHER NONCOLLISION  OTHER OBJECT  OVERTURNED  \\\n",
              "REPORT_TYPE                                                                \n",
              "AMENDED                                      0             1           0   \n",
              "NOT ON SCENE (DESK REPORT)                1532          3731          43   \n",
              "ON SCENE                                  1065          4431         462   \n",
              "\n",
              "FIRST_CRASH_TYPE            PARKED MOTOR VEHICLE  PEDALCYCLIST  PEDESTRIAN  \\\n",
              "REPORT_TYPE                                                                  \n",
              "AMENDED                                       44             2           6   \n",
              "NOT ON SCENE (DESK REPORT)                110652          4227        4875   \n",
              "ON SCENE                                   80741          8154       14350   \n",
              "\n",
              "FIRST_CRASH_TYPE            REAR END  REAR TO FRONT  REAR TO REAR  \\\n",
              "REPORT_TYPE                                                         \n",
              "AMENDED                           64              0             0   \n",
              "NOT ON SCENE (DESK REPORT)    127613           5393          1329   \n",
              "ON SCENE                       56270           2624           329   \n",
              "\n",
              "FIRST_CRASH_TYPE            REAR TO SIDE  SIDESWIPE OPPOSITE DIRECTION  \\\n",
              "REPORT_TYPE                                                              \n",
              "AMENDED                                0                             4   \n",
              "NOT ON SCENE (DESK REPORT)          3037                          6837   \n",
              "ON SCENE                            1729                          4762   \n",
              "\n",
              "FIRST_CRASH_TYPE            SIDESWIPE SAME DIRECTION  TRAIN  TURNING  \n",
              "REPORT_TYPE                                                           \n",
              "AMENDED                                           47      0       31  \n",
              "NOT ON SCENE (DESK REPORT)                     84686      3    60927  \n",
              "ON SCENE                                       41041     43    56858  "
            ]
          },
          "execution_count": 46,
          "metadata": {},
          "output_type": "execute_result"
        }
      ],
      "source": [
        "crashes.pivot_table(crashes, index='REPORT_TYPE', columns='FIRST_CRASH_TYPE', aggfunc='size', fill_value=0,observed=False)"
      ]
    },
    {
      "cell_type": "markdown",
      "id": "L3eNxEpk_DCn",
      "metadata": {
        "id": "L3eNxEpk_DCn"
      },
      "source": [
        "## CRASHES_VEHICLES ##"
      ]
    },
    {
      "cell_type": "code",
      "execution_count": 47,
      "id": "DX2wSdME_PLm",
      "metadata": {
        "colab": {
          "base_uri": "https://localhost:8080/",
          "height": 1000
        },
        "id": "DX2wSdME_PLm",
        "outputId": "5b20fb3b-55d5-499d-ef40-aba09acf52e2"
      },
      "outputs": [
        {
          "name": "stdout",
          "output_type": "stream",
          "text": [
            "shape is (1680892, 70)\n",
            "CRASH_UNIT_ID                     0\n",
            "CRASH_RECORD_ID                   0\n",
            "CRASH_DATE                        0\n",
            "UNIT_NO                           0\n",
            "UNIT_TYPE                      2150\n",
            "VEHICLE_ID                    38473\n",
            "CMRC_VEH_I                  1649615\n",
            "MAKE                          38478\n",
            "MODEL                         38623\n",
            "LIC_PLATE_STATE              188917\n",
            "VEHICLE_YEAR                 301958\n",
            "VEHICLE_DEFECT                38473\n",
            "VEHICLE_TYPE                  38473\n",
            "VEHICLE_USE                   38473\n",
            "TRAVEL_DIRECTION              38473\n",
            "MANEUVER                      38473\n",
            "TOWED_I                     1472365\n",
            "FIRE_I                      1679517\n",
            "OCCUPANT_CNT                  38473\n",
            "EXCEED_SPEED_LIMIT_I        1678495\n",
            "TOWED_BY                    1524003\n",
            "TOWED_TO                    1584546\n",
            "AREA_00_I                   1623152\n",
            "AREA_01_I                   1231298\n",
            "AREA_02_I                   1414448\n",
            "AREA_03_I                   1519765\n",
            "AREA_04_I                   1520419\n",
            "AREA_05_I                   1431572\n",
            "AREA_06_I                   1418159\n",
            "AREA_07_I                   1437278\n",
            "AREA_08_I                   1442051\n",
            "AREA_09_I                   1567324\n",
            "AREA_10_I                   1515546\n",
            "AREA_11_I                   1360731\n",
            "AREA_12_I                   1367754\n",
            "AREA_99_I                   1491258\n",
            "FIRST_CONTACT_POINT           41596\n",
            "CMV_ID                      1663792\n",
            "USDOT_NO                    1671286\n",
            "CCMC_NO                     1678856\n",
            "ILCC_NO                     1679490\n",
            "COMMERCIAL_SRC              1669540\n",
            "GVWR                        1671366\n",
            "CARRIER_NAME                1664549\n",
            "CARRIER_STATE               1665552\n",
            "CARRIER_CITY                1665846\n",
            "HAZMAT_PLACARDS_I           1680562\n",
            "HAZMAT_NAME                 1680832\n",
            "UN_NO                       1680320\n",
            "HAZMAT_PRESENT_I            1668408\n",
            "HAZMAT_REPORT_I             1668758\n",
            "HAZMAT_REPORT_NO            1680891\n",
            "MCS_REPORT_I                1668709\n",
            "MCS_REPORT_NO               1680885\n",
            "HAZMAT_VIO_CAUSE_CRASH_I    1668591\n",
            "MCS_VIO_CAUSE_CRASH_I       1668798\n",
            "IDOT_PERMIT_NO              1679967\n",
            "WIDE_LOAD_I                 1680741\n",
            "TRAILER1_WIDTH              1677977\n",
            "TRAILER2_WIDTH              1680543\n",
            "TRAILER1_LENGTH             1678540\n",
            "TRAILER2_LENGTH             1680824\n",
            "TOTAL_VEHICLE_LENGTH        1678034\n",
            "AXLE_CNT                    1676595\n",
            "VEHICLE_CONFIG              1666729\n",
            "CARGO_BODY_TYPE             1667351\n",
            "LOAD_TYPE                   1667946\n",
            "HAZMAT_OUT_OF_SERVICE_I     1669111\n",
            "MCS_OUT_OF_SERVICE_I        1668862\n",
            "HAZMAT_CLASS                1679791\n"
          ]
        },
        {
          "data": {
            "text/html": [
              "<div>\n",
              "<style scoped>\n",
              "    .dataframe tbody tr th:only-of-type {\n",
              "        vertical-align: middle;\n",
              "    }\n",
              "\n",
              "    .dataframe tbody tr th {\n",
              "        vertical-align: top;\n",
              "    }\n",
              "\n",
              "    .dataframe thead th {\n",
              "        text-align: right;\n",
              "    }\n",
              "</style>\n",
              "<table border=\"1\" class=\"dataframe\">\n",
              "  <thead>\n",
              "    <tr style=\"text-align: right;\">\n",
              "      <th></th>\n",
              "      <th>CRASH_UNIT_ID</th>\n",
              "      <th>CRASH_RECORD_ID</th>\n",
              "      <th>CRASH_DATE</th>\n",
              "      <th>UNIT_NO</th>\n",
              "      <th>UNIT_TYPE</th>\n",
              "      <th>VEHICLE_ID</th>\n",
              "      <th>CMRC_VEH_I</th>\n",
              "      <th>MAKE</th>\n",
              "      <th>MODEL</th>\n",
              "      <th>LIC_PLATE_STATE</th>\n",
              "      <th>...</th>\n",
              "      <th>TRAILER1_LENGTH</th>\n",
              "      <th>TRAILER2_LENGTH</th>\n",
              "      <th>TOTAL_VEHICLE_LENGTH</th>\n",
              "      <th>AXLE_CNT</th>\n",
              "      <th>VEHICLE_CONFIG</th>\n",
              "      <th>CARGO_BODY_TYPE</th>\n",
              "      <th>LOAD_TYPE</th>\n",
              "      <th>HAZMAT_OUT_OF_SERVICE_I</th>\n",
              "      <th>MCS_OUT_OF_SERVICE_I</th>\n",
              "      <th>HAZMAT_CLASS</th>\n",
              "    </tr>\n",
              "  </thead>\n",
              "  <tbody>\n",
              "    <tr>\n",
              "      <th>0</th>\n",
              "      <td>1717556</td>\n",
              "      <td>7b1763088507f77e0e552c009a6bf89a4d6330c7527706...</td>\n",
              "      <td>12/06/2023 03:24:00 PM</td>\n",
              "      <td>1</td>\n",
              "      <td>DRIVER</td>\n",
              "      <td>1634931.0</td>\n",
              "      <td>NaN</td>\n",
              "      <td>NISSAN</td>\n",
              "      <td>SENTRA</td>\n",
              "      <td>IL</td>\n",
              "      <td>...</td>\n",
              "      <td>NaN</td>\n",
              "      <td>NaN</td>\n",
              "      <td>NaN</td>\n",
              "      <td>NaN</td>\n",
              "      <td>NaN</td>\n",
              "      <td>NaN</td>\n",
              "      <td>NaN</td>\n",
              "      <td>NaN</td>\n",
              "      <td>NaN</td>\n",
              "      <td>NaN</td>\n",
              "    </tr>\n",
              "    <tr>\n",
              "      <th>1</th>\n",
              "      <td>1717574</td>\n",
              "      <td>2603ff5a88f0b9b54576934c5ed4e4a64e8278e005687b...</td>\n",
              "      <td>12/06/2023 04:00:00 PM</td>\n",
              "      <td>2</td>\n",
              "      <td>DRIVER</td>\n",
              "      <td>1634978.0</td>\n",
              "      <td>NaN</td>\n",
              "      <td>CHRYSLER</td>\n",
              "      <td>SEBRING</td>\n",
              "      <td>IL</td>\n",
              "      <td>...</td>\n",
              "      <td>NaN</td>\n",
              "      <td>NaN</td>\n",
              "      <td>NaN</td>\n",
              "      <td>NaN</td>\n",
              "      <td>NaN</td>\n",
              "      <td>NaN</td>\n",
              "      <td>NaN</td>\n",
              "      <td>NaN</td>\n",
              "      <td>NaN</td>\n",
              "      <td>NaN</td>\n",
              "    </tr>\n",
              "    <tr>\n",
              "      <th>2</th>\n",
              "      <td>1717579</td>\n",
              "      <td>a52ef70e33d468b855b5be44e8638a564434dcf99c0edf...</td>\n",
              "      <td>12/06/2023 04:30:00 PM</td>\n",
              "      <td>1</td>\n",
              "      <td>DRIVER</td>\n",
              "      <td>1634948.0</td>\n",
              "      <td>NaN</td>\n",
              "      <td>SUBARU</td>\n",
              "      <td>OUTBACK</td>\n",
              "      <td>IL</td>\n",
              "      <td>...</td>\n",
              "      <td>NaN</td>\n",
              "      <td>NaN</td>\n",
              "      <td>NaN</td>\n",
              "      <td>NaN</td>\n",
              "      <td>NaN</td>\n",
              "      <td>NaN</td>\n",
              "      <td>NaN</td>\n",
              "      <td>NaN</td>\n",
              "      <td>NaN</td>\n",
              "      <td>NaN</td>\n",
              "    </tr>\n",
              "    <tr>\n",
              "      <th>3</th>\n",
              "      <td>1720118</td>\n",
              "      <td>609055f4b1a72a44d6ec40ba9036cefd7c1287a755eb6c...</td>\n",
              "      <td>12/10/2023 12:12:00 PM</td>\n",
              "      <td>1</td>\n",
              "      <td>DRIVER</td>\n",
              "      <td>1637401.0</td>\n",
              "      <td>NaN</td>\n",
              "      <td>TOYOTA</td>\n",
              "      <td>RAV4</td>\n",
              "      <td>IL</td>\n",
              "      <td>...</td>\n",
              "      <td>NaN</td>\n",
              "      <td>NaN</td>\n",
              "      <td>NaN</td>\n",
              "      <td>NaN</td>\n",
              "      <td>NaN</td>\n",
              "      <td>NaN</td>\n",
              "      <td>NaN</td>\n",
              "      <td>NaN</td>\n",
              "      <td>NaN</td>\n",
              "      <td>NaN</td>\n",
              "    </tr>\n",
              "    <tr>\n",
              "      <th>4</th>\n",
              "      <td>1720119</td>\n",
              "      <td>609055f4b1a72a44d6ec40ba9036cefd7c1287a755eb6c...</td>\n",
              "      <td>12/10/2023 12:12:00 PM</td>\n",
              "      <td>2</td>\n",
              "      <td>DRIVER</td>\n",
              "      <td>1637408.0</td>\n",
              "      <td>NaN</td>\n",
              "      <td>SUBARU</td>\n",
              "      <td>OUTBACK</td>\n",
              "      <td>OK</td>\n",
              "      <td>...</td>\n",
              "      <td>NaN</td>\n",
              "      <td>NaN</td>\n",
              "      <td>NaN</td>\n",
              "      <td>NaN</td>\n",
              "      <td>NaN</td>\n",
              "      <td>NaN</td>\n",
              "      <td>NaN</td>\n",
              "      <td>NaN</td>\n",
              "      <td>NaN</td>\n",
              "      <td>NaN</td>\n",
              "    </tr>\n",
              "  </tbody>\n",
              "</table>\n",
              "<p>5 rows × 70 columns</p>\n",
              "</div>"
            ],
            "text/plain": [
              "   CRASH_UNIT_ID                                    CRASH_RECORD_ID  \\\n",
              "0        1717556  7b1763088507f77e0e552c009a6bf89a4d6330c7527706...   \n",
              "1        1717574  2603ff5a88f0b9b54576934c5ed4e4a64e8278e005687b...   \n",
              "2        1717579  a52ef70e33d468b855b5be44e8638a564434dcf99c0edf...   \n",
              "3        1720118  609055f4b1a72a44d6ec40ba9036cefd7c1287a755eb6c...   \n",
              "4        1720119  609055f4b1a72a44d6ec40ba9036cefd7c1287a755eb6c...   \n",
              "\n",
              "               CRASH_DATE  UNIT_NO UNIT_TYPE  VEHICLE_ID CMRC_VEH_I      MAKE  \\\n",
              "0  12/06/2023 03:24:00 PM        1    DRIVER   1634931.0        NaN    NISSAN   \n",
              "1  12/06/2023 04:00:00 PM        2    DRIVER   1634978.0        NaN  CHRYSLER   \n",
              "2  12/06/2023 04:30:00 PM        1    DRIVER   1634948.0        NaN    SUBARU   \n",
              "3  12/10/2023 12:12:00 PM        1    DRIVER   1637401.0        NaN    TOYOTA   \n",
              "4  12/10/2023 12:12:00 PM        2    DRIVER   1637408.0        NaN    SUBARU   \n",
              "\n",
              "     MODEL LIC_PLATE_STATE  ...  TRAILER1_LENGTH TRAILER2_LENGTH  \\\n",
              "0   SENTRA              IL  ...              NaN             NaN   \n",
              "1  SEBRING              IL  ...              NaN             NaN   \n",
              "2  OUTBACK              IL  ...              NaN             NaN   \n",
              "3     RAV4              IL  ...              NaN             NaN   \n",
              "4  OUTBACK              OK  ...              NaN             NaN   \n",
              "\n",
              "  TOTAL_VEHICLE_LENGTH AXLE_CNT VEHICLE_CONFIG CARGO_BODY_TYPE LOAD_TYPE  \\\n",
              "0                  NaN      NaN            NaN             NaN       NaN   \n",
              "1                  NaN      NaN            NaN             NaN       NaN   \n",
              "2                  NaN      NaN            NaN             NaN       NaN   \n",
              "3                  NaN      NaN            NaN             NaN       NaN   \n",
              "4                  NaN      NaN            NaN             NaN       NaN   \n",
              "\n",
              "  HAZMAT_OUT_OF_SERVICE_I  MCS_OUT_OF_SERVICE_I HAZMAT_CLASS  \n",
              "0                     NaN                   NaN          NaN  \n",
              "1                     NaN                   NaN          NaN  \n",
              "2                     NaN                   NaN          NaN  \n",
              "3                     NaN                   NaN          NaN  \n",
              "4                     NaN                   NaN          NaN  \n",
              "\n",
              "[5 rows x 70 columns]"
            ]
          },
          "execution_count": 47,
          "metadata": {},
          "output_type": "execute_result"
        }
      ],
      "source": [
        "print(f'shape is {crashes_vehicles.shape}')\n",
        "print(crashes_vehicles.isnull().sum().to_string())\n",
        "crashes_vehicles.head()"
      ]
    },
    {
      "cell_type": "markdown",
      "id": "D3XQhHAv_kD6",
      "metadata": {
        "id": "D3XQhHAv_kD6"
      },
      "source": [
        "Let's have a look on UNIT_TYP column"
      ]
    },
    {
      "cell_type": "code",
      "execution_count": 48,
      "id": "m70UuaDL_hTw",
      "metadata": {
        "colab": {
          "base_uri": "https://localhost:8080/"
        },
        "id": "m70UuaDL_hTw",
        "outputId": "f47f3383-b2b0-4119-ba1f-48941f6298f4"
      },
      "outputs": [
        {
          "name": "stdout",
          "output_type": "stream",
          "text": [
            "UNIT_TYPE\n",
            "DRIVER                 1407381\n",
            "PARKED                  221654\n",
            "PEDESTRIAN               21142\n",
            "DRIVERLESS               13803\n",
            "BICYCLE                  12725\n",
            "NON-MOTOR VEHICLE         1474\n",
            "NON-CONTACT VEHICLE        306\n",
            "DISABLED VEHICLE           250\n",
            "EQUESTRIAN                   7\n",
            "Name: count, dtype: int64\n",
            "messing values count is :2150\n"
          ]
        }
      ],
      "source": [
        "print(crashes_vehicles['UNIT_TYPE'].value_counts())\n",
        "print(f'messing values count is :{crashes_vehicles[\"UNIT_TYPE\"].isnull().sum()}')"
      ]
    },
    {
      "cell_type": "markdown",
      "id": "WIQg3uswKAJH",
      "metadata": {
        "id": "WIQg3uswKAJH"
      },
      "source": [
        "After having a look on UNIT_ID with CRASH_DATE columns we\n",
        "\n",
        "notices that there are duplicated rows so let's dive in and discover what is that and do the following steps:  \n",
        "\n",
        "\n",
        "1.   merge LOCATION , UNIT_NO and CRASH_DATE based on CRASH_DATE column from crashes and crashes_vehicles\n",
        "2.   convert the location values to comparable values\n",
        "3.   find the duplicated rows (the same unit id and the same location at the same time)\n",
        "4.   return the CRASH_DATE and UNIT_ID as a result data frame\n",
        "\n"
      ]
    },
    {
      "cell_type": "code",
      "execution_count": 49,
      "id": "w-q1C_TC_ohS",
      "metadata": {
        "id": "w-q1C_TC_ohS"
      },
      "outputs": [],
      "source": [
        "merged_df = pd.merge(crashes[[\"CRASH_DATE\",\"LOCATION\"]], crashes_vehicles[[\"CRASH_DATE\",\"UNIT_NO\"]], on='CRASH_DATE')\n",
        "merged_df['LOCATION'] = merged_df['LOCATION'].str.extract(r'\\((.*?)\\)')\n",
        "duplicates_df = merged_df[merged_df.duplicated(subset=['LOCATION', 'CRASH_DATE',\"UNIT_NO\"], keep=False)]\n",
        "result_df = duplicates_df[['CRASH_DATE', 'UNIT_NO']]"
      ]
    },
    {
      "cell_type": "markdown",
      "id": "yoSiWeYNK_Ls",
      "metadata": {
        "id": "yoSiWeYNK_Ls"
      },
      "source": [
        "Create a mask that check if the crashes_vehicles row has  \n",
        "CRASH_DATE , UNIT_NO that are in result_df"
      ]
    },
    {
      "cell_type": "code",
      "execution_count": 50,
      "id": "svtVi36tFavC",
      "metadata": {
        "id": "svtVi36tFavC"
      },
      "outputs": [],
      "source": [
        "mask = crashes_vehicles['CRASH_DATE'].isin(result_df['CRASH_DATE']) & crashes_vehicles['UNIT_NO'].isin(result_df['UNIT_NO'])\n"
      ]
    },
    {
      "cell_type": "markdown",
      "id": "KADuoGDsLcCQ",
      "metadata": {
        "id": "KADuoGDsLcCQ"
      },
      "source": [
        "\n",
        "\n",
        "1.    Create a column to represent the duplicate status of each row\n",
        "2.   Sort the DataFrame by the 'is_duplicate' column in descending order\n",
        "3. Drop duplicate rows while keeping the first occurrence of each unique combination of 'CRASH_DATE' and 'UNIT_NO'\n",
        "4. Remove the 'is_duplicate' column\n",
        "\n"
      ]
    },
    {
      "cell_type": "code",
      "execution_count": 51,
      "id": "a68Db-IjLyCC",
      "metadata": {
        "colab": {
          "base_uri": "https://localhost:8080/"
        },
        "id": "a68Db-IjLyCC",
        "outputId": "bbe45ca5-627d-483d-a51e-497837671fa7"
      },
      "outputs": [
        {
          "name": "stdout",
          "output_type": "stream",
          "text": [
            "(1680892, 70)\n",
            "(1126125, 71)\n"
          ]
        }
      ],
      "source": [
        "print(crashes_vehicles.shape)\n",
        "crashes_vehicles['is_duplicate'] = mask\n",
        "crashes_vehicles.sort_values('is_duplicate', ascending=False, inplace=True)\n",
        "crashes_vehicles.drop_duplicates(subset=['CRASH_DATE', 'UNIT_NO'], keep='first', inplace=True)\n",
        "print(crashes_vehicles.shape)\n"
      ]
    },
    {
      "cell_type": "markdown",
      "id": "j4JFzRlYZzh6",
      "metadata": {
        "id": "j4JFzRlYZzh6"
      },
      "source": [
        "Let's have a look at the column MAKE"
      ]
    },
    {
      "cell_type": "code",
      "execution_count": 52,
      "id": "XfhhGUcFZy8S",
      "metadata": {
        "colab": {
          "base_uri": "https://localhost:8080/"
        },
        "id": "XfhhGUcFZy8S",
        "outputId": "0d721ce0-7287-4747-f804-a8937b869f27"
      },
      "outputs": [
        {
          "name": "stdout",
          "output_type": "stream",
          "text": [
            "MAKE\n",
            "CHEVROLET                                                       129541\n",
            "FORD                                                            111479\n",
            "UNKNOWN                                                          99896\n",
            "NISSAN                                                           89536\n",
            "HONDA                                                            80729\n",
            "                                                                 ...  \n",
            "WARD INDUSTRIES                                                      1\n",
            "AERO LINER COMPANY                                                   1\n",
            "\"IMPERIAL -- CODES BELOW ARE ONLY FOR 1980 AND EARLIER MODEL         1\n",
            "MELROE DIVISION CLARK EQUIPMENT COMPANY (FARGO, ND)                  1\n",
            "TOWNER MANUFACTURING COMPANY                                         1\n",
            "Name: count, Length: 1147, dtype: int64\n",
            "nan values count:26954\n"
          ]
        }
      ],
      "source": [
        "MAKE=crashes_vehicles[\"MAKE\"]\n",
        "print(MAKE.value_counts())\n",
        "print(f\"nan values count:{MAKE.isnull().sum()}\")"
      ]
    },
    {
      "cell_type": "markdown",
      "id": "RJoRcvsXjqaM",
      "metadata": {
        "id": "RJoRcvsXjqaM"
      },
      "source": [
        "We Notice that all messing values in MAKE columns are also messing in MODEL AND VEHICLE_ID it's like a noise or useless data that have been added to the data let's amke sure about it.\n"
      ]
    },
    {
      "cell_type": "code",
      "execution_count": 53,
      "id": "xqENar5AgZJJ",
      "metadata": {
        "colab": {
          "base_uri": "https://localhost:8080/"
        },
        "id": "xqENar5AgZJJ",
        "outputId": "e97e32dc-9b97-41d1-9117-f98298cab354"
      },
      "outputs": [
        {
          "name": "stdout",
          "output_type": "stream",
          "text": [
            "MAKE          26954\n",
            "MODEL         26951\n",
            "VEHICLE_ID    26950\n"
          ]
        }
      ],
      "source": [
        "result =crashes_vehicles[crashes_vehicles[\"MAKE\"].isnull()]\n",
        "sub_res=result[[\"MAKE\",\"MODEL\",\"VEHICLE_ID\"]]\n",
        "print(sub_res.isnull().sum().to_string())"
      ]
    },
    {
      "cell_type": "code",
      "execution_count": 54,
      "id": "6FwooRvrkmi9",
      "metadata": {
        "colab": {
          "base_uri": "https://localhost:8080/"
        },
        "id": "6FwooRvrkmi9",
        "outputId": "1b3897a2-79d4-42aa-91df-3e615b28339f"
      },
      "outputs": [
        {
          "name": "stdout",
          "output_type": "stream",
          "text": [
            "CRASH_UNIT_ID                   0\n",
            "CRASH_RECORD_ID                 0\n",
            "CRASH_DATE                      0\n",
            "UNIT_NO                         0\n",
            "UNIT_TYPE                     835\n",
            "VEHICLE_ID                  26950\n",
            "CMRC_VEH_I                  26954\n",
            "MAKE                        26954\n",
            "MODEL                       26951\n",
            "LIC_PLATE_STATE             26950\n",
            "VEHICLE_YEAR                26950\n",
            "VEHICLE_DEFECT              26950\n",
            "VEHICLE_TYPE                26950\n",
            "VEHICLE_USE                 26950\n",
            "TRAVEL_DIRECTION            26950\n",
            "MANEUVER                    26950\n",
            "TOWED_I                     26953\n",
            "FIRE_I                      26954\n",
            "OCCUPANT_CNT                26950\n",
            "EXCEED_SPEED_LIMIT_I        26954\n",
            "TOWED_BY                    26953\n",
            "TOWED_TO                    26953\n",
            "AREA_00_I                   26954\n",
            "AREA_01_I                   26952\n",
            "AREA_02_I                   26952\n",
            "AREA_03_I                   26953\n",
            "AREA_04_I                   26953\n",
            "AREA_05_I                   26953\n",
            "AREA_06_I                   26951\n",
            "AREA_07_I                   26952\n",
            "AREA_08_I                   26954\n",
            "AREA_09_I                   26954\n",
            "AREA_10_I                   26953\n",
            "AREA_11_I                   26953\n",
            "AREA_12_I                   26953\n",
            "AREA_99_I                   26954\n",
            "FIRST_CONTACT_POINT         26950\n",
            "CMV_ID                      26954\n",
            "USDOT_NO                    26954\n",
            "CCMC_NO                     26954\n",
            "ILCC_NO                     26954\n",
            "COMMERCIAL_SRC              26954\n",
            "GVWR                        26954\n",
            "CARRIER_NAME                26954\n",
            "CARRIER_STATE               26954\n",
            "CARRIER_CITY                26954\n",
            "HAZMAT_PLACARDS_I           26954\n",
            "HAZMAT_NAME                 26954\n",
            "UN_NO                       26954\n",
            "HAZMAT_PRESENT_I            26954\n",
            "HAZMAT_REPORT_I             26954\n",
            "HAZMAT_REPORT_NO            26954\n",
            "MCS_REPORT_I                26954\n",
            "MCS_REPORT_NO               26954\n",
            "HAZMAT_VIO_CAUSE_CRASH_I    26954\n",
            "MCS_VIO_CAUSE_CRASH_I       26954\n",
            "IDOT_PERMIT_NO              26954\n",
            "WIDE_LOAD_I                 26954\n",
            "TRAILER1_WIDTH              26954\n",
            "TRAILER2_WIDTH              26954\n",
            "TRAILER1_LENGTH             26954\n",
            "TRAILER2_LENGTH             26954\n",
            "TOTAL_VEHICLE_LENGTH        26954\n",
            "AXLE_CNT                    26954\n",
            "VEHICLE_CONFIG              26954\n",
            "CARGO_BODY_TYPE             26954\n",
            "LOAD_TYPE                   26954\n",
            "HAZMAT_OUT_OF_SERVICE_I     26954\n",
            "MCS_OUT_OF_SERVICE_I        26954\n",
            "HAZMAT_CLASS                26954\n",
            "is_duplicate                    0\n"
          ]
        }
      ],
      "source": [
        "print(result.isnull().sum().to_string())"
      ]
    },
    {
      "cell_type": "markdown",
      "id": "ORnnY-McDt-G",
      "metadata": {
        "id": "ORnnY-McDt-G"
      },
      "source": [
        "SOo let's see what are the unit types of those vehicles"
      ]
    },
    {
      "cell_type": "code",
      "execution_count": 55,
      "id": "FaAARxYTDzw4",
      "metadata": {
        "colab": {
          "base_uri": "https://localhost:8080/"
        },
        "id": "FaAARxYTDzw4",
        "outputId": "f32c637b-0ef2-4c67-e2bf-5a4f74c8221c"
      },
      "outputs": [
        {
          "data": {
            "text/plain": [
              "UNIT_TYPE\n",
              "PEDESTRIAN             15611\n",
              "BICYCLE                 8825\n",
              "NON-MOTOR VEHICLE       1080\n",
              "DRIVER                   394\n",
              "NON-CONTACT VEHICLE      102\n",
              "PARKED                    88\n",
              "DRIVERLESS                13\n",
              "EQUESTRIAN                 5\n",
              "DISABLED VEHICLE           1\n",
              "Name: count, dtype: int64"
            ]
          },
          "execution_count": 55,
          "metadata": {},
          "output_type": "execute_result"
        }
      ],
      "source": [
        "result[\"UNIT_TYPE\"].value_counts()"
      ]
    },
    {
      "cell_type": "markdown",
      "id": "vMfw6NOzFZ7G",
      "metadata": {
        "id": "vMfw6NOzFZ7G"
      },
      "source": [
        "We notice that the type of those units are not MAKEABLE so it's logical for model and make to be nan.  \n",
        "what we will do now is :\n",
        "1. fill the make and the model for humans (PEDESTRIAN) with values like (MAKE: \"GOD\" ,MODEL: \"HUMAN\"😅😁)\n",
        "2. fill the make and model values for other types like (BICYCLE,NON-MOTOR VEHICLE,....etc) with \"UNIDENTIFIED\" for ex.\n",
        "3. for vehicle_id just as what we did in crashes_people we will assign -1 for these unit types."
      ]
    },
    {
      "cell_type": "code",
      "execution_count": 56,
      "id": "7bY7PDwCFeho",
      "metadata": {
        "id": "7bY7PDwCFeho"
      },
      "outputs": [],
      "source": [
        "for unit_type in result[\"UNIT_TYPE\"].unique():\n",
        "    if unit_type == \"PEDESTRIAN\":\n",
        "        crashes_vehicles['MAKE'] = np.where(crashes_vehicles['UNIT_TYPE'] == unit_type, \"GOD\", crashes_vehicles['MAKE'])\n",
        "        crashes_vehicles['MODEL'] = np.where(crashes_vehicles['UNIT_TYPE'] == unit_type, \"HUMAN\", crashes_vehicles['MODEL'])\n",
        "        crashes_vehicles['VEHICLE_ID'] = np.where(crashes_vehicles['UNIT_TYPE'] == unit_type, -1 , crashes_vehicles['VEHICLE_ID'])\n",
        "    elif unit_type != \"DRIVER\":\n",
        "        crashes_vehicles['MAKE'] = np.where(crashes_vehicles['UNIT_TYPE'] == unit_type, \"UNIDENTIFIED\", crashes_vehicles['MAKE'])\n",
        "        crashes_vehicles['MODEL'] = np.where(crashes_vehicles['UNIT_TYPE'] == unit_type, \"UNIDENTIFIED\", crashes_vehicles['MODEL'])\n",
        "        crashes_vehicles['VEHICLE_ID'] = np.where(crashes_vehicles['UNIT_TYPE'] == unit_type, -1, crashes_vehicles['VEHICLE_ID'])\n"
      ]
    },
    {
      "cell_type": "markdown",
      "id": "8bU60Zw4FhLV",
      "metadata": {
        "id": "8bU60Zw4FhLV"
      },
      "source": [
        "Now lets take another look in the result to see the remaning missing value based on the unit type"
      ]
    },
    {
      "cell_type": "code",
      "execution_count": 57,
      "id": "GOlof4XdFkAt",
      "metadata": {
        "colab": {
          "base_uri": "https://localhost:8080/"
        },
        "id": "GOlof4XdFkAt",
        "outputId": "6c43673d-3e09-498e-e29a-bea7ace4beb5"
      },
      "outputs": [
        {
          "name": "stdout",
          "output_type": "stream",
          "text": [
            "VEHICLE_YEAR        191627\n",
            "VEHICLE_DEFECT       26950\n",
            "VEHICLE_TYPE         26950\n",
            "VEHICLE_USE          26950\n",
            "TRAVEL_DIRECTION     26950\n",
            "MANEUVER             26950\n",
            "UNIT_TYPE              843\n"
          ]
        }
      ],
      "source": [
        "result=crashes_vehicles[[\"VEHICLE_YEAR\",\"VEHICLE_DEFECT\",\"VEHICLE_TYPE\",\"VEHICLE_USE\",\"TRAVEL_DIRECTION\",\"MANEUVER\",\"UNIT_TYPE\"]]\n",
        "print(result.isnull().sum().to_string())"
      ]
    },
    {
      "cell_type": "code",
      "execution_count": 58,
      "id": "-99cCJG2FxTQ",
      "metadata": {
        "colab": {
          "base_uri": "https://localhost:8080/"
        },
        "id": "-99cCJG2FxTQ",
        "outputId": "c6ebc8d7-d55b-48a5-b703-188c0847f1eb"
      },
      "outputs": [
        {
          "data": {
            "text/plain": [
              "UNIT_TYPE\n",
              "PEDESTRIAN             15611\n",
              "BICYCLE                 8825\n",
              "NON-MOTOR VEHICLE       1080\n",
              "DRIVER                   390\n",
              "NON-CONTACT VEHICLE      102\n",
              "PARKED                    88\n",
              "DRIVERLESS                13\n",
              "EQUESTRIAN                 5\n",
              "DISABLED VEHICLE           1\n",
              "Name: count, dtype: int64"
            ]
          },
          "execution_count": 58,
          "metadata": {},
          "output_type": "execute_result"
        }
      ],
      "source": [
        "result=result.loc[result[\"VEHICLE_TYPE\"].isnull() & result[\"VEHICLE_USE\"].isnull() & result[\"TRAVEL_DIRECTION\"].isnull() & result[\"VEHICLE_DEFECT\"].isnull() & result[\"MANEUVER\"].isnull() & result[\"VEHICLE_YEAR\"].isnull()]\n",
        "result[\"UNIT_TYPE\"].value_counts()"
      ]
    },
    {
      "cell_type": "markdown",
      "id": "2SCwyQy-MnDi",
      "metadata": {
        "id": "2SCwyQy-MnDi"
      },
      "source": [
        "As the previous note we will apply the same logic on those columns"
      ]
    },
    {
      "cell_type": "code",
      "execution_count": 59,
      "id": "synD3HgBF24i",
      "metadata": {
        "id": "synD3HgBF24i"
      },
      "outputs": [],
      "source": [
        "for unit_type in result[\"UNIT_TYPE\"].unique():\n",
        "    if unit_type != \"DRIVER\":\n",
        "        crashes_vehicles['VEHICLE_TYPE'] = np.where(crashes_vehicles['UNIT_TYPE'] == unit_type, \"UNIDENTIFIED\" if unit_type != \"PEDESTRIAN\" else \"HUMAN\", crashes_vehicles['VEHICLE_TYPE'])\n",
        "        crashes_vehicles['VEHICLE_USE'] = np.where(crashes_vehicles['UNIT_TYPE'] == unit_type, \"UNIDENTIFIED\", crashes_vehicles['VEHICLE_USE'])\n",
        "        crashes_vehicles['TRAVEL_DIRECTION'] = np.where(crashes_vehicles['UNIT_TYPE'] == unit_type, -1, crashes_vehicles['TRAVEL_DIRECTION'])\n",
        "        crashes_vehicles['VEHICLE_DEFECT'] = np.where(crashes_vehicles['UNIT_TYPE'] == unit_type, -1, crashes_vehicles['VEHICLE_DEFECT'])\n",
        "        crashes_vehicles['MANEUVER'] = np.where(crashes_vehicles['UNIT_TYPE'] == unit_type, -1, crashes_vehicles['MANEUVER'])\n",
        "        crashes_vehicles['VEHICLE_YEAR'] = np.where(crashes_vehicles['UNIT_TYPE'] == unit_type, -1, crashes_vehicles['VEHICLE_YEAR'])\n",
        "\n"
      ]
    },
    {
      "cell_type": "code",
      "execution_count": 60,
      "id": "iznCDEEyF5Se",
      "metadata": {
        "colab": {
          "base_uri": "https://localhost:8080/"
        },
        "id": "iznCDEEyF5Se",
        "outputId": "5807c230-7425-473a-8f3f-1d5d232ab80a"
      },
      "outputs": [
        {
          "name": "stdout",
          "output_type": "stream",
          "text": [
            "CRASH_UNIT_ID                     0\n",
            "CRASH_RECORD_ID                   0\n",
            "CRASH_DATE                        0\n",
            "UNIT_NO                           0\n",
            "UNIT_TYPE                       843\n",
            "VEHICLE_ID                     1225\n",
            "CMRC_VEH_I                  1104328\n",
            "MAKE                           1229\n",
            "MODEL                          1313\n",
            "LIC_PLATE_STATE              118216\n",
            "VEHICLE_YEAR                 156188\n",
            "VEHICLE_DEFECT                 1225\n",
            "VEHICLE_TYPE                   1225\n",
            "VEHICLE_USE                    1225\n",
            "TRAVEL_DIRECTION               1225\n",
            "MANEUVER                       1225\n",
            "TOWED_I                      964816\n",
            "FIRE_I                      1125004\n",
            "OCCUPANT_CNT                  26950\n",
            "EXCEED_SPEED_LIMIT_I        1124271\n",
            "TOWED_BY                    1004116\n",
            "TOWED_TO                    1050838\n",
            "AREA_00_I                   1087190\n",
            "AREA_01_I                    812897\n",
            "AREA_02_I                    942284\n",
            "AREA_03_I                   1016819\n",
            "AREA_04_I                   1016125\n",
            "AREA_05_I                    952486\n",
            "AREA_06_I                    942986\n",
            "AREA_07_I                    954947\n",
            "AREA_08_I                    960216\n",
            "AREA_09_I                   1045500\n",
            "AREA_10_I                   1007529\n",
            "AREA_11_I                    898140\n",
            "AREA_12_I                    904335\n",
            "AREA_99_I                   1007873\n",
            "FIRST_CONTACT_POINT           28939\n",
            "CMV_ID                      1114327\n",
            "USDOT_NO                    1119473\n",
            "CCMC_NO                     1124720\n",
            "ILCC_NO                     1125153\n",
            "COMMERCIAL_SRC              1118206\n",
            "GVWR                        1119520\n",
            "CARRIER_NAME                1114848\n",
            "CARRIER_STATE               1115525\n",
            "CARRIER_CITY                1115717\n",
            "HAZMAT_PLACARDS_I           1125893\n",
            "HAZMAT_NAME                 1126082\n",
            "UN_NO                       1125733\n",
            "HAZMAT_PRESENT_I            1117454\n",
            "HAZMAT_REPORT_I             1117688\n",
            "HAZMAT_REPORT_NO            1126124\n",
            "MCS_REPORT_I                1117655\n",
            "MCS_REPORT_NO               1126121\n",
            "HAZMAT_VIO_CAUSE_CRASH_I    1117585\n",
            "MCS_VIO_CAUSE_CRASH_I       1117726\n",
            "IDOT_PERMIT_NO              1125477\n",
            "WIDE_LOAD_I                 1126027\n",
            "TRAILER1_WIDTH              1124125\n",
            "TRAILER2_WIDTH              1125884\n",
            "TRAILER1_LENGTH             1124506\n",
            "TRAILER2_LENGTH             1126075\n",
            "TOTAL_VEHICLE_LENGTH        1124147\n",
            "AXLE_CNT                    1123137\n",
            "VEHICLE_CONFIG              1116287\n",
            "CARGO_BODY_TYPE             1116723\n",
            "LOAD_TYPE                   1117135\n",
            "HAZMAT_OUT_OF_SERVICE_I     1117926\n",
            "MCS_OUT_OF_SERVICE_I        1117759\n",
            "HAZMAT_CLASS                1125367\n",
            "is_duplicate                      0\n"
          ]
        }
      ],
      "source": [
        "print(crashes_vehicles.isnull().sum().to_string())"
      ]
    },
    {
      "cell_type": "markdown",
      "id": "0QcduQEKGAPr",
      "metadata": {
        "id": "0QcduQEKGAPr"
      },
      "source": [
        "WE notice that there are many columns has kinda the same count of messing values  \n",
        "lets drop columns that has 75% messing value then descover what is going here"
      ]
    },
    {
      "cell_type": "code",
      "execution_count": 61,
      "id": "H-kJZE3bGDmw",
      "metadata": {
        "id": "H-kJZE3bGDmw"
      },
      "outputs": [],
      "source": [
        "null_percent = crashes_vehicles.isnull().mean() * 100\n",
        "columns_to_drop = null_percent[null_percent >= 75].index\n",
        "crashes_vehicles.drop(columns=columns_to_drop, inplace=True)"
      ]
    },
    {
      "cell_type": "code",
      "execution_count": 62,
      "id": "-9B7nSdiGH3O",
      "metadata": {
        "colab": {
          "base_uri": "https://localhost:8080/"
        },
        "id": "-9B7nSdiGH3O",
        "outputId": "275d5b97-3135-4050-acc1-38af479016dd"
      },
      "outputs": [
        {
          "name": "stdout",
          "output_type": "stream",
          "text": [
            "shape is (1126125, 19)\n",
            "CRASH_UNIT_ID               0\n",
            "CRASH_RECORD_ID             0\n",
            "CRASH_DATE                  0\n",
            "UNIT_NO                     0\n",
            "UNIT_TYPE                 843\n",
            "VEHICLE_ID               1225\n",
            "MAKE                     1229\n",
            "MODEL                    1313\n",
            "LIC_PLATE_STATE        118216\n",
            "VEHICLE_YEAR           156188\n",
            "VEHICLE_DEFECT           1225\n",
            "VEHICLE_TYPE             1225\n",
            "VEHICLE_USE              1225\n",
            "TRAVEL_DIRECTION         1225\n",
            "MANEUVER                 1225\n",
            "OCCUPANT_CNT            26950\n",
            "AREA_01_I              812897\n",
            "FIRST_CONTACT_POINT     28939\n",
            "is_duplicate                0\n"
          ]
        }
      ],
      "source": [
        "print(f'shape is {crashes_vehicles.shape}')\n",
        "print(crashes_vehicles.isnull().sum().to_string())"
      ]
    },
    {
      "cell_type": "markdown",
      "id": "6AXpif57GmJi",
      "metadata": {
        "id": "6AXpif57GmJi"
      },
      "source": [
        "lets take the rows when the VEHICLE_DEFECT is null"
      ]
    },
    {
      "cell_type": "code",
      "execution_count": 63,
      "id": "RQWM656UGQnr",
      "metadata": {
        "colab": {
          "base_uri": "https://localhost:8080/"
        },
        "id": "RQWM656UGQnr",
        "outputId": "a073bbf9-3acd-4b55-b12e-9994748fa176"
      },
      "outputs": [
        {
          "name": "stdout",
          "output_type": "stream",
          "text": [
            "CRASH_UNIT_ID             0\n",
            "CRASH_RECORD_ID           0\n",
            "CRASH_DATE                0\n",
            "UNIT_NO                   0\n",
            "UNIT_TYPE               835\n",
            "VEHICLE_ID             1225\n",
            "MAKE                   1225\n",
            "MODEL                  1225\n",
            "LIC_PLATE_STATE        1225\n",
            "VEHICLE_YEAR           1225\n",
            "VEHICLE_DEFECT         1225\n",
            "VEHICLE_TYPE           1225\n",
            "VEHICLE_USE            1225\n",
            "TRAVEL_DIRECTION       1225\n",
            "MANEUVER               1225\n",
            "OCCUPANT_CNT           1225\n",
            "AREA_01_I              1225\n",
            "FIRST_CONTACT_POINT    1225\n",
            "is_duplicate              0\n"
          ]
        }
      ],
      "source": [
        "result=crashes_vehicles[crashes_vehicles[\"VEHICLE_DEFECT\"].isnull()]\n",
        "print(result.isnull().sum().to_string())"
      ]
    },
    {
      "cell_type": "markdown",
      "id": "JlhAxdmDGXhj",
      "metadata": {
        "id": "JlhAxdmDGXhj"
      },
      "source": [
        "We can see the most of row values is nan so we can remove them"
      ]
    },
    {
      "cell_type": "code",
      "execution_count": 64,
      "id": "JLtH1nBMGUEW",
      "metadata": {
        "colab": {
          "base_uri": "https://localhost:8080/"
        },
        "id": "JLtH1nBMGUEW",
        "outputId": "3242375a-9309-4f7b-e1e9-ee4a1e87cef0"
      },
      "outputs": [
        {
          "name": "stdout",
          "output_type": "stream",
          "text": [
            "CRASH_UNIT_ID               0\n",
            "CRASH_RECORD_ID             0\n",
            "CRASH_DATE                  0\n",
            "UNIT_NO                     0\n",
            "UNIT_TYPE                   8\n",
            "VEHICLE_ID                  0\n",
            "MAKE                        4\n",
            "MODEL                      88\n",
            "LIC_PLATE_STATE        116991\n",
            "VEHICLE_YEAR           154963\n",
            "VEHICLE_DEFECT              0\n",
            "VEHICLE_TYPE                0\n",
            "VEHICLE_USE                 0\n",
            "TRAVEL_DIRECTION            0\n",
            "MANEUVER                    0\n",
            "OCCUPANT_CNT            25725\n",
            "AREA_01_I              811672\n",
            "FIRST_CONTACT_POINT     27714\n",
            "is_duplicate                0\n"
          ]
        }
      ],
      "source": [
        "crashes_vehicles=crashes_vehicles[crashes_vehicles[\"VEHICLE_DEFECT\"].notna()]\n",
        "print(crashes_vehicles.isnull().sum().to_string())"
      ]
    },
    {
      "cell_type": "markdown",
      "id": "gZFzMLkbGOLx",
      "metadata": {
        "id": "gZFzMLkbGOLx"
      },
      "source": [
        "let's drop AREA_01_I column"
      ]
    },
    {
      "cell_type": "code",
      "execution_count": 65,
      "id": "-WIqVdzoG3ot",
      "metadata": {
        "colab": {
          "base_uri": "https://localhost:8080/"
        },
        "id": "-WIqVdzoG3ot",
        "outputId": "4c857526-77b4-4b57-df2f-946ae7f4465a"
      },
      "outputs": [
        {
          "name": "stdout",
          "output_type": "stream",
          "text": [
            "CRASH_UNIT_ID               0\n",
            "CRASH_RECORD_ID             0\n",
            "CRASH_DATE                  0\n",
            "UNIT_NO                     0\n",
            "UNIT_TYPE                   8\n",
            "VEHICLE_ID                  0\n",
            "MAKE                        4\n",
            "MODEL                      88\n",
            "LIC_PLATE_STATE        116991\n",
            "VEHICLE_YEAR           154963\n",
            "VEHICLE_DEFECT              0\n",
            "VEHICLE_TYPE                0\n",
            "VEHICLE_USE                 0\n",
            "TRAVEL_DIRECTION            0\n",
            "MANEUVER                    0\n",
            "OCCUPANT_CNT            25725\n",
            "FIRST_CONTACT_POINT     27714\n",
            "is_duplicate                0\n"
          ]
        }
      ],
      "source": [
        "crashes_vehicles.drop([\"AREA_01_I\"],axis=1,inplace=True)\n",
        "print(crashes_vehicles.isnull().sum().to_string())"
      ]
    },
    {
      "cell_type": "markdown",
      "id": "W5kk0dqpG9DA",
      "metadata": {
        "id": "W5kk0dqpG9DA"
      },
      "source": [
        "let's have a look on vehicle_year column"
      ]
    },
    {
      "cell_type": "code",
      "execution_count": 66,
      "id": "21EqA0VDG8ug",
      "metadata": {
        "colab": {
          "base_uri": "https://localhost:8080/"
        },
        "id": "21EqA0VDG8ug",
        "outputId": "84cacca8-05ce-4118-f07e-5142a6bdfe44"
      },
      "outputs": [
        {
          "name": "stdout",
          "output_type": "stream",
          "text": [
            "-1.0\n",
            "9999.0\n",
            "[-1.0, 1900.0, 1901.0, 1902.0, 1905.0, 1911.0, 1929.0, 1939.0, 1941.0, 1951.0, 1952.0, 1953.0, 1954.0, 1957.0, 1958.0, 1960.0, 1961.0, 1962.0, 1963.0, 1964.0, 1965.0, 1966.0, 1967.0, 1968.0, 1969.0, 1970.0, 1971.0, 1972.0, 1973.0, 1974.0, 1975.0, 1976.0, 1977.0, 1978.0, 1979.0, 1980.0, 1981.0, 1982.0, 1983.0, 1984.0, 1985.0, 1986.0, 1987.0, 1988.0, 1989.0, 1990.0, 1991.0, 1992.0, 1993.0, 1994.0, 1995.0, 1996.0, 1997.0, 1998.0, 1999.0, 2000.0, 2001.0, 2002.0, 2003.0, 2004.0, 2005.0, 2006.0, 2007.0, 2008.0, 2009.0, 2010.0, 2013.0, 2015.0, nan, 2011.0, 2012.0, 2014.0, 2016.0, 2017.0, 2018.0, 2019.0, 2020.0, 2021.0, 2022.0, 2023.0, 2024.0, 2025.0, 2026.0, 2027.0, 2028.0, 2029.0, 2030.0, 2031.0, 2032.0, 2033.0, 2034.0, 2040.0, 2041.0, 2044.0, 2045.0, 2047.0, 2048.0, 2049.0, 2054.0, 2055.0, 2066.0, 2071.0, 2077.0, 2088.0, 2095.0, 2096.0, 2097.0, 2099.0, 2100.0, 2101.0, 2102.0, 2103.0, 2104.0, 2105.0, 2106.0, 2107.0, 2108.0, 2109.0, 2110.0, 2112.0, 2113.0, 2115.0, 2116.0, 2117.0, 2121.0, 2201.0, 2202.0, 2203.0, 2204.0, 2205.0, 2206.0, 2207.0, 2208.0, 2209.0, 2210.0, 2212.0, 2220.0, 2222.0, 2228.0, 2308.0, 2349.0, 2402.0, 2412.0, 2515.0, 2616.0, 2818.0, 2910.0, 2911.0, 2913.0, 2914.0, 2915.0, 2916.0, 2917.0, 2918.0, 2919.0, 2920.0, 2923.0, 2997.0, 2999.0, 3002.0, 3003.0, 3004.0, 3007.0, 3009.0, 3011.0, 3012.0, 3013.0, 3017.0, 3018.0, 3022.0, 3027.0, 3029.0, 3122.0, 5005.0, 5007.0, 5015.0, 5017.0, 5084.0, 5157.0, 6008.0, 6016.0, 6043.0, 7007.0, 7372.0, 7604.0, 7999.0, 8007.0, 8324.0, 9418.0, 9900.0, 9999.0]\n"
          ]
        }
      ],
      "source": [
        "result=crashes_vehicles[\"VEHICLE_YEAR\"]\n",
        "print(result.min())\n",
        "print(result.max())\n",
        "unique_values=result.unique().tolist()\n",
        "print(sorted(unique_values))"
      ]
    },
    {
      "cell_type": "markdown",
      "id": "Oaif2M3SHFDL",
      "metadata": {
        "id": "Oaif2M3SHFDL"
      },
      "source": [
        "we can see that there are alot of un logical years like 9999 so we will replace values like those  or all years those are greater than 2024 with -1 to notify unknown values with nan values."
      ]
    },
    {
      "cell_type": "code",
      "execution_count": 67,
      "id": "XcrR4GgHHD_8",
      "metadata": {
        "colab": {
          "base_uri": "https://localhost:8080/"
        },
        "id": "XcrR4GgHHD_8",
        "outputId": "eed68574-a474-48fc-892e-18c847ae5801"
      },
      "outputs": [
        {
          "name": "stdout",
          "output_type": "stream",
          "text": [
            "-1.0\n",
            "2024.0\n",
            "[-1.0, 1900.0, 1976.0, 1979.0, 1984.0, 1985.0, 1987.0, 1988.0, 1989.0, 1990.0, 1991.0, 1992.0, 1993.0, 1994.0, 1995.0, 1996.0, 1997.0, 1998.0, 1999.0, 2000.0, 2001.0, 2002.0, 2003.0, 2004.0, 2005.0, 2006.0, 2007.0, 2008.0, 2009.0, 2010.0, 2013.0, 2015.0, nan, 1901.0, 1902.0, 1905.0, 1911.0, 1929.0, 1939.0, 1941.0, 1951.0, 1952.0, 1953.0, 1954.0, 1957.0, 1958.0, 1960.0, 1961.0, 1962.0, 1963.0, 1964.0, 1965.0, 1966.0, 1967.0, 1968.0, 1969.0, 1970.0, 1971.0, 1972.0, 1973.0, 1974.0, 1975.0, 1977.0, 1978.0, 1980.0, 1981.0, 1982.0, 1983.0, 1986.0, 2011.0, 2012.0, 2014.0, 2016.0, 2017.0, 2018.0, 2019.0, 2020.0, 2021.0, 2022.0, 2023.0, 2024.0]\n"
          ]
        },
        {
          "data": {
            "text/plain": [
              "154963"
            ]
          },
          "execution_count": 67,
          "metadata": {},
          "output_type": "execute_result"
        }
      ],
      "source": [
        "crashes_vehicles.loc[crashes_vehicles[\"VEHICLE_YEAR\"]>2024 ,'VEHICLE_YEAR']=-1\n",
        "result=crashes_vehicles[\"VEHICLE_YEAR\"]\n",
        "print(result.min())\n",
        "print(result.max())\n",
        "unique_values=result.unique().tolist()\n",
        "print(sorted(unique_values))\n",
        "crashes_vehicles[\"VEHICLE_YEAR\"].isnull().sum()"
      ]
    },
    {
      "cell_type": "markdown",
      "id": "uMoKGlubHMzl",
      "metadata": {
        "id": "uMoKGlubHMzl"
      },
      "source": [
        "let's fill nan values with -1"
      ]
    },
    {
      "cell_type": "code",
      "execution_count": 68,
      "id": "4O9hwnyNHPQ7",
      "metadata": {
        "colab": {
          "base_uri": "https://localhost:8080/"
        },
        "id": "4O9hwnyNHPQ7",
        "outputId": "56d1f825-59e9-4768-c7be-6adca88c8819"
      },
      "outputs": [
        {
          "data": {
            "text/plain": [
              "0"
            ]
          },
          "execution_count": 68,
          "metadata": {},
          "output_type": "execute_result"
        }
      ],
      "source": [
        "crashes_vehicles[\"VEHICLE_YEAR\"]=crashes_vehicles[\"VEHICLE_YEAR\"].fillna(-1)\n",
        "crashes_vehicles[\"VEHICLE_YEAR\"].isnull().sum()"
      ]
    },
    {
      "cell_type": "code",
      "execution_count": 69,
      "id": "MUwBWFxSHSg3",
      "metadata": {
        "colab": {
          "base_uri": "https://localhost:8080/"
        },
        "id": "MUwBWFxSHSg3",
        "outputId": "c3aab6c2-2af6-48aa-a254-fb243f021c61"
      },
      "outputs": [
        {
          "name": "stdout",
          "output_type": "stream",
          "text": [
            "CRASH_UNIT_ID               0\n",
            "CRASH_RECORD_ID             0\n",
            "CRASH_DATE                  0\n",
            "UNIT_NO                     0\n",
            "UNIT_TYPE                   8\n",
            "VEHICLE_ID                  0\n",
            "MAKE                        4\n",
            "MODEL                      88\n",
            "LIC_PLATE_STATE        116991\n",
            "VEHICLE_YEAR                0\n",
            "VEHICLE_DEFECT              0\n",
            "VEHICLE_TYPE                0\n",
            "VEHICLE_USE                 0\n",
            "TRAVEL_DIRECTION            0\n",
            "MANEUVER                    0\n",
            "OCCUPANT_CNT            25725\n",
            "FIRST_CONTACT_POINT     27714\n",
            "is_duplicate                0\n"
          ]
        }
      ],
      "source": [
        "print(crashes_vehicles.isnull().sum().to_string())"
      ]
    },
    {
      "cell_type": "code",
      "execution_count": 70,
      "id": "q0Qo_uaSHV4b",
      "metadata": {
        "colab": {
          "base_uri": "https://localhost:8080/"
        },
        "id": "q0Qo_uaSHV4b",
        "outputId": "e30ff927-af36-48e2-d74b-830ce0fa48c9"
      },
      "outputs": [
        {
          "data": {
            "text/plain": [
              "array(['DRIVER', 'PARKED', 'PEDESTRIAN', 'BICYCLE', 'DRIVERLESS',\n",
              "       'NON-MOTOR VEHICLE', 'NON-CONTACT VEHICLE', nan,\n",
              "       'DISABLED VEHICLE', 'EQUESTRIAN'], dtype=object)"
            ]
          },
          "execution_count": 70,
          "metadata": {},
          "output_type": "execute_result"
        }
      ],
      "source": [
        "result=crashes_vehicles[crashes_vehicles[\"LIC_PLATE_STATE\"].isnull()]\n",
        "unique_per_typ_vals=result[\"UNIT_TYPE\"].unique()\n",
        "unique_per_typ_vals"
      ]
    },
    {
      "cell_type": "code",
      "execution_count": 71,
      "id": "laB1jZvjHZkQ",
      "metadata": {
        "colab": {
          "base_uri": "https://localhost:8080/"
        },
        "id": "laB1jZvjHZkQ",
        "outputId": "d974be06-2b61-423b-896b-4211c403138e"
      },
      "outputs": [
        {
          "name": "stdout",
          "output_type": "stream",
          "text": [
            "count of PARKED that theLIC_PLATE_STATE is nan is: 5154\n",
            "count of PARKED that the LIC_PLATE_STATE is nan is: 0\n",
            "************************************************************************************\n",
            "count of PEDESTRIAN that theLIC_PLATE_STATE is nan is: 15611\n",
            "count of PEDESTRIAN that the LIC_PLATE_STATE is nan is: 0\n",
            "************************************************************************************\n",
            "count of BICYCLE that theLIC_PLATE_STATE is nan is: 8825\n",
            "count of BICYCLE that the LIC_PLATE_STATE is nan is: 0\n",
            "************************************************************************************\n",
            "count of DRIVERLESS that theLIC_PLATE_STATE is nan is: 334\n",
            "count of DRIVERLESS that the LIC_PLATE_STATE is nan is: 0\n",
            "************************************************************************************\n",
            "count of NON-MOTOR VEHICLE that theLIC_PLATE_STATE is nan is: 1080\n",
            "count of NON-MOTOR VEHICLE that the LIC_PLATE_STATE is nan is: 0\n",
            "************************************************************************************\n",
            "count of NON-CONTACT VEHICLE that theLIC_PLATE_STATE is nan is: 140\n",
            "count of NON-CONTACT VEHICLE that the LIC_PLATE_STATE is nan is: 0\n",
            "************************************************************************************\n",
            "count of nan that theLIC_PLATE_STATE is nan is: 0\n",
            "count of nan that the LIC_PLATE_STATE is nan is: 0\n",
            "************************************************************************************\n",
            "count of DISABLED VEHICLE that theLIC_PLATE_STATE is nan is: 5\n",
            "count of DISABLED VEHICLE that the LIC_PLATE_STATE is nan is: 0\n",
            "************************************************************************************\n",
            "count of EQUESTRIAN that theLIC_PLATE_STATE is nan is: 5\n",
            "count of EQUESTRIAN that the LIC_PLATE_STATE is nan is: 0\n",
            "************************************************************************************\n"
          ]
        }
      ],
      "source": [
        "for typ in unique_per_typ_vals:\n",
        "    if typ !=\"DRIVER\":\n",
        "        count=((crashes_vehicles[\"UNIT_TYPE\"]==typ) & (crashes_vehicles[\"LIC_PLATE_STATE\"].isnull())).sum()\n",
        "\n",
        "        print(f'count of {typ} that theLIC_PLATE_STATE is nan is: {count}')\n",
        "\n",
        "        crashes_vehicles['LIC_PLATE_STATE'] = np.where(crashes_vehicles['UNIT_TYPE'] == typ, \"NOT REQUIRED\", crashes_vehicles['LIC_PLATE_STATE'])\n",
        "\n",
        "        count=((crashes_vehicles[\"UNIT_TYPE\"]==typ) & (crashes_vehicles[\"LIC_PLATE_STATE\"].isnull())).sum()\n",
        "\n",
        "        print(f'count of {typ} that the LIC_PLATE_STATE is nan is: {count}')\n",
        "        print(\"************************************************************************************\")"
      ]
    },
    {
      "cell_type": "code",
      "execution_count": 72,
      "id": "mN_XiaYhHgKn",
      "metadata": {
        "colab": {
          "base_uri": "https://localhost:8080/"
        },
        "id": "mN_XiaYhHgKn",
        "outputId": "175d3834-bbdd-453e-edb5-d1db388fffdb"
      },
      "outputs": [
        {
          "name": "stdout",
          "output_type": "stream",
          "text": [
            "CRASH_UNIT_ID              0\n",
            "CRASH_RECORD_ID            0\n",
            "CRASH_DATE                 0\n",
            "UNIT_NO                    0\n",
            "UNIT_TYPE                  8\n",
            "VEHICLE_ID                 0\n",
            "MAKE                       4\n",
            "MODEL                     88\n",
            "LIC_PLATE_STATE        85837\n",
            "VEHICLE_YEAR               0\n",
            "VEHICLE_DEFECT             0\n",
            "VEHICLE_TYPE               0\n",
            "VEHICLE_USE                0\n",
            "TRAVEL_DIRECTION           0\n",
            "MANEUVER                   0\n",
            "OCCUPANT_CNT           25725\n",
            "FIRST_CONTACT_POINT    27714\n",
            "is_duplicate               0\n"
          ]
        }
      ],
      "source": [
        "print(crashes_vehicles.isnull().sum().to_string())"
      ]
    },
    {
      "cell_type": "markdown",
      "id": "lIIeNed4HuCt",
      "metadata": {
        "id": "lIIeNed4HuCt"
      },
      "source": [
        "Now let's search for DRIVER_LICENSE_STATE based on the vehicle_id on crashes people and fill the messing value in the crashes_vehicles[\"LIC_PLATE_STATE\"]"
      ]
    },
    {
      "cell_type": "code",
      "execution_count": 73,
      "id": "PRIpVlE7Hz_q",
      "metadata": {
        "colab": {
          "base_uri": "https://localhost:8080/"
        },
        "id": "PRIpVlE7Hz_q",
        "outputId": "1df4f91c-58c4-46a1-e6e3-3df22f0d911e"
      },
      "outputs": [
        {
          "data": {
            "text/plain": [
              "(1407123, 19)"
            ]
          },
          "execution_count": 73,
          "metadata": {},
          "output_type": "execute_result"
        }
      ],
      "source": [
        "to_search=crashes_people.loc[(crashes_people[\"PERSON_TYPE\"]==\"DRIVER\")&(crashes_people[\"DRIVERS_LICENSE_STATE\"].notna())]\n",
        "to_search.shape"
      ]
    },
    {
      "cell_type": "code",
      "execution_count": 74,
      "id": "LKvXaXD_IqS5",
      "metadata": {
        "colab": {
          "base_uri": "https://localhost:8080/"
        },
        "id": "LKvXaXD_IqS5",
        "outputId": "b08ec319-12ec-471c-82d4-56fb5108ce7e"
      },
      "outputs": [
        {
          "name": "stdout",
          "output_type": "stream",
          "text": [
            "85836\n"
          ]
        }
      ],
      "source": [
        "indexes=crashes_vehicles.loc[(crashes_vehicles[\"UNIT_TYPE\"]==\"DRIVER\") & (crashes_vehicles[\"LIC_PLATE_STATE\"].isna())].index\n",
        "print(len(indexes))\n",
        "for index in indexes.tolist():\n",
        "  vehicle_id=crashes_vehicles.at[index,\"VEHICLE_ID\"]\n",
        "  vehicle_row = to_search.loc[to_search['VEHICLE_ID'] == vehicle_id]\n",
        "  if not vehicle_row.empty:\n",
        "            crashes_vehicles.at[index,'LIC_PLATE_STATE'] = vehicle_row.iloc[0]['DRIVERS_LICENSE_STATE']"
      ]
    },
    {
      "cell_type": "code",
      "execution_count": 75,
      "id": "Q-IzRC9MLsoh",
      "metadata": {
        "colab": {
          "base_uri": "https://localhost:8080/"
        },
        "id": "Q-IzRC9MLsoh",
        "outputId": "0b4ae8ae-0cce-42b6-a9cc-6c0e04406e8a"
      },
      "outputs": [
        {
          "name": "stdout",
          "output_type": "stream",
          "text": [
            "CRASH_UNIT_ID              0\n",
            "CRASH_RECORD_ID            0\n",
            "CRASH_DATE                 0\n",
            "UNIT_NO                    0\n",
            "UNIT_TYPE                  8\n",
            "VEHICLE_ID                 0\n",
            "MAKE                       4\n",
            "MODEL                     88\n",
            "LIC_PLATE_STATE           16\n",
            "VEHICLE_YEAR               0\n",
            "VEHICLE_DEFECT             0\n",
            "VEHICLE_TYPE               0\n",
            "VEHICLE_USE                0\n",
            "TRAVEL_DIRECTION           0\n",
            "MANEUVER                   0\n",
            "OCCUPANT_CNT           25725\n",
            "FIRST_CONTACT_POINT    27714\n",
            "is_duplicate               0\n"
          ]
        },
        {
          "data": {
            "text/plain": [
              "(1124900, 18)"
            ]
          },
          "execution_count": 75,
          "metadata": {},
          "output_type": "execute_result"
        }
      ],
      "source": [
        "print(crashes_vehicles.isnull().sum().to_string())\n",
        "crashes_vehicles.shape"
      ]
    },
    {
      "cell_type": "code",
      "execution_count": 76,
      "id": "7LDEi0zOL9mD",
      "metadata": {
        "colab": {
          "base_uri": "https://localhost:8080/"
        },
        "id": "7LDEi0zOL9mD",
        "outputId": "9c8acfb8-2151-4eeb-dfe3-9ed0822e2cc6"
      },
      "outputs": [
        {
          "name": "stdout",
          "output_type": "stream",
          "text": [
            "CRASH_UNIT_ID          0\n",
            "CRASH_RECORD_ID        0\n",
            "CRASH_DATE             0\n",
            "UNIT_NO                0\n",
            "UNIT_TYPE              0\n",
            "VEHICLE_ID             0\n",
            "MAKE                   0\n",
            "MODEL                  0\n",
            "LIC_PLATE_STATE        0\n",
            "VEHICLE_YEAR           0\n",
            "VEHICLE_DEFECT         0\n",
            "VEHICLE_TYPE           0\n",
            "VEHICLE_USE            0\n",
            "TRAVEL_DIRECTION       0\n",
            "MANEUVER               0\n",
            "OCCUPANT_CNT           0\n",
            "FIRST_CONTACT_POINT    0\n",
            "is_duplicate           0\n"
          ]
        },
        {
          "data": {
            "text/plain": [
              "(1097078, 18)"
            ]
          },
          "execution_count": 76,
          "metadata": {},
          "output_type": "execute_result"
        }
      ],
      "source": [
        "crashes_vehicles=crashes_vehicles.dropna(how=\"any\")\n",
        "print(crashes_vehicles.isnull().sum().to_string())\n",
        "crashes_vehicles.shape"
      ]
    },
    {
      "cell_type": "markdown",
      "id": "f1d428bd",
      "metadata": {},
      "source": [
        "## Chicago Street ##"
      ]
    },
    {
      "cell_type": "markdown",
      "id": "c2b06bce",
      "metadata": {},
      "source": [
        "We have deleted the following columns because most of their values are missing"
      ]
    },
    {
      "cell_type": "code",
      "execution_count": 78,
      "id": "bd21c67d",
      "metadata": {},
      "outputs": [],
      "source": [
        "col=['SUF_DIR','EDIT_TYPE','FLAG_STRIN']\n",
        "street_boundary.drop(columns=col, inplace=True)"
      ]
    },
    {
      "cell_type": "code",
      "execution_count": 79,
      "id": "622b7191",
      "metadata": {},
      "outputs": [
        {
          "name": "stdout",
          "output_type": "stream",
          "text": [
            "shape is (55747, 46)\n",
            "the_geom          0\n",
            "FNODE_ID          0\n",
            "TNODE_ID          0\n",
            "TRANS_ID          0\n",
            "PRE_DIR         454\n",
            "STREET_NAM      454\n",
            "STREET_TYP     1254\n",
            "STREETNAME        0\n",
            "L_F_ADD           0\n",
            "L_T_ADD           0\n",
            "R_F_ADD           0\n",
            "R_T_ADD           0\n",
            "LOGICLF           0\n",
            "LOGICLT           0\n",
            "LOGICRF           0\n",
            "LOGICRT           0\n",
            "CLASS             0\n",
            "STATUS            6\n",
            "STATUS_DAT        0\n",
            "TIERED            0\n",
            "ONEWAY_DIR    36452\n",
            "DIR_TRAVEL        0\n",
            "EWNS              0\n",
            "L_PARITY        404\n",
            "R_PARITY        404\n",
            "F_ZLEV            0\n",
            "T_ZLEV            0\n",
            "L_FIPS            0\n",
            "R_FIPS            0\n",
            "R_ZIP           197\n",
            "L_ZIP           199\n",
            "R_CENSUSBL        0\n",
            "L_CENSUSBL        0\n",
            "F_CROSS           0\n",
            "F_CROSS_ST        0\n",
            "T_CROSS           0\n",
            "T_CROSS_ST        0\n",
            "LENGTH            0\n",
            "EDIT_DATE         0\n",
            "EWNS_DIR       7779\n",
            "EWNS_COORD        0\n",
            "CREATE_USE        0\n",
            "CREATE_TIM        0\n",
            "UPDATE_USE        0\n",
            "UPDATE_TIM        0\n",
            "SHAPE_LEN         0\n"
          ]
        }
      ],
      "source": [
        "print(f'shape is {street_boundary.shape}')\n",
        "print(street_boundary.isnull().sum().to_string())"
      ]
    },
    {
      "cell_type": "markdown",
      "id": "d3797ea8",
      "metadata": {},
      "source": [
        "By leveraging the address range data (L_F_ADD, L_T_ADD, R_F_ADD, R_T_ADD), we can infer missing ZIP codes rather than leaving them empty, thereby making full use of the available data."
      ]
    },
    {
      "cell_type": "code",
      "execution_count": 80,
      "id": "9a83648b",
      "metadata": {},
      "outputs": [
        {
          "name": "stderr",
          "output_type": "stream",
          "text": [
            "C:\\Users\\Sulim\\AppData\\Local\\Temp\\ipykernel_14472\\90104452.py:7: SettingWithCopyWarning: \n",
            "A value is trying to be set on a copy of a slice from a DataFrame.\n",
            "Try using .loc[row_indexer,col_indexer] = value instead\n",
            "\n",
            "See the caveats in the documentation: https://pandas.pydata.org/pandas-docs/stable/user_guide/indexing.html#returning-a-view-versus-a-copy\n",
            "  missing_l_zip['L_ZIP'] = missing_l_zip.apply(lambda row: lookup_zip_by_address_range(row['L_F_ADD'], row['L_T_ADD']), axis=1)\n",
            "C:\\Users\\Sulim\\AppData\\Local\\Temp\\ipykernel_14472\\90104452.py:13: SettingWithCopyWarning: \n",
            "A value is trying to be set on a copy of a slice from a DataFrame.\n",
            "Try using .loc[row_indexer,col_indexer] = value instead\n",
            "\n",
            "See the caveats in the documentation: https://pandas.pydata.org/pandas-docs/stable/user_guide/indexing.html#returning-a-view-versus-a-copy\n",
            "  missing_r_zip['R_ZIP'] = missing_r_zip.apply(lambda row: lookup_zip_by_address_range(row['R_F_ADD'], row['R_T_ADD']), axis=1)\n"
          ]
        }
      ],
      "source": [
        "def lookup_zip_by_address_range(from_address, to_address):\n",
        "\n",
        "    return \"ZIP code based on range\"\n",
        "\n",
        "missing_l_zip = street_boundary[(street_boundary['L_ZIP'].isnull()) & (street_boundary['L_T_ADD'].notna())]\n",
        "\n",
        "missing_l_zip['L_ZIP'] = missing_l_zip.apply(lambda row: lookup_zip_by_address_range(row['L_F_ADD'], row['L_T_ADD']), axis=1)\n",
        "\n",
        "street_boundary.update(missing_l_zip[['L_ZIP']])\n",
        "\n",
        "missing_r_zip = street_boundary[(street_boundary['R_ZIP'].isnull()) & (street_boundary['R_T_ADD'].notna())]\n",
        "\n",
        "missing_r_zip['R_ZIP'] = missing_r_zip.apply(lambda row: lookup_zip_by_address_range(row['R_F_ADD'], row['R_T_ADD']), axis=1)\n",
        "\n",
        "street_boundary.update(missing_r_zip[['R_ZIP']])\n"
      ]
    },
    {
      "cell_type": "code",
      "execution_count": 81,
      "id": "6aa5aab5",
      "metadata": {},
      "outputs": [
        {
          "name": "stdout",
          "output_type": "stream",
          "text": [
            "Missing L_ZIP: 0\n",
            "Missing R_ZIP: 0\n"
          ]
        }
      ],
      "source": [
        "print(\"Missing L_ZIP:\", street_boundary['L_ZIP'].isnull().sum())\n",
        "print(\"Missing R_ZIP:\", street_boundary['R_ZIP'].isnull().sum())"
      ]
    },
    {
      "cell_type": "markdown",
      "id": "85ab92e9",
      "metadata": {},
      "source": [
        "Filled the L_PARITY and R_PARITY columns by using address ranges to infer parity, the data remains consistent and logical. \n",
        "This approach makes use of the available address range data (L_F_ADD, L_T_ADD, R_F_ADD, R_T_ADD) to infer missing values, rather than leaving them empty.\n"
      ]
    },
    {
      "cell_type": "code",
      "execution_count": 82,
      "id": "7b04d0f0",
      "metadata": {},
      "outputs": [
        {
          "name": "stdout",
          "output_type": "stream",
          "text": [
            "                                                the_geom  FNODE_ID  TNODE_ID  \\\n",
            "0      MULTILINESTRING ((-87.63187018232667 41.780809...     10809     16581   \n",
            "1      MULTILINESTRING ((-87.60548932047061 41.762229...      6501     34082   \n",
            "2      MULTILINESTRING ((-87.68381848191974 41.697243...     15338     22358   \n",
            "3      MULTILINESTRING ((-87.645841892972 41.69339840...     15799     28881   \n",
            "4      MULTILINESTRING ((-87.67053671318457 41.679759...     36407     36534   \n",
            "...                                                  ...       ...       ...   \n",
            "55742  MULTILINESTRING ((-87.60258652621407 41.791378...     30115     13289   \n",
            "55743  MULTILINESTRING ((-87.55932300738641 41.652260...     24893       627   \n",
            "55744  MULTILINESTRING ((-87.68393823919332 41.790213...     25482      8613   \n",
            "55745  MULTILINESTRING ((-87.53688884011001 41.725060...     34359      4743   \n",
            "55746  MULTILINESTRING ((-87.69944104447849 41.848219...      1040     22207   \n",
            "\n",
            "       TRANS_ID PRE_DIR     STREET_NAM STREET_TYP  STREETNAME  L_F_ADD  \\\n",
            "0        127104       S           YALE        AVE        1782        0   \n",
            "1        128895       S  COTTAGE GROVE        AVE        1236     7301   \n",
            "2        142645       S       CAMPBELL        AVE        1177    10801   \n",
            "3        148189       S       SANGAMON         ST        1696        0   \n",
            "4        139728       W          118TH         ST        1823     1933   \n",
            "...         ...     ...            ...        ...         ...      ...   \n",
            "55742    154843       S      INGLESIDE        AVE        1449     5701   \n",
            "55743    154508       E          134TH         ST          65     2636   \n",
            "55744    126837       S        WESTERN        AVE        1770     5701   \n",
            "55745    154981       S        KREITER        AVE        1498     9401   \n",
            "55746    147527       W           24TH         ST        1865     2941   \n",
            "\n",
            "       L_T_ADD  ...  T_CROSS_ST      LENGTH  EDIT_DATE  EWNS_DIR  EWNS_COORD  \\\n",
            "0            0  ...           0  220.566014          0         W         232   \n",
            "1         7359  ...         172  664.774635          0       NaN           0   \n",
            "2        10859  ...        1805  665.378484          0         W        2500   \n",
            "3            0  ...           0  152.564889          0         W         932   \n",
            "4         1959  ...        1214  332.691371          0         S       11800   \n",
            "...        ...  ...         ...         ...        ...       ...         ...   \n",
            "55742     5759  ...         143  665.075375   20030328         E         930   \n",
            "55743     2638  ...           0  444.227355   20071130         S       13400   \n",
            "55744     5759  ...        1933  676.251891          0         W        2400   \n",
            "55745     9459  ...        1239  965.850461   20020709         E        3526   \n",
            "55746     2957  ...        1692  220.251756   20081230         S        2400   \n",
            "\n",
            "       CREATE_USE                    CREATE_TIM UPDATE_USE  \\\n",
            "0        EXISTING  01/01/1999 08:00:00 AM +0000   EXISTING   \n",
            "1        EXISTING  01/01/1999 08:00:00 AM +0000   EXISTING   \n",
            "2        EXISTING  01/01/1999 08:00:00 AM +0000   EXISTING   \n",
            "3        EXISTING  01/01/1999 08:00:00 AM +0000   EXISTING   \n",
            "4        EXISTING  01/01/1999 08:00:00 AM +0000   EXISTING   \n",
            "...           ...                           ...        ...   \n",
            "55742    EXISTING  01/01/1999 08:00:00 AM +0000   EXISTING   \n",
            "55743    EXISTING  01/01/1999 08:00:00 AM +0000    ds06027   \n",
            "55744    EXISTING  01/01/1999 08:00:00 AM +0000   EXISTING   \n",
            "55745    EXISTING  01/01/1999 08:00:00 AM +0000   EXISTING   \n",
            "55746    EXISTING  01/01/1999 08:00:00 AM +0000    ds06027   \n",
            "\n",
            "                         UPDATE_TIM   SHAPE_LEN  \n",
            "0      01/01/1999 08:00:00 AM +0000  220.566012  \n",
            "1      01/01/1999 08:00:00 AM +0000  664.774607  \n",
            "2      01/01/1999 08:00:00 AM +0000  665.378453  \n",
            "3      01/01/1999 08:00:00 AM +0000  152.564966  \n",
            "4      01/01/1999 08:00:00 AM +0000  332.691382  \n",
            "...                             ...         ...  \n",
            "55742  03/28/2003 08:00:00 AM +0000  665.075339  \n",
            "55743  11/05/2008 08:00:00 AM +0000  444.227355  \n",
            "55744  01/01/1999 08:00:00 AM +0000  676.251896  \n",
            "55745  07/09/2002 07:00:00 AM +0000  965.850439  \n",
            "55746  12/30/2008 08:00:00 AM +0000  220.251756  \n",
            "\n",
            "[55747 rows x 46 columns]\n"
          ]
        }
      ],
      "source": [
        "\n",
        "def determine_parity(from_address, to_address):\n",
        "    if pd.isna(from_address) or pd.isna(to_address):\n",
        "        return None  \n",
        "    from_parity = from_address % 2  \n",
        "    to_parity = to_address % 2\n",
        "    if from_parity == to_parity:  \n",
        "        return 'E' if from_parity == 0 else 'O'\n",
        "    else:\n",
        "        \n",
        "        return 'Mixed'\n",
        "\n",
        "street_boundary['L_PARITY'] = street_boundary.apply(\n",
        "    lambda row: determine_parity(row['L_F_ADD'], row['L_T_ADD']) if pd.isna(row['L_PARITY']) else row['L_PARITY'],\n",
        "    axis=1\n",
        ")\n",
        "\n",
        "street_boundary['R_PARITY'] = street_boundary.apply(\n",
        "    lambda row: determine_parity(row['R_F_ADD'], row['R_T_ADD']) if pd.isna(row['R_PARITY']) else row['R_PARITY'],\n",
        "    axis=1\n",
        ")\n",
        "\n",
        "print(street_boundary)"
      ]
    },
    {
      "cell_type": "code",
      "execution_count": 83,
      "id": "0aa57714",
      "metadata": {},
      "outputs": [
        {
          "name": "stdout",
          "output_type": "stream",
          "text": [
            "Missing L_PARITY : 0\n",
            "Missing R_PARITY : 0\n"
          ]
        }
      ],
      "source": [
        "print(\"Missing L_PARITY :\", street_boundary['L_PARITY'].isnull().sum())\n",
        "print(\"Missing R_PARITY :\", street_boundary['R_PARITY'].isnull().sum())"
      ]
    },
    {
      "cell_type": "code",
      "execution_count": 84,
      "id": "9e5884f2",
      "metadata": {},
      "outputs": [
        {
          "data": {
            "text/html": [
              "<div>\n",
              "<style scoped>\n",
              "    .dataframe tbody tr th:only-of-type {\n",
              "        vertical-align: middle;\n",
              "    }\n",
              "\n",
              "    .dataframe tbody tr th {\n",
              "        vertical-align: top;\n",
              "    }\n",
              "\n",
              "    .dataframe thead th {\n",
              "        text-align: right;\n",
              "    }\n",
              "</style>\n",
              "<table border=\"1\" class=\"dataframe\">\n",
              "  <thead>\n",
              "    <tr style=\"text-align: right;\">\n",
              "      <th></th>\n",
              "      <th>T_CROSS</th>\n",
              "      <th>F_CROSS</th>\n",
              "    </tr>\n",
              "  </thead>\n",
              "  <tbody>\n",
              "    <tr>\n",
              "      <th>265</th>\n",
              "      <td>0| |||</td>\n",
              "      <td>0| |||</td>\n",
              "    </tr>\n",
              "    <tr>\n",
              "      <th>376</th>\n",
              "      <td>||DEAD END||</td>\n",
              "      <td>0|N|PATTON|DR|</td>\n",
              "    </tr>\n",
              "    <tr>\n",
              "      <th>438</th>\n",
              "      <td>0| |||</td>\n",
              "      <td>0| |||</td>\n",
              "    </tr>\n",
              "    <tr>\n",
              "      <th>443</th>\n",
              "      <td>0| |||</td>\n",
              "      <td>0| |||</td>\n",
              "    </tr>\n",
              "    <tr>\n",
              "      <th>566</th>\n",
              "      <td>0| |||</td>\n",
              "      <td>0| |||</td>\n",
              "    </tr>\n",
              "  </tbody>\n",
              "</table>\n",
              "</div>"
            ],
            "text/plain": [
              "          T_CROSS         F_CROSS\n",
              "265        0| |||          0| |||\n",
              "376  ||DEAD END||  0|N|PATTON|DR|\n",
              "438        0| |||          0| |||\n",
              "443        0| |||          0| |||\n",
              "566        0| |||          0| |||"
            ]
          },
          "execution_count": 84,
          "metadata": {},
          "output_type": "execute_result"
        }
      ],
      "source": [
        "missing_street_nam = street_boundary[street_boundary['STREET_NAM'].isna()]\n",
        "\n",
        "missing_street_nam[['T_CROSS', 'F_CROSS']].head()"
      ]
    },
    {
      "cell_type": "markdown",
      "id": "c746ca6b",
      "metadata": {},
      "source": [
        "The function fills missing STREET_NAM values using F_CROSS and T_CROSS columns.\n",
        "Logic: It prioritizes non-\"DEAD END\" values and filters out unwanted parts using regex.\n",
        "Result: The DataFrame is updated with fewer missing values in the STREET_NAM column."
      ]
    },
    {
      "cell_type": "code",
      "execution_count": 85,
      "id": "06d5a349",
      "metadata": {},
      "outputs": [
        {
          "data": {
            "text/plain": [
              "337"
            ]
          },
          "execution_count": 85,
          "metadata": {},
          "output_type": "execute_result"
        }
      ],
      "source": [
        "import pandas as pd\n",
        "import re\n",
        "\n",
        "def extract_street_name(row):\n",
        "    # Regex to identify undesired parts (numbers, single letters which are directions, common street types)\n",
        "    direction_or_type_regex = r\"^\\d+|^(N|S|E|W|NE|NW|SE|SW)$|^(AVE|ST|PL|DR|RD|BLVD|LN|WAY|CT)$\"\n",
        "    dead_end = \"||DEAD END||\"\n",
        "\n",
        "    if pd.isna(row['STREET_NAM']):\n",
        "            # Check if both F_CROSS and T_CROSS are \"DEAD END\"\n",
        "            if row['F_CROSS'] == dead_end and row['T_CROSS'] == dead_end:\n",
        "                return pd.NA\n",
        "            \n",
        "            # Check both columns, prioritize the one that does not say \"DEAD END\"\n",
        "            for col in ['F_CROSS', 'T_CROSS']:\n",
        "                other_col = 'T_CROSS' if col == 'F_CROSS' else 'F_CROSS'\n",
        "                \n",
        "                if row[col] == dead_end and pd.notna(row[other_col]):\n",
        "                    # If current column is \"DEAD END\" and the other column has a value, parse the other one\n",
        "                    parts = row[other_col].split('|')\n",
        "                elif pd.notna(row[col]):\n",
        "                    # If current column is not \"DEAD END\", parse it\n",
        "                    parts = row[col].split('|')\n",
        "                else:\n",
        "                    continue\n",
        "\n",
        "                for part in parts:\n",
        "                    cleaned_part = part.strip()\n",
        "                    if not re.match(direction_or_type_regex, cleaned_part, re.I):\n",
        "                        if cleaned_part:  # Ensure it's not empty\n",
        "                            return cleaned_part\n",
        "        \n",
        "    return row['STREET_NAM']  # Return existing name if no new name is found\n",
        "\n",
        "# Apply the function to extract street names\n",
        "street_boundary['STREET_NAM'] = street_boundary.apply(extract_street_name, axis=1)\n",
        "\n",
        "# Check how many missing values remain in 'STREET_NAM' after imputation\n",
        "remaining_missing = street_boundary['STREET_NAM'].isna().sum()\n",
        "remaining_missing\n"
      ]
    },
    {
      "cell_type": "code",
      "execution_count": 86,
      "id": "453742a8",
      "metadata": {},
      "outputs": [
        {
          "name": "stdout",
          "output_type": "stream",
          "text": [
            "Missing STREET_NAM: 337\n"
          ]
        }
      ],
      "source": [
        "print(\"Missing STREET_NAM:\", street_boundary['STREET_NAM'].isnull().sum())"
      ]
    },
    {
      "cell_type": "markdown",
      "id": "03ba1427",
      "metadata": {},
      "source": [
        "Fill missing PRE_DIR values using the most common PRE_DIR associated with each STREET_NAM."
      ]
    },
    {
      "cell_type": "markdown",
      "id": "ad84455d",
      "metadata": {},
      "source": [
        "Step 1: Filter Data to Non-Missing PRE_DIR and STREET_NAM                                                                        \n",
        "Step 2: Analyze the Relationship Between STREET_NAM and PRE_DIR"
      ]
    },
    {
      "cell_type": "code",
      "execution_count": 87,
      "id": "8b21707f",
      "metadata": {},
      "outputs": [
        {
          "data": {
            "text/plain": [
              "STREET_NAM\n",
              "100TH    E\n",
              "101ST    W\n",
              "102ND    W\n",
              "103RD    W\n",
              "104TH    W\n",
              "Name: PRE_DIR, dtype: object"
            ]
          },
          "execution_count": 87,
          "metadata": {},
          "output_type": "execute_result"
        }
      ],
      "source": [
        "valid_directions = street_boundary.dropna(subset=['PRE_DIR', 'STREET_NAM'])\n",
        "\n",
        "direction_frequency = valid_directions.groupby('STREET_NAM')['PRE_DIR'].agg(lambda x: x.mode()[0])\n",
        "direction_frequency.head()  "
      ]
    },
    {
      "cell_type": "markdown",
      "id": "adfef4d2",
      "metadata": {},
      "source": [
        "Step 3: Convert Series to Dictionary for Mapping"
      ]
    },
    {
      "cell_type": "code",
      "execution_count": 88,
      "id": "96bf9c2d",
      "metadata": {},
      "outputs": [],
      "source": [
        "direction_map = direction_frequency.to_dict()"
      ]
    },
    {
      "cell_type": "markdown",
      "id": "faf64f48",
      "metadata": {},
      "source": [
        "Step 4: Define a Function to Fill Missing PRE_DIR                                                             \n",
        "Step 5: Apply the Function to Fill Missing PRE_DIR                                                       \n",
        "Step 6: Check Remaining Missing Values in PRE_DIR"
      ]
    },
    {
      "cell_type": "code",
      "execution_count": 89,
      "id": "1fc81d00",
      "metadata": {},
      "outputs": [
        {
          "data": {
            "text/plain": [
              "337"
            ]
          },
          "execution_count": 89,
          "metadata": {},
          "output_type": "execute_result"
        }
      ],
      "source": [
        "def fill_pre_dir(row):\n",
        "    if pd.isna(row['PRE_DIR']) and row['STREET_NAM'] in direction_map:\n",
        "        return direction_map[row['STREET_NAM']]\n",
        "    else:\n",
        "        return row['PRE_DIR']\n",
        "\n",
        "street_boundary['PRE_DIR'] = street_boundary.apply(fill_pre_dir, axis=1)\n",
        "\n",
        "remaining_missing_pre_dir = street_boundary['PRE_DIR'].isna().sum()\n",
        "remaining_missing_pre_dir\n"
      ]
    },
    {
      "cell_type": "markdown",
      "id": "c3f3f41c",
      "metadata": {},
      "source": [
        "Fill missing STREET_TYP values using the most common STREET_TYP associated with each STREET_NAM."
      ]
    },
    {
      "cell_type": "markdown",
      "id": "e37e8432",
      "metadata": {},
      "source": [
        "Step 1: Filter Data to Non-Missing STREET_TYP and STREET_NAM                                     \n",
        "Step 2: Analyze the Relationship Between STREET_NAM and STREET_TYP"
      ]
    },
    {
      "cell_type": "code",
      "execution_count": 90,
      "id": "bf621f8d",
      "metadata": {},
      "outputs": [
        {
          "data": {
            "text/plain": [
              "STREET_NAM\n",
              "100TH    ST\n",
              "101ST    ST\n",
              "102ND    ST\n",
              "103RD    ST\n",
              "104TH    ST\n",
              "Name: STREET_TYP, dtype: object"
            ]
          },
          "execution_count": 90,
          "metadata": {},
          "output_type": "execute_result"
        }
      ],
      "source": [
        "valid_types = street_boundary.dropna(subset=['STREET_TYP', 'STREET_NAM'])\n",
        "\n",
        "type_frequency = valid_types.groupby('STREET_NAM')['STREET_TYP'].agg(lambda x: x.mode()[0])\n",
        "type_frequency.head()  \n"
      ]
    },
    {
      "cell_type": "markdown",
      "id": "cf42cba2",
      "metadata": {},
      "source": [
        "Step 3: Convert Series to Dictionary for Mapping"
      ]
    },
    {
      "cell_type": "code",
      "execution_count": 91,
      "id": "5b7001c7",
      "metadata": {},
      "outputs": [],
      "source": [
        "type_map = type_frequency.to_dict()"
      ]
    },
    {
      "cell_type": "markdown",
      "id": "aecc3fc0",
      "metadata": {},
      "source": [
        "Step 4: Define a Function to Fill Missing STREET_TYP                      \n",
        "Step 5: Apply the Function to Fill Missing STREET_TYP                              \n",
        "Step 6: Check Remaining Missing Values in STREET_TYP               "
      ]
    },
    {
      "cell_type": "code",
      "execution_count": 92,
      "id": "018d024e",
      "metadata": {},
      "outputs": [
        {
          "data": {
            "text/plain": [
              "1096"
            ]
          },
          "execution_count": 92,
          "metadata": {},
          "output_type": "execute_result"
        }
      ],
      "source": [
        "def fill_street_type(row):\n",
        "    if pd.isna(row['STREET_TYP']) and row['STREET_NAM'] in type_map:\n",
        "        return type_map[row['STREET_NAM']]\n",
        "    else:\n",
        "        return row['STREET_TYP']\n",
        "\n",
        "street_boundary['STREET_TYP'] = street_boundary.apply(fill_street_type, axis=1)\n",
        "\n",
        "remaining_missing_street_type = street_boundary['STREET_TYP'].isna().sum()\n",
        "remaining_missing_street_type\n"
      ]
    },
    {
      "cell_type": "code",
      "execution_count": 93,
      "id": "0dbaab57",
      "metadata": {},
      "outputs": [
        {
          "name": "stdout",
          "output_type": "stream",
          "text": [
            "shape is (55747, 46)\n",
            "the_geom          0\n",
            "FNODE_ID          0\n",
            "TNODE_ID          0\n",
            "TRANS_ID          0\n",
            "PRE_DIR         337\n",
            "STREET_NAM      337\n",
            "STREET_TYP     1096\n",
            "STREETNAME        0\n",
            "L_F_ADD           0\n",
            "L_T_ADD           0\n",
            "R_F_ADD           0\n",
            "R_T_ADD           0\n",
            "LOGICLF           0\n",
            "LOGICLT           0\n",
            "LOGICRF           0\n",
            "LOGICRT           0\n",
            "CLASS             0\n",
            "STATUS            6\n",
            "STATUS_DAT        0\n",
            "TIERED            0\n",
            "ONEWAY_DIR    36452\n",
            "DIR_TRAVEL        0\n",
            "EWNS              0\n",
            "L_PARITY          0\n",
            "R_PARITY          0\n",
            "F_ZLEV            0\n",
            "T_ZLEV            0\n",
            "L_FIPS            0\n",
            "R_FIPS            0\n",
            "R_ZIP             0\n",
            "L_ZIP             0\n",
            "R_CENSUSBL        0\n",
            "L_CENSUSBL        0\n",
            "F_CROSS           0\n",
            "F_CROSS_ST        0\n",
            "T_CROSS           0\n",
            "T_CROSS_ST        0\n",
            "LENGTH            0\n",
            "EDIT_DATE         0\n",
            "EWNS_DIR       7779\n",
            "EWNS_COORD        0\n",
            "CREATE_USE        0\n",
            "CREATE_TIM        0\n",
            "UPDATE_USE        0\n",
            "UPDATE_TIM        0\n",
            "SHAPE_LEN         0\n"
          ]
        }
      ],
      "source": [
        "print(f'shape is {street_boundary.shape}')\n",
        "print(street_boundary.isnull().sum().to_string())"
      ]
    },
    {
      "cell_type": "markdown",
      "id": "78536c7b",
      "metadata": {},
      "source": [
        "Missing value in EWNS_DIR\n",
        "here's an analysis of the relationship between EWNS_COORD and EWNS_DIR"
      ]
    },
    {
      "cell_type": "code",
      "execution_count": 94,
      "id": "387cfdb3",
      "metadata": {},
      "outputs": [
        {
          "data": {
            "image/png": "[encoded data removed]",
            "text/plain": [
              "<Figure size 1000x600 with 1 Axes>"
            ]
          },
          "metadata": {},
          "output_type": "display_data"
        },
        {
          "name": "stdout",
          "output_type": "stream",
          "text": [
            "               EWNS_DIR_CODE  EWNS_COORD\n",
            "EWNS_DIR_CODE       1.000000    0.372995\n",
            "EWNS_COORD          0.372995    1.000000\n"
          ]
        }
      ],
      "source": [
        "plt.figure(figsize=(10, 6))\n",
        "sns.boxplot(x='EWNS_DIR', y='EWNS_COORD', data=street_boundary)\n",
        "plt.title('Distribution of EWNS_COORD by EWNS_DIR Categories')\n",
        "plt.show()\n",
        "\n",
        "if 'EWNS_DIR' in street_boundary.columns and street_boundary['EWNS_DIR'].dtype in ['int64', 'float64']:\n",
        "    print(street_boundary[['EWNS_DIR', 'EWNS_COORD']].corr())\n",
        "else:\n",
        "    \n",
        "    street_boundary['EWNS_DIR_CODE'] = street_boundary['EWNS_DIR'].astype('category').cat.codes\n",
        "    print(street_boundary[['EWNS_DIR_CODE', 'EWNS_COORD']].corr())\n"
      ]
    },
    {
      "cell_type": "markdown",
      "id": "1ae2e04a",
      "metadata": {},
      "source": [
        "Given the insights from the relationship between EWNS_COORD and EWNS_DIR and the moderate correlation observed, you can use EWNS_COORD to impute missing values in EWNS_DIR. The strategy involves setting thresholds based on the distribution of EWNS_COORD within each directional category to categorize missing EWNS_DIR based on EWNS_COORD values. "
      ]
    },
    {
      "cell_type": "markdown",
      "id": "52641b5a",
      "metadata": {},
      "source": [
        "Fill missing EWNS_DIR values using refined thresholds based on EWNS_COORD.                                \n",
        "  - Define a function with adjusted thresholds to impute EWNS_DIR.                          \n",
        "  - Check the remaining missing values in EWNS_DIR and verify the changes.                              \n",
        "- The `EWNS_DIR` column is filled more accurately based on new thresholds, improving the data completeness  and consistency.                                   "
      ]
    },
    {
      "cell_type": "code",
      "execution_count": 95,
      "id": "351cf5b5",
      "metadata": {},
      "outputs": [],
      "source": [
        "def refine_impute_ewns_dir(row):\n",
        "\n",
        "    if pd.isna(row['EWNS_DIR']):\n",
        "        if row['EWNS_COORD'] < 2500:\n",
        "            return 'W'\n",
        "        elif 2500 <= row['EWNS_COORD'] < 7000:\n",
        "            return 'S'\n",
        "        elif 7000 <= row['EWNS_COORD'] < 9000:\n",
        "            return 'N'\n",
        "        else:\n",
        "            return 'E'\n",
        "    else:\n",
        "        return row['EWNS_DIR']\n",
        "\n",
        "\n",
        "street_boundary['EWNS_DIR'] = street_boundary.apply(refine_impute_ewns_dir, axis=1)\n"
      ]
    },
    {
      "cell_type": "code",
      "execution_count": 96,
      "id": "8a2c6844",
      "metadata": {},
      "outputs": [
        {
          "name": "stdout",
          "output_type": "stream",
          "text": [
            "Missing EWNS_DIR: 0\n"
          ]
        }
      ],
      "source": [
        "print(\"Missing EWNS_DIR:\", street_boundary['EWNS_DIR'].isnull().sum())"
      ]
    },
    {
      "cell_type": "code",
      "execution_count": 97,
      "id": "842d67e2",
      "metadata": {},
      "outputs": [
        {
          "data": {
            "image/png": "[encoded data removed]",
            "text/plain": [
              "<Figure size 1000x600 with 1 Axes>"
            ]
          },
          "metadata": {},
          "output_type": "display_data"
        },
        {
          "name": "stdout",
          "output_type": "stream",
          "text": [
            "               EWNS_DIR_CODE  EWNS_COORD\n",
            "EWNS_DIR_CODE       1.000000   -0.094314\n",
            "EWNS_COORD         -0.094314    1.000000\n"
          ]
        }
      ],
      "source": [
        "plt.figure(figsize=(10, 6))\n",
        "sns.boxplot(x='EWNS_DIR', y='EWNS_COORD', data=street_boundary)\n",
        "plt.title('Distribution of EWNS_COORD by EWNS_DIR Categories')\n",
        "plt.show()\n",
        "\n",
        "if 'EWNS_DIR' in street_boundary.columns and street_boundary['EWNS_DIR'].dtype in ['int64', 'float64']:\n",
        "    print(street_boundary[['EWNS_DIR', 'EWNS_COORD']].corr())\n",
        "else:\n",
        "    street_boundary['EWNS_DIR_CODE'] = street_boundary['EWNS_DIR'].astype('category').cat.codes\n",
        "    print(street_boundary[['EWNS_DIR_CODE', 'EWNS_COORD']].corr())\n"
      ]
    },
    {
      "cell_type": "markdown",
      "id": "2fd820ea",
      "metadata": {},
      "source": [
        "Fill missing values in the ONEWAY_DIR column with a default value 'two way street'"
      ]
    },
    {
      "cell_type": "code",
      "execution_count": 98,
      "id": "6368afab",
      "metadata": {},
      "outputs": [
        {
          "name": "stdout",
          "output_type": "stream",
          "text": [
            "Missing ONEWAY_DIR: 0\n"
          ]
        }
      ],
      "source": [
        "street_boundary['ONEWAY_DIR'].fillna(value='two way street', inplace=True)\n",
        "print(\"Missing ONEWAY_DIR:\", street_boundary['ONEWAY_DIR'].isnull().sum())"
      ]
    },
    {
      "cell_type": "code",
      "execution_count": 99,
      "id": "2e30031e",
      "metadata": {},
      "outputs": [
        {
          "name": "stdout",
          "output_type": "stream",
          "text": [
            "Total rows before deletion: 55747\n"
          ]
        }
      ],
      "source": [
        "print(f\"Total rows before deletion: {street_boundary.shape[0]}\")"
      ]
    },
    {
      "cell_type": "markdown",
      "id": "920754b6",
      "metadata": {},
      "source": [
        "Removes rows from the street_boundary where the STREET_NAM column has missing values. "
      ]
    },
    {
      "cell_type": "code",
      "execution_count": 101,
      "id": "949da3ad",
      "metadata": {},
      "outputs": [],
      "source": [
        "street_boundary = street_boundary.dropna(subset=['STREET_NAM'])"
      ]
    },
    {
      "cell_type": "code",
      "execution_count": 102,
      "id": "4605d1f4",
      "metadata": {},
      "outputs": [
        {
          "name": "stdout",
          "output_type": "stream",
          "text": [
            "Total rows after deletion: 55410\n"
          ]
        }
      ],
      "source": [
        "print(f\"Total rows after deletion: {street_boundary.shape[0]}\")"
      ]
    },
    {
      "cell_type": "markdown",
      "id": "77c6b594",
      "metadata": {},
      "source": [
        "Fill missing values in the STREET_TYP column by distributing them proportionally based on the frequency of existing values, ensuring that the proportions of the different types remain consistent."
      ]
    },
    {
      "cell_type": "code",
      "execution_count": 104,
      "id": "631c3b7d",
      "metadata": {},
      "outputs": [
        {
          "name": "stdout",
          "output_type": "stream",
          "text": [
            "STREET_TYP\n",
            "AVE     0.471446\n",
            "ST      0.363799\n",
            "PL      0.034400\n",
            "EXPY    0.026916\n",
            "DR      0.026806\n",
            "RD      0.022012\n",
            "BLVD    0.021683\n",
            "ER      0.012351\n",
            "XR      0.009222\n",
            "PKWY    0.003623\n",
            "CT      0.002928\n",
            "TER     0.001336\n",
            "RL      0.001025\n",
            "HWY     0.000823\n",
            "SR      0.000549\n",
            "LN      0.000512\n",
            "PLZ     0.000201\n",
            "WAY     0.000128\n",
            "SQ      0.000091\n",
            "TOLL    0.000073\n",
            "CRES    0.000037\n",
            "ROW     0.000037\n",
            "Name: count, dtype: float64\n"
          ]
        }
      ],
      "source": [
        "street_typ_counts = street_boundary['STREET_TYP'].value_counts()\n",
        "\n",
        "street_typ_proportions = street_typ_counts / street_typ_counts.sum()\n",
        "print(street_typ_proportions)"
      ]
    },
    {
      "cell_type": "markdown",
      "id": "070e897e",
      "metadata": {},
      "source": [
        "Step 1: Calculate the Number of Missing Values in STREET_TYP                                           \n",
        "Step 2: Calculate the Proportional Distribution of Missing Values"
      ]
    },
    {
      "cell_type": "code",
      "execution_count": 105,
      "id": "7200acfa",
      "metadata": {},
      "outputs": [],
      "source": [
        "num_missing = street_boundary['STREET_TYP'].isna().sum()\n",
        "\n",
        "missing_distribution = (street_typ_proportions * num_missing).round().astype(int)"
      ]
    },
    {
      "cell_type": "markdown",
      "id": "7974cbb7",
      "metadata": {},
      "source": [
        "Step 3: Adjust for Rounding Errors                                                                                        "
      ]
    },
    {
      "cell_type": "code",
      "execution_count": 106,
      "id": "aa29edc6",
      "metadata": {},
      "outputs": [
        {
          "name": "stdout",
          "output_type": "stream",
          "text": [
            "STREET_TYP\n",
            "AVE     359\n",
            "ST      277\n",
            "PL       26\n",
            "EXPY     20\n",
            "DR       20\n",
            "RD       17\n",
            "BLVD     16\n",
            "ER        9\n",
            "XR        7\n",
            "PKWY      3\n",
            "CT        2\n",
            "TER       1\n",
            "RL        1\n",
            "HWY       1\n",
            "SR        0\n",
            "LN        0\n",
            "PLZ       0\n",
            "WAY       0\n",
            "SQ        0\n",
            "TOLL      0\n",
            "CRES      0\n",
            "ROW       0\n",
            "Name: count, dtype: int32\n"
          ]
        }
      ],
      "source": [
        "missing_distribution_adjusted = missing_distribution.copy()\n",
        "\n",
        "difference = num_missing - missing_distribution_adjusted.sum()\n",
        "\n",
        "for i in range(abs(difference)):\n",
        "    index = i % len(missing_distribution_adjusted)\n",
        "    if difference > 0:\n",
        "        missing_distribution_adjusted.iloc[index] += 1\n",
        "    else:\n",
        "        missing_distribution_adjusted.iloc[index] -= 1\n",
        "\n",
        "print(missing_distribution_adjusted)"
      ]
    },
    {
      "cell_type": "markdown",
      "id": "f7cc48b4",
      "metadata": {},
      "source": [
        "Step 4: Generate the List of Missing Values                     \n",
        "Step 5: Fill Missing Values in STREET_TYP                                                    \n",
        "Step 6: Verify the Changes"
      ]
    },
    {
      "cell_type": "code",
      "execution_count": 107,
      "id": "9401a044",
      "metadata": {},
      "outputs": [
        {
          "name": "stdout",
          "output_type": "stream",
          "text": [
            "Remaining missing STREET_TYP: 0\n",
            "                                            the_geom  FNODE_ID  TNODE_ID  \\\n",
            "0  MULTILINESTRING ((-87.63187018232667 41.780809...     10809     16581   \n",
            "1  MULTILINESTRING ((-87.60548932047061 41.762229...      6501     34082   \n",
            "2  MULTILINESTRING ((-87.68381848191974 41.697243...     15338     22358   \n",
            "3  MULTILINESTRING ((-87.645841892972 41.69339840...     15799     28881   \n",
            "4  MULTILINESTRING ((-87.67053671318457 41.679759...     36407     36534   \n",
            "\n",
            "   TRANS_ID PRE_DIR     STREET_NAM STREET_TYP  STREETNAME  L_F_ADD  L_T_ADD  \\\n",
            "0    127104       S           YALE        AVE        1782        0        0   \n",
            "1    128895       S  COTTAGE GROVE        AVE        1236     7301     7359   \n",
            "2    142645       S       CAMPBELL        AVE        1177    10801    10859   \n",
            "3    148189       S       SANGAMON         ST        1696        0        0   \n",
            "4    139728       W          118TH         ST        1823     1933     1959   \n",
            "\n",
            "   ...      LENGTH  EDIT_DATE  EWNS_DIR  EWNS_COORD  CREATE_USE  \\\n",
            "0  ...  220.566014          0         W         232    EXISTING   \n",
            "1  ...  664.774635          0         W           0    EXISTING   \n",
            "2  ...  665.378484          0         W        2500    EXISTING   \n",
            "3  ...  152.564889          0         W         932    EXISTING   \n",
            "4  ...  332.691371          0         S       11800    EXISTING   \n",
            "\n",
            "                     CREATE_TIM UPDATE_USE                    UPDATE_TIM  \\\n",
            "0  01/01/1999 08:00:00 AM +0000   EXISTING  01/01/1999 08:00:00 AM +0000   \n",
            "1  01/01/1999 08:00:00 AM +0000   EXISTING  01/01/1999 08:00:00 AM +0000   \n",
            "2  01/01/1999 08:00:00 AM +0000   EXISTING  01/01/1999 08:00:00 AM +0000   \n",
            "3  01/01/1999 08:00:00 AM +0000   EXISTING  01/01/1999 08:00:00 AM +0000   \n",
            "4  01/01/1999 08:00:00 AM +0000   EXISTING  01/01/1999 08:00:00 AM +0000   \n",
            "\n",
            "    SHAPE_LEN EWNS_DIR_CODE  \n",
            "0  220.566012             3  \n",
            "1  664.774607             3  \n",
            "2  665.378453             3  \n",
            "3  152.564966             3  \n",
            "4  332.691382             2  \n",
            "\n",
            "[5 rows x 47 columns]\n"
          ]
        }
      ],
      "source": [
        "missing_values = []\n",
        "\n",
        "for street_typ, count in missing_distribution_adjusted.items():\n",
        "    missing_values.extend([street_typ] * count)\n",
        "\n",
        "np.random.shuffle(missing_values)\n",
        "\n",
        "def fill_missing_street_typ(row):\n",
        "    if pd.isna(row['STREET_TYP']):\n",
        "        return missing_values.pop()\n",
        "    return row['STREET_TYP']\n",
        "\n",
        "street_boundary['STREET_TYP'] = street_boundary.apply(fill_missing_street_typ, axis=1)\n",
        "\n",
        "remaining_missing_typ = street_boundary['STREET_TYP'].isna().sum()\n",
        "print(f'Remaining missing STREET_TYP: {remaining_missing_typ}')\n",
        "\n",
        "print(street_boundary.head())\n"
      ]
    },
    {
      "cell_type": "code",
      "execution_count": 108,
      "id": "e3393243",
      "metadata": {},
      "outputs": [
        {
          "name": "stdout",
          "output_type": "stream",
          "text": [
            "Missing STREET_TYP: 0\n"
          ]
        }
      ],
      "source": [
        "print(\"Missing STREET_TYP:\", street_boundary['STREET_TYP'].isnull().sum())"
      ]
    },
    {
      "cell_type": "markdown",
      "id": "94c9c01b",
      "metadata": {},
      "source": [
        "Fill missing values in the STATUS column with the mode of the column."
      ]
    },
    {
      "cell_type": "code",
      "execution_count": 109,
      "id": "e6685925",
      "metadata": {},
      "outputs": [],
      "source": [
        "street_boundary['STATUS'].fillna(street_boundary['STATUS'].mode()[0], inplace=True)"
      ]
    },
    {
      "cell_type": "code",
      "execution_count": 110,
      "id": "e71011d9",
      "metadata": {},
      "outputs": [
        {
          "name": "stdout",
          "output_type": "stream",
          "text": [
            "shape is (55410, 47)\n",
            "the_geom         0\n",
            "FNODE_ID         0\n",
            "TNODE_ID         0\n",
            "TRANS_ID         0\n",
            "PRE_DIR          0\n",
            "STREET_NAM       0\n",
            "STREET_TYP       0\n",
            "STREETNAME       0\n",
            "L_F_ADD          0\n",
            "L_T_ADD          0\n",
            "R_F_ADD          0\n",
            "R_T_ADD          0\n",
            "LOGICLF          0\n",
            "LOGICLT          0\n",
            "LOGICRF          0\n",
            "LOGICRT          0\n",
            "CLASS            0\n",
            "STATUS           0\n",
            "STATUS_DAT       0\n",
            "TIERED           0\n",
            "ONEWAY_DIR       0\n",
            "DIR_TRAVEL       0\n",
            "EWNS             0\n",
            "L_PARITY         0\n",
            "R_PARITY         0\n",
            "F_ZLEV           0\n",
            "T_ZLEV           0\n",
            "L_FIPS           0\n",
            "R_FIPS           0\n",
            "R_ZIP            0\n",
            "L_ZIP            0\n",
            "R_CENSUSBL       0\n",
            "L_CENSUSBL       0\n",
            "F_CROSS          0\n",
            "F_CROSS_ST       0\n",
            "T_CROSS          0\n",
            "T_CROSS_ST       0\n",
            "LENGTH           0\n",
            "EDIT_DATE        0\n",
            "EWNS_DIR         0\n",
            "EWNS_COORD       0\n",
            "CREATE_USE       0\n",
            "CREATE_TIM       0\n",
            "UPDATE_USE       0\n",
            "UPDATE_TIM       0\n",
            "SHAPE_LEN        0\n",
            "EWNS_DIR_CODE    0\n"
          ]
        }
      ],
      "source": [
        "print(f'shape is {street_boundary.shape}')\n",
        "print(street_boundary.isnull().sum().to_string())"
      ]
    },
    {
      "cell_type": "markdown",
      "id": "yRj68zIJaIAW",
      "metadata": {
        "id": "yRj68zIJaIAW"
      },
      "source": [
        "### [2]"
      ]
    },
    {
      "cell_type": "code",
      "execution_count": null,
      "id": "yrYgfSZ-aIAW",
      "metadata": {
        "id": "yrYgfSZ-aIAW"
      },
      "outputs": [],
      "source": []
    },
    {
      "cell_type": "markdown",
      "id": "2f22713d",
      "metadata": {
        "id": "2f22713d"
      },
      "source": [
        "# [b] From Raw to Information"
      ]
    },
    {
      "cell_type": "markdown",
      "id": "03ef90d1",
      "metadata": {
        "id": "03ef90d1"
      },
      "source": [
        "### [i]\n"
      ]
    },
    {
      "cell_type": "code",
      "execution_count": 77,
      "id": "c1b8c64b",
      "metadata": {
        "id": "c1b8c64b"
      },
      "outputs": [],
      "source": [
        "def year(x):\n",
        "    match=re.search(r'\\b\\d{4}\\b',x)\n",
        "    if match:\n",
        "        return int(match.group())\n",
        "    else:\n",
        "        return None\n",
        "\n",
        "crashes['CRASH_YEAR']=crashes['CRASH_DATE'].apply(year)"
      ]
    },
    {
      "cell_type": "markdown",
      "id": "24164796",
      "metadata": {
        "id": "24164796"
      },
      "source": [
        "### [ii]"
      ]
    },
    {
      "cell_type": "code",
      "execution_count": null,
      "id": "SexYXq1-P0Y0",
      "metadata": {
        "id": "SexYXq1-P0Y0"
      },
      "outputs": [],
      "source": []
    },
    {
      "cell_type": "markdown",
      "id": "KFerFDFqPwPI",
      "metadata": {
        "id": "KFerFDFqPwPI"
      },
      "source": [
        "### [iii]"
      ]
    },
    {
      "cell_type": "code",
      "execution_count": null,
      "id": "zU65GmMbP2Sm",
      "metadata": {
        "id": "zU65GmMbP2Sm"
      },
      "outputs": [],
      "source": []
    },
    {
      "cell_type": "markdown",
      "id": "-4LEgCtvPwaQ",
      "metadata": {
        "id": "-4LEgCtvPwaQ"
      },
      "source": [
        "### [iv]"
      ]
    },
    {
      "cell_type": "code",
      "execution_count": null,
      "id": "d81d9f99",
      "metadata": {
        "id": "d81d9f99"
      },
      "outputs": [],
      "source": []
    },
    {
      "cell_type": "markdown",
      "id": "ZgzDVRqCQ72Q",
      "metadata": {
        "id": "ZgzDVRqCQ72Q"
      },
      "source": [
        "### [v]"
      ]
    },
    {
      "cell_type": "code",
      "execution_count": null,
      "id": "3WFp0g3DQ72V",
      "metadata": {
        "id": "3WFp0g3DQ72V"
      },
      "outputs": [],
      "source": []
    },
    {
      "cell_type": "markdown",
      "id": "UTlYx3JWcc7L",
      "metadata": {
        "id": "UTlYx3JWcc7L"
      },
      "source": [
        "### [vi]"
      ]
    },
    {
      "cell_type": "code",
      "execution_count": null,
      "id": "dZ6Df--Ucr1-",
      "metadata": {
        "id": "dZ6Df--Ucr1-"
      },
      "outputs": [],
      "source": []
    },
    {
      "cell_type": "markdown",
      "id": "0KyXMZRKcsIK",
      "metadata": {
        "id": "0KyXMZRKcsIK"
      },
      "source": [
        "### [vii]"
      ]
    },
    {
      "cell_type": "code",
      "execution_count": null,
      "id": "qwgJiWbgcuXE",
      "metadata": {
        "id": "qwgJiWbgcuXE"
      },
      "outputs": [],
      "source": []
    },
    {
      "cell_type": "markdown",
      "id": "dcHznoLocuqY",
      "metadata": {
        "id": "dcHznoLocuqY"
      },
      "source": [
        "### [viii]"
      ]
    },
    {
      "cell_type": "code",
      "execution_count": null,
      "id": "zd6ZEo6_cwpo",
      "metadata": {
        "id": "zd6ZEo6_cwpo"
      },
      "outputs": [],
      "source": []
    },
    {
      "cell_type": "markdown",
      "id": "R-0hR6ztc0xY",
      "metadata": {
        "id": "R-0hR6ztc0xY"
      },
      "source": [
        "### [ix]"
      ]
    },
    {
      "cell_type": "code",
      "execution_count": null,
      "id": "dK1x26VOc2jY",
      "metadata": {
        "id": "dK1x26VOc2jY"
      },
      "outputs": [],
      "source": []
    },
    {
      "cell_type": "markdown",
      "id": "TZJm-Oivc2yG",
      "metadata": {
        "id": "TZJm-Oivc2yG"
      },
      "source": [
        "### [x]"
      ]
    },
    {
      "cell_type": "code",
      "execution_count": null,
      "id": "jmvgtRgpc6Wj",
      "metadata": {
        "id": "jmvgtRgpc6Wj"
      },
      "outputs": [],
      "source": []
    },
    {
      "cell_type": "markdown",
      "id": "MKTBJq_rc6ma",
      "metadata": {
        "id": "MKTBJq_rc6ma"
      },
      "source": [
        "### [xi]"
      ]
    },
    {
      "cell_type": "code",
      "execution_count": null,
      "id": "CNcojABXc8Oz",
      "metadata": {
        "id": "CNcojABXc8Oz"
      },
      "outputs": [],
      "source": []
    },
    {
      "cell_type": "markdown",
      "id": "UTei1nDWc8gq",
      "metadata": {
        "id": "UTei1nDWc8gq"
      },
      "source": [
        "### [xii]"
      ]
    },
    {
      "cell_type": "code",
      "execution_count": null,
      "id": "UAN1LbB8c-MP",
      "metadata": {
        "id": "UAN1LbB8c-MP"
      },
      "outputs": [],
      "source": []
    },
    {
      "cell_type": "markdown",
      "id": "oFmJ2HWqRNZa",
      "metadata": {
        "id": "oFmJ2HWqRNZa"
      },
      "source": [
        "# Question [2]: Data Analysis and Information Discovery"
      ]
    },
    {
      "cell_type": "markdown",
      "id": "cwaCNfS9RNZc",
      "metadata": {
        "id": "cwaCNfS9RNZc"
      },
      "source": [
        "## [a] Traffic Accidents Causes\n"
      ]
    },
    {
      "cell_type": "markdown",
      "id": "quZY2NzKdak3",
      "metadata": {
        "id": "quZY2NzKdak3"
      },
      "source": [
        "### [i]"
      ]
    },
    {
      "cell_type": "code",
      "execution_count": null,
      "id": "LhllhojDRNZd",
      "metadata": {
        "id": "LhllhojDRNZd"
      },
      "outputs": [],
      "source": []
    },
    {
      "cell_type": "markdown",
      "id": "MbJeF_CxRNZd",
      "metadata": {
        "id": "MbJeF_CxRNZd"
      },
      "source": [
        "### [ii]"
      ]
    },
    {
      "cell_type": "code",
      "execution_count": null,
      "id": "M_bO-W2DRNZe",
      "metadata": {
        "id": "M_bO-W2DRNZe"
      },
      "outputs": [],
      "source": []
    },
    {
      "cell_type": "markdown",
      "id": "GY-HhD2YRNZe",
      "metadata": {
        "id": "GY-HhD2YRNZe"
      },
      "source": [
        "### [iii]"
      ]
    },
    {
      "cell_type": "code",
      "execution_count": null,
      "id": "l-5TSuHWRNZe",
      "metadata": {
        "id": "l-5TSuHWRNZe"
      },
      "outputs": [],
      "source": []
    },
    {
      "cell_type": "markdown",
      "id": "KV9D86kbRNZe",
      "metadata": {
        "id": "KV9D86kbRNZe"
      },
      "source": [
        "### [iv]"
      ]
    },
    {
      "cell_type": "code",
      "execution_count": null,
      "id": "WEmw6hSvaIAk",
      "metadata": {
        "id": "WEmw6hSvaIAk"
      },
      "outputs": [],
      "source": []
    },
    {
      "cell_type": "markdown",
      "id": "6dTzk35xd4pY",
      "metadata": {
        "id": "6dTzk35xd4pY"
      },
      "source": [
        "## [b] Traffic Accidents History\n"
      ]
    },
    {
      "cell_type": "markdown",
      "id": "Rqg6zBoxd4pk",
      "metadata": {
        "id": "Rqg6zBoxd4pk"
      },
      "source": [
        "### [i]"
      ]
    },
    {
      "cell_type": "code",
      "execution_count": null,
      "id": "fMfppNo3d4pk",
      "metadata": {
        "id": "fMfppNo3d4pk"
      },
      "outputs": [],
      "source": []
    },
    {
      "cell_type": "markdown",
      "id": "hqpVwqNQd4pk",
      "metadata": {
        "id": "hqpVwqNQd4pk"
      },
      "source": [
        "### [ii]"
      ]
    },
    {
      "cell_type": "code",
      "execution_count": null,
      "id": "WFJj7HVsd4pl",
      "metadata": {
        "id": "WFJj7HVsd4pl"
      },
      "outputs": [],
      "source": []
    },
    {
      "cell_type": "markdown",
      "id": "7ywxrpjEd4pl",
      "metadata": {
        "id": "7ywxrpjEd4pl"
      },
      "source": [
        "### [iii]"
      ]
    },
    {
      "cell_type": "code",
      "execution_count": null,
      "id": "jq6v4j4bd4pl",
      "metadata": {
        "id": "jq6v4j4bd4pl"
      },
      "outputs": [],
      "source": []
    },
    {
      "cell_type": "markdown",
      "id": "3mPytH1Ad4pm",
      "metadata": {
        "id": "3mPytH1Ad4pm"
      },
      "source": [
        "### [iv]"
      ]
    },
    {
      "cell_type": "code",
      "execution_count": null,
      "id": "tCL5muMwd4pm",
      "metadata": {
        "id": "tCL5muMwd4pm"
      },
      "outputs": [],
      "source": []
    },
    {
      "cell_type": "markdown",
      "id": "6Dp_7NdVeAWK",
      "metadata": {
        "id": "6Dp_7NdVeAWK"
      },
      "source": [
        "## [c] Spatial Analysis\n"
      ]
    },
    {
      "cell_type": "markdown",
      "id": "e2to6wVaeAWW",
      "metadata": {
        "id": "e2to6wVaeAWW"
      },
      "source": [
        "### [i]"
      ]
    },
    {
      "cell_type": "code",
      "execution_count": null,
      "id": "QirBD8yteAWX",
      "metadata": {
        "id": "QirBD8yteAWX"
      },
      "outputs": [],
      "source": []
    },
    {
      "cell_type": "markdown",
      "id": "DHZHblbPeAWY",
      "metadata": {
        "id": "DHZHblbPeAWY"
      },
      "source": [
        "### [ii]"
      ]
    },
    {
      "cell_type": "code",
      "execution_count": null,
      "id": "j6trSBVBeAWY",
      "metadata": {
        "id": "j6trSBVBeAWY"
      },
      "outputs": [],
      "source": []
    },
    {
      "cell_type": "markdown",
      "id": "J1XnOwp6eAWZ",
      "metadata": {
        "id": "J1XnOwp6eAWZ"
      },
      "source": [
        "### [iii]"
      ]
    },
    {
      "cell_type": "code",
      "execution_count": null,
      "id": "mhS7WQ7AeAWZ",
      "metadata": {
        "id": "mhS7WQ7AeAWZ"
      },
      "outputs": [],
      "source": []
    },
    {
      "cell_type": "markdown",
      "id": "MZtfaCLYeAWa",
      "metadata": {
        "id": "MZtfaCLYeAWa"
      },
      "source": [
        "### [iv]"
      ]
    },
    {
      "cell_type": "code",
      "execution_count": null,
      "id": "3FESeVXKeAWa",
      "metadata": {
        "id": "3FESeVXKeAWa"
      },
      "outputs": [],
      "source": []
    },
    {
      "cell_type": "markdown",
      "id": "PzjfcPyAeAWa",
      "metadata": {
        "id": "PzjfcPyAeAWa"
      },
      "source": [
        "### [v]"
      ]
    },
    {
      "cell_type": "code",
      "execution_count": null,
      "id": "9M9g76oGeAWa",
      "metadata": {
        "id": "9M9g76oGeAWa"
      },
      "outputs": [],
      "source": []
    },
    {
      "cell_type": "markdown",
      "id": "MIjqzq5MeMIU",
      "metadata": {
        "id": "MIjqzq5MeMIU"
      },
      "source": [
        "### [vi]"
      ]
    },
    {
      "cell_type": "code",
      "execution_count": null,
      "id": "b81glhSgeNiJ",
      "metadata": {
        "id": "b81glhSgeNiJ"
      },
      "outputs": [],
      "source": []
    },
    {
      "cell_type": "markdown",
      "id": "-cPesMAUeZlA",
      "metadata": {
        "id": "-cPesMAUeZlA"
      },
      "source": [
        "## [d] Passengers Cases Analysis\n"
      ]
    },
    {
      "cell_type": "markdown",
      "id": "raEHMSUQeZlb",
      "metadata": {
        "id": "raEHMSUQeZlb"
      },
      "source": [
        "### [i]"
      ]
    },
    {
      "cell_type": "code",
      "execution_count": null,
      "id": "iIMUZnDeeZlb",
      "metadata": {
        "id": "iIMUZnDeeZlb"
      },
      "outputs": [],
      "source": []
    },
    {
      "cell_type": "markdown",
      "id": "X-zFJTJieZlc",
      "metadata": {
        "id": "X-zFJTJieZlc"
      },
      "source": [
        "### [ii]"
      ]
    },
    {
      "cell_type": "code",
      "execution_count": null,
      "id": "P4-S6MkIeZld",
      "metadata": {
        "id": "P4-S6MkIeZld"
      },
      "outputs": [],
      "source": []
    },
    {
      "cell_type": "markdown",
      "id": "tVnxBhLieZle",
      "metadata": {
        "id": "tVnxBhLieZle"
      },
      "source": [
        "### [iii]"
      ]
    },
    {
      "cell_type": "code",
      "execution_count": null,
      "id": "aq54XjPUeZlf",
      "metadata": {
        "id": "aq54XjPUeZlf"
      },
      "outputs": [],
      "source": []
    },
    {
      "cell_type": "markdown",
      "id": "dzHUwdJueZlg",
      "metadata": {
        "id": "dzHUwdJueZlg"
      },
      "source": [
        "### [iv]"
      ]
    },
    {
      "cell_type": "code",
      "execution_count": null,
      "id": "hKFxYNwYeZlh",
      "metadata": {
        "id": "hKFxYNwYeZlh"
      },
      "outputs": [],
      "source": []
    },
    {
      "cell_type": "markdown",
      "id": "85-_mi-seuKP",
      "metadata": {
        "id": "85-_mi-seuKP"
      },
      "source": [
        "### [v]"
      ]
    },
    {
      "cell_type": "code",
      "execution_count": null,
      "id": "tZp2KXsgevdz",
      "metadata": {
        "id": "tZp2KXsgevdz"
      },
      "outputs": [],
      "source": []
    },
    {
      "cell_type": "markdown",
      "id": "RO4O_33Ve6FC",
      "metadata": {
        "id": "RO4O_33Ve6FC"
      },
      "source": [
        "## [e] Outlier Detection"
      ]
    },
    {
      "cell_type": "markdown",
      "id": "vAuGM0vwe_Ah",
      "metadata": {
        "id": "vAuGM0vwe_Ah"
      },
      "source": [
        "### [i]"
      ]
    },
    {
      "cell_type": "code",
      "execution_count": null,
      "id": "f7dTCIA3fAYt",
      "metadata": {
        "id": "f7dTCIA3fAYt"
      },
      "outputs": [],
      "source": []
    },
    {
      "cell_type": "markdown",
      "id": "4j76jD0Vmh7R",
      "metadata": {
        "id": "4j76jD0Vmh7R"
      },
      "source": [
        "# Question [4]: Do What you Have to Do"
      ]
    },
    {
      "cell_type": "code",
      "execution_count": null,
      "id": "WKLTgh05m3pR",
      "metadata": {
        "id": "WKLTgh05m3pR"
      },
      "outputs": [],
      "source": []
    }
  ],
  "metadata": {
    "colab": {
      "collapsed_sections": [
        "-4LEgCtvPwaQ",
        "MbJeF_CxRNZd",
        "GY-HhD2YRNZe"
      ],
      "provenance": []
    },
    "kernelspec": {
      "display_name": "Python 3",
      "name": "python3"
    },
    "language_info": {
      "codemirror_mode": {
        "name": "ipython",
        "version": 3
      },
      "file_extension": ".py",
      "mimetype": "text/x-python",
      "name": "python",
      "nbconvert_exporter": "python",
      "pygments_lexer": "ipython3",
      "version": "3.12.0"
    }
  },
  "nbformat": 4,
  "nbformat_minor": 5
}
